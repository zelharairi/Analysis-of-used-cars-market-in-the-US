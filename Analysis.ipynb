{
 "cells": [
  {
   "cell_type": "markdown",
   "metadata": {
    "application/vnd.databricks.v1+cell": {
     "cellMetadata": {
      "byteLimit": 2048000,
      "rowLimit": 10000
     },
     "inputWidgets": {},
     "nuid": "800cc9f3-a835-419d-adc8-bea65598df13",
     "showTitle": false,
     "title": ""
    }
   },
   "source": [
    "\n",
    "Cloud Technologies Assignment\n",
    "\n",
    "Ziad Elharairi\n",
    "\n",
    "The dataset used in the following notebook can be found on Kaggle: https://www.kaggle.com/datasets/ayaz11/used-car-price-prediction\n",
    "\n",
    "The dataset includes data for used cars with different brands, model year, miles, color, accidents and price.\n",
    "\n",
    "I have divided the dataset to 3 dataframes:\n",
    "1. Model manufacturtered in 2022 and 2023\n",
    "2. Model manufacturtered in 2020 and 2021\n",
    "3. Model manufacturtered in 2018 and 2019\n",
    "\n",
    "Queries:\n",
    "1. Minimum price in each dataframe\n",
    "2. Maximum price in each dataframe\n",
    "3. Most sold carbrand and model each year between 2018-2023\n",
    "4. Ratio of accidents to car color\n",
    "5. Ratio of accidents to car miles\n",
    "6. Ratio of accidents to car brand\n",
    "7. Average miles for cars for each each between 2018-2023\n",
    "\n",
    "\n"
   ]
  },
  {
   "cell_type": "code",
   "execution_count": 0,
   "metadata": {
    "application/vnd.databricks.v1+cell": {
     "cellMetadata": {
      "byteLimit": 2048000,
      "rowLimit": 10000
     },
     "inputWidgets": {},
     "nuid": "e7f24220-4d0d-4244-b5b7-7e7669c8ffaf",
     "showTitle": false,
     "title": ""
    }
   },
   "outputs": [
    {
     "output_type": "display_data",
     "data": {
      "text/html": [
       "<style scoped>\n",
       "  .table-result-container {\n",
       "    max-height: 300px;\n",
       "    overflow: auto;\n",
       "  }\n",
       "  table, th, td {\n",
       "    border: 1px solid black;\n",
       "    border-collapse: collapse;\n",
       "  }\n",
       "  th, td {\n",
       "    padding: 5px;\n",
       "  }\n",
       "  th {\n",
       "    text-align: left;\n",
       "  }\n",
       "</style><div class='table-result-container'><table class='table-result'><thead style='background-color: white'><tr><th>BrandModel</th><th>year</th><th>miles</th><th>color</th><th>condition</th><th>price</th></tr></thead><tbody><tr><td>Honda Accord</td><td>2019</td><td>4,148 miles</td><td>Black exterior, Black interior</td><td>1 accident reported, 1 Owner</td><td>20998</td></tr><tr><td>Mercedes-Benz GLC</td><td>2018</td><td>57,602 miles</td><td>Blue exterior, Unknown interior</td><td>1 accident reported, 3 Owners</td><td>18887</td></tr><tr><td>Jeep Wrangler</td><td>2018</td><td>44,099 miles</td><td>Gray exterior, Black interior</td><td>No accidents reported, 2 Owners</td><td>30998</td></tr><tr><td>Mercedes-Benz C-Class</td><td>2018</td><td>83,424 miles</td><td>White exterior, Black interior</td><td>1 accident reported, 2 Owners</td><td>18285</td></tr><tr><td>Honda Odyssey</td><td>2019</td><td>61,318 miles</td><td>Black exterior, Brown interior</td><td>No accidents reported, 1 Owner</td><td>26998</td></tr><tr><td>Honda CR-V</td><td>2019</td><td>17,123 miles</td><td>Gray exterior, Black interior</td><td>1 accident reported, 1 Owner</td><td>24498</td></tr><tr><td>Chrysler Pacifica</td><td>2018</td><td>73,428 miles</td><td>White exterior, Black interior</td><td>No accidents reported, 2 Owners</td><td>19998</td></tr><tr><td>Volkswagen Tiguan</td><td>2019</td><td>50,950 miles</td><td>Gray exterior, Black interior</td><td>No accidents reported, 1 Owner</td><td>20998</td></tr><tr><td>Jeep Wrangler</td><td>2019</td><td>58,038 miles</td><td>White exterior, Black interior</td><td>No accidents reported, 3 Owners</td><td>27998</td></tr><tr><td>Honda Accord</td><td>2019</td><td>58,575 miles</td><td>White exterior, Black interior</td><td>No accidents reported, 2 Owners</td><td>21788</td></tr><tr><td>Mercedes-Benz GLC</td><td>2019</td><td>67,648 miles</td><td>Black exterior, Black interior</td><td>No accidents reported, 2 Owners</td><td>22999</td></tr><tr><td>Jeep Grand Cherokee</td><td>2018</td><td>67,086 miles</td><td>White exterior, Black interior</td><td>No accidents reported, 2 Owners</td><td>24998</td></tr><tr><td>Honda Odyssey</td><td>2019</td><td>51,617 miles</td><td>Silver exterior, Brown interior</td><td>1 accident reported, 1 Owner</td><td>28998</td></tr><tr><td>Nissan Sentra</td><td>2019</td><td>50,045 miles</td><td>Gray exterior, Black interior</td><td>No accidents reported, 2 Owners</td><td>16998</td></tr><tr><td>Volvo S90</td><td>2019</td><td>30,202 miles</td><td>Black exterior, Black interior</td><td>No accidents reported, 2 Owners</td><td>26989</td></tr><tr><td>Mercedes-Benz GLS</td><td>2019</td><td>22,998 miles</td><td>Silver exterior, Black interior</td><td>1 accident reported, 1 Owner</td><td>39999</td></tr><tr><td>Toyota Camry</td><td>2018</td><td>13,411 miles</td><td>Black exterior, Black interior</td><td>1 accident reported, 1 Owner</td><td>24998</td></tr><tr><td>BMW 7 Series</td><td>2019</td><td>66,896 miles</td><td>Black exterior, Black interior</td><td>No accidents reported, 1 Owner</td><td>28624</td></tr><tr><td>Ford Fusion</td><td>2018</td><td>67,207 miles</td><td>Gray exterior, Black interior</td><td>No accidents reported, 2 Owners</td><td>16998</td></tr><tr><td>Lexus LX</td><td>2018</td><td>60,028 miles</td><td>White exterior, Red interior</td><td>3 accidents reported, 1 Owner</td><td>53998</td></tr><tr><td>Toyota Tacoma</td><td>2019</td><td>48,925 miles</td><td>Gray exterior, Gray interior</td><td>No accidents reported, 2 Owners</td><td>27555</td></tr><tr><td>Ford Transit Connect Van</td><td>2019</td><td>66,478 miles</td><td>White exterior, Black interior</td><td>No accidents reported, 1 Owner</td><td>22995</td></tr><tr><td>Volvo S60</td><td>2018</td><td>55,196 miles</td><td>Gray exterior, Black interior</td><td>No accidents reported, 2 Owners</td><td>18975</td></tr><tr><td>Chrysler Pacifica</td><td>2018</td><td>73,428 miles</td><td>White exterior, Black interior</td><td>No accidents reported, 2 Owners</td><td>19998</td></tr><tr><td>Maserati Quattroporte</td><td>2019</td><td>66,469 miles</td><td>Blue exterior, Brown interior</td><td>No accidents reported, 1 Owner</td><td>28421</td></tr><tr><td>Volvo XC90</td><td>2018</td><td>51,994 miles</td><td>Silver exterior, Black interior</td><td>No accidents reported, 1 Owner</td><td>24999</td></tr><tr><td>Land Rover Range Rover</td><td>2018</td><td>35,993 miles</td><td>White exterior, Black interior</td><td>No accidents reported, 2 Owners</td><td>47999</td></tr><tr><td>Ford Fusion</td><td>2018</td><td>61,962 miles</td><td>Blue exterior, Black interior</td><td>No accidents reported, 1 Owner</td><td>14788</td></tr><tr><td>Volkswagen Tiguan</td><td>2019</td><td>50,950 miles</td><td>Gray exterior, Black interior</td><td>No accidents reported, 1 Owner</td><td>20998</td></tr><tr><td>Mercedes-Benz E-Class</td><td>2019</td><td>38,783 miles</td><td>White exterior, Black interior</td><td>No accidents reported, 1 Owner</td><td>29750</td></tr><tr><td>Dodge Charger</td><td>2019</td><td>42,526 miles</td><td>White exterior, Black interior</td><td>No accidents reported, 1 Owner</td><td>18000</td></tr><tr><td>Chevrolet Malibu</td><td>2018</td><td>84,208 miles</td><td>White exterior, Black interior</td><td>No accidents reported, 3 Owners</td><td>10995</td></tr><tr><td>Ford Ranger</td><td>2019</td><td>45,072 miles</td><td>Gray exterior, Black interior</td><td>No accidents reported, 1 Owner</td><td>26495</td></tr><tr><td>Chevrolet Tahoe</td><td>2018</td><td>33,118 miles</td><td>Black exterior, Black interior</td><td>No accidents reported, 1 Owner</td><td>36295</td></tr><tr><td>Jeep Wrangler</td><td>2019</td><td>58,038 miles</td><td>White exterior, Black interior</td><td>No accidents reported, 3 Owners</td><td>27998</td></tr><tr><td>Land Rover Range Rover Velar</td><td>2019</td><td>26,989 miles</td><td>White exterior, Unknown interior</td><td>No accidents reported, 1 Owner</td><td>44395</td></tr><tr><td>Jeep Wrangler</td><td>2018</td><td>50,216 miles</td><td>White exterior, Black interior</td><td>1 accident reported, 3 Owners</td><td>24000</td></tr><tr><td>Toyota Tacoma</td><td>2019</td><td>48,925 miles</td><td>Gray exterior, Gray interior</td><td>No accidents reported, 2 Owners</td><td>27555</td></tr><tr><td>Ford Transit Connect Van</td><td>2019</td><td>66,478 miles</td><td>White exterior, Black interior</td><td>No accidents reported, 1 Owner</td><td>22995</td></tr><tr><td>Mercedes-Benz GLC</td><td>2019</td><td>37,682 miles</td><td>Black exterior, Black interior</td><td>No accidents reported, 1 Owner</td><td>26998</td></tr><tr><td>Honda Civic</td><td>2019</td><td>45,246 miles</td><td>White exterior, Black interior</td><td>No accidents reported, 2 Owners</td><td>21998</td></tr><tr><td>Volvo S60</td><td>2018</td><td>55,196 miles</td><td>Gray exterior, Black interior</td><td>No accidents reported, 2 Owners</td><td>18975</td></tr><tr><td>Volkswagen Tiguan</td><td>2019</td><td>73,055 miles</td><td>White exterior, Black interior</td><td>No accidents reported, 1 Owner</td><td>18998</td></tr><tr><td>Honda Odyssey</td><td>2019</td><td>51,617 miles</td><td>Silver exterior, Brown interior</td><td>1 accident reported, 1 Owner</td><td>28998</td></tr><tr><td>Subaru WRX</td><td>2019</td><td>38,318 miles</td><td>Gray exterior, Black interior</td><td>No accidents reported, 4 Owners</td><td>26298</td></tr><tr><td>Volkswagen Jetta</td><td>2019</td><td>19,267 miles</td><td>White exterior, Black interior</td><td>No accidents reported, 1 Owner</td><td>17991</td></tr><tr><td>Nissan Sentra</td><td>2019</td><td>50,045 miles</td><td>Gray exterior, Black interior</td><td>No accidents reported, 2 Owners</td><td>16998</td></tr><tr><td>Honda Civic</td><td>2018</td><td>77,068 miles</td><td>White exterior, Gray interior</td><td>No accidents reported, 3 Owners</td><td>14987</td></tr><tr><td>Chevrolet Silverado 1500</td><td>2018</td><td>20,165 miles</td><td>Gray exterior, Black interior</td><td>No accidents reported, 1 Owner</td><td>41000</td></tr><tr><td>Toyota Camry</td><td>2018</td><td>13,411 miles</td><td>Black exterior, Black interior</td><td>1 accident reported, 1 Owner</td><td>24998</td></tr><tr><td>Land Rover Range Rover Velar</td><td>2019</td><td>26,989 miles</td><td>White exterior, Unknown interior</td><td>No accidents reported, 1 Owner</td><td>44395</td></tr><tr><td>Jeep Wrangler</td><td>2018</td><td>50,216 miles</td><td>White exterior, Black interior</td><td>1 accident reported, 3 Owners</td><td>24000</td></tr><tr><td>Audi Q3</td><td>2018</td><td>34,641 miles</td><td>White exterior, Black interior</td><td>No accidents reported, 1 Owner</td><td>23998</td></tr><tr><td>BMW 3 Series</td><td>2018</td><td>56,467 miles</td><td>White exterior, Black interior</td><td>1 accident reported, 2 Owners</td><td>22998</td></tr><tr><td>Jeep Grand Cherokee</td><td>2018</td><td>48,895 miles</td><td>Gray exterior, Black interior</td><td>2 accidents reported, 1 Owner</td><td>22995</td></tr><tr><td>Jeep Compass</td><td>2019</td><td>84,793 miles</td><td>Black exterior, Black interior</td><td>1 accident reported, 3 Owners</td><td>17998</td></tr><tr><td>Nissan Pathfinder</td><td>2019</td><td>61,819 miles</td><td>Silver exterior, Black interior</td><td>No accidents reported, 3 Owners</td><td>17988</td></tr><tr><td>Mercedes-Benz C-Class</td><td>2019</td><td>32,753 miles</td><td>White exterior, Black interior</td><td>No accidents reported, 2 Owners</td><td>32446</td></tr><tr><td>Mazda Mazda3</td><td>2018</td><td>67,973 miles</td><td>Red exterior, Black interior</td><td>1 accident reported, 2 Owners</td><td>17998</td></tr><tr><td>BMW 4 Series</td><td>2019</td><td>53,278 miles</td><td>White exterior, White interior</td><td>No accidents reported, 2 Owners</td><td>28998</td></tr><tr><td>Dodge Charger</td><td>2019</td><td>42,531 miles</td><td>White exterior, Black interior</td><td>No accidents reported, 1 Owner</td><td>18700</td></tr><tr><td>Dodge Grand Caravan</td><td>2019</td><td>89,118 miles</td><td>Gray exterior, Black interior</td><td>No accidents reported, 2 Owners</td><td>12650</td></tr><tr><td>BMW X1</td><td>2018</td><td>52,323 miles</td><td>Black exterior, Black interior</td><td>No accidents reported, 1 Owner</td><td>21998</td></tr><tr><td>Volkswagen Jetta</td><td>2019</td><td>39,057 miles</td><td>Black exterior, Gray interior</td><td>No accidents reported, 1 Owner</td><td>15190</td></tr><tr><td>Subaru WRX</td><td>2018</td><td>12,876 miles</td><td>White exterior, Black interior</td><td>No accidents reported, 1 Owner</td><td>28598</td></tr><tr><td>Buick Encore</td><td>2019</td><td>26,251 miles</td><td>Red exterior, Black interior</td><td>No accidents reported, 1 Owner</td><td>18798</td></tr><tr><td>Honda Accord</td><td>2018</td><td>19,668 miles</td><td>Gray exterior, Black interior</td><td>No accidents reported, 1 Owner</td><td>23998</td></tr><tr><td>Ford Fusion</td><td>2019</td><td>20,687 miles</td><td>White exterior, Black interior</td><td>No accidents reported, 1 Owner</td><td>22998</td></tr><tr><td>Cadillac XT5</td><td>2018</td><td>86,034 miles</td><td>Black exterior, Black interior</td><td>No accidents reported, 1 Owner</td><td>21998</td></tr><tr><td>Lexus ES</td><td>2019</td><td>18,131 miles</td><td>Black exterior, Black interior</td><td>2 accidents reported, 1 Owner</td><td>30369</td></tr><tr><td>Ford Transit Passenger Wagon</td><td>2018</td><td>49,057 miles</td><td>White exterior, Black interior</td><td>No accidents reported, 2 Owners</td><td>37997</td></tr><tr><td>INFINITI Q50</td><td>2019</td><td>51,091 miles</td><td>White exterior, Gray interior</td><td>No accidents reported, 1 Owner</td><td>21333</td></tr><tr><td>Audi A4</td><td>2018</td><td>50,012 miles</td><td>Black exterior, Black interior</td><td>1 accident reported, 2 Owners</td><td>23222</td></tr><tr><td>Acura RDX</td><td>2018</td><td>29,848 miles</td><td>Black exterior, Black interior</td><td>1 accident reported, 3 Owners</td><td>24998</td></tr><tr><td>Hyundai Tucson</td><td>2018</td><td>93,594 miles</td><td>Gray exterior, Black interior</td><td>No accidents reported, 1 Owner</td><td>16998</td></tr><tr><td>Mercedes-Benz C-Class</td><td>2019</td><td>16,529 miles</td><td>Black exterior, Black interior</td><td>1 accident reported, 1 Owner</td><td>28998</td></tr><tr><td>Dodge Challenger</td><td>2018</td><td>49,734 miles</td><td>White exterior, Black interior</td><td>No accidents reported, 2 Owners</td><td>22998</td></tr><tr><td>Mercedes-Benz GLA</td><td>2019</td><td>34,972 miles</td><td>Black exterior, Black interior</td><td>No accidents reported, 2 Owners</td><td>22142</td></tr><tr><td>Jeep Wrangler</td><td>2019</td><td>67,771 miles</td><td>White exterior, Black interior</td><td>No accidents reported, 2 Owners</td><td>25988</td></tr><tr><td>Land Rover Range Rover Velar</td><td>2018</td><td>33,452 miles</td><td>White exterior, Black interior</td><td>1 accident reported, 2 Owners</td><td>35998</td></tr><tr><td>Ford Transit Passenger Wagon</td><td>2019</td><td>47,789 miles</td><td>White exterior, Gray interior</td><td>No accidents reported, 1 Owner</td><td>49995</td></tr><tr><td>Ford Explorer</td><td>2018</td><td>47,760 miles</td><td>White exterior, Black interior</td><td>No accidents reported, 2 Owners</td><td>22333</td></tr><tr><td>Dodge Challenger</td><td>2019</td><td>64,587 miles</td><td>Gray exterior, Black interior</td><td>1 accident reported, 1 Owner</td><td>21449</td></tr><tr><td>Mercedes-Benz E-Class</td><td>2019</td><td>41,075 miles</td><td>Black exterior, Black interior</td><td>1 accident reported, 1 Owner</td><td>26991</td></tr><tr><td>Honda Accord</td><td>2018</td><td>34,889 miles</td><td>Blue exterior, Black interior</td><td>No accidents reported, 2 Owners</td><td>24400</td></tr><tr><td>Jaguar XF</td><td>2018</td><td>38,894 miles</td><td>Gray exterior, Beige interior</td><td>No accidents reported, 3 Owners</td><td>22444</td></tr><tr><td>Chevrolet Silverado 1500</td><td>2018</td><td>50,079 miles</td><td>White exterior, Black interior</td><td>No accidents reported, 4 Owners</td><td>24777</td></tr><tr><td>Mercedes-Benz C-Class</td><td>2018</td><td>55,367 miles</td><td>White exterior, Black interior</td><td>No accidents reported, 2 Owners</td><td>24166</td></tr><tr><td>Volkswagen Jetta</td><td>2019</td><td>33,822 miles</td><td>Black exterior, Black interior</td><td>No accidents reported, 1 Owner</td><td>15444</td></tr><tr><td>Jeep Wrangler</td><td>2018</td><td>27,646 miles</td><td>Red exterior, Black interior</td><td>1 accident reported, 2 Owners</td><td>26260</td></tr><tr><td>Ford Transit Passenger Wagon</td><td>2018</td><td>49,057 miles</td><td>White exterior, Black interior</td><td>No accidents reported, 2 Owners</td><td>37997</td></tr><tr><td>Mercedes-Benz C-Class</td><td>2018</td><td>59,696 miles</td><td>White exterior, Black interior</td><td>2 accidents reported, 2 Owners</td><td>21998</td></tr><tr><td>Ford F-150</td><td>2019</td><td>112,327 miles</td><td>White exterior, Gray interior</td><td>No accidents reported, 1 Owner</td><td>19998</td></tr><tr><td>Jaguar F-PACE</td><td>2019</td><td>47,051 miles</td><td>Black exterior, Unknown interior</td><td>No accidents reported, 1 Owner</td><td>29013</td></tr><tr><td>Ford Fusion</td><td>2018</td><td>86,182 miles</td><td>White exterior, Black interior</td><td>1 accident reported, 2 Owners</td><td>13995</td></tr><tr><td>Mercedes-Benz C-Class</td><td>2019</td><td>49,842 miles</td><td>Black exterior, Black interior</td><td>No accidents reported, 2 Owners</td><td>25163</td></tr><tr><td>Toyota Tacoma</td><td>2019</td><td>27,160 miles</td><td>Gray exterior, Black interior</td><td>2 accidents reported, 1 Owner</td><td>33998</td></tr><tr><td>Honda Accord</td><td>2018</td><td>34,889 miles</td><td>Blue exterior, Black interior</td><td>No accidents reported, 2 Owners</td><td>24400</td></tr><tr><td>Jaguar XF</td><td>2018</td><td>38,894 miles</td><td>Gray exterior, Beige interior</td><td>No accidents reported, 3 Owners</td><td>22444</td></tr><tr><td>Chevrolet Silverado 1500</td><td>2018</td><td>50,079 miles</td><td>White exterior, Black interior</td><td>No accidents reported, 4 Owners</td><td>24777</td></tr><tr><td>Mercedes-Benz C-Class</td><td>2018</td><td>55,367 miles</td><td>White exterior, Black interior</td><td>No accidents reported, 2 Owners</td><td>24166</td></tr><tr><td>Volkswagen Jetta</td><td>2019</td><td>33,822 miles</td><td>Black exterior, Black interior</td><td>No accidents reported, 1 Owner</td><td>15444</td></tr><tr><td>Nissan Maxima</td><td>2018</td><td>43,047 miles</td><td>Red exterior, Beige interior</td><td>No accidents reported, 2 Owners</td><td>21998</td></tr><tr><td>Dodge Charger</td><td>2019</td><td>129,303 miles</td><td>White exterior, Black interior</td><td>No accidents reported, 2 Owners</td><td>13999</td></tr><tr><td>Dodge Charger</td><td>2018</td><td>105,394 miles</td><td>White exterior, Black interior</td><td>No accidents reported, 2 Owners</td><td>18998</td></tr><tr><td>Volkswagen Atlas</td><td>2019</td><td>28,165 miles</td><td>Silver exterior, Black interior</td><td>No accidents reported, 1 Owner</td><td>27998</td></tr><tr><td>Hyundai Sonata</td><td>2019</td><td>38,199 miles</td><td>Black exterior, Black interior</td><td>1 accident reported, 1 Owner</td><td>18998</td></tr><tr><td>Toyota 4Runner</td><td>2019</td><td>45,870 miles</td><td>Black exterior, Black interior</td><td>1 accident reported, 1 Owner</td><td>29998</td></tr><tr><td>Ford F-150</td><td>2019</td><td>112,327 miles</td><td>White exterior, Gray interior</td><td>No accidents reported, 1 Owner</td><td>19998</td></tr><tr><td>Jaguar F-PACE</td><td>2019</td><td>47,051 miles</td><td>Black exterior, Unknown interior</td><td>No accidents reported, 1 Owner</td><td>29013</td></tr><tr><td>Mercedes-Benz C-Class</td><td>2019</td><td>46,446 miles</td><td>Blue exterior, Beige interior</td><td>No accidents reported, 2 Owners</td><td>22000</td></tr><tr><td>Mercedes-Benz GLC</td><td>2019</td><td>33,933 miles</td><td>Black exterior, Black interior</td><td>No accidents reported, 2 Owners</td><td>26888</td></tr><tr><td>Chevrolet Equinox</td><td>2018</td><td>46,513 miles</td><td>Silver exterior, Black interior</td><td>3 accidents reported, 1 Owner</td><td>14987</td></tr><tr><td>Mercedes-Benz C-Class</td><td>2019</td><td>49,842 miles</td><td>Black exterior, Black interior</td><td>No accidents reported, 2 Owners</td><td>25163</td></tr><tr><td>Toyota Camry</td><td>2019</td><td>37,498 miles</td><td>White exterior, Black interior</td><td>2 accidents reported, 1 Owner</td><td>23998</td></tr><tr><td>Dodge Grand Caravan</td><td>2019</td><td>54,821 miles</td><td>White exterior, Black interior</td><td>No accidents reported, 2 Owners</td><td>20998</td></tr><tr><td>Kia Optima</td><td>2019</td><td>55,465 miles</td><td>Silver exterior, Black interior</td><td>2 accidents reported, 4 Owners</td><td>17998</td></tr><tr><td>Toyota RAV4</td><td>2019</td><td>16,985 miles</td><td>Silver exterior, Gray interior</td><td>No accidents reported, 1 Owner</td><td>28599</td></tr><tr><td>Ford F-150</td><td>2019</td><td>44,978 miles</td><td>Black exterior, Black interior</td><td>No accidents reported, 1 Owner</td><td>30795</td></tr><tr><td>Mercedes-Benz GLC</td><td>2019</td><td>37,682 miles</td><td>Black exterior, Black interior</td><td>No accidents reported, 1 Owner</td><td>26998</td></tr><tr><td>Honda Civic</td><td>2019</td><td>45,246 miles</td><td>White exterior, Black interior</td><td>No accidents reported, 2 Owners</td><td>21998</td></tr><tr><td>Audi Q3</td><td>2018</td><td>21,714 miles</td><td>White exterior, Black interior</td><td>No accidents reported, 1 Owner</td><td>21499</td></tr><tr><td>Lexus RX</td><td>2018</td><td>50,215 miles</td><td>White exterior, Gray interior</td><td>1 accident reported, 1 Owner</td><td>27986</td></tr><tr><td>Jeep Wrangler</td><td>2018</td><td>50,118 miles</td><td>Gray exterior, Black interior</td><td>No accidents reported, 1 Owner</td><td>24515</td></tr><tr><td>Mercedes-Benz A-Class</td><td>2019</td><td>27,297 miles</td><td>Silver exterior, Black interior</td><td>1 accident reported, 1 Owner</td><td>22588</td></tr><tr><td>Audi Q3</td><td>2018</td><td>34,641 miles</td><td>White exterior, Black interior</td><td>No accidents reported, 1 Owner</td><td>23998</td></tr><tr><td>Jeep Cherokee</td><td>2018</td><td>60,305 miles</td><td>Black exterior, Black interior</td><td>1 accident reported, 2 Owners</td><td>15888</td></tr><tr><td>Mercedes-Benz A-Class</td><td>2019</td><td>34,366 miles</td><td>Black exterior, Black interior</td><td>1 accident reported, 3 Owners</td><td>21987</td></tr><tr><td>Volkswagen Tiguan</td><td>2019</td><td>73,055 miles</td><td>White exterior, Black interior</td><td>No accidents reported, 1 Owner</td><td>18998</td></tr><tr><td>Toyota Tacoma</td><td>2019</td><td>117,204 miles</td><td>White exterior, Gray interior</td><td>1 accident reported, 1 Owner</td><td>19999</td></tr><tr><td>Honda Civic</td><td>2018</td><td>72,905 miles</td><td>White exterior, Beige interior</td><td>No accidents reported, 3 Owners</td><td>14500</td></tr><tr><td>Volkswagen Atlas</td><td>2019</td><td>36,108 miles</td><td>Blue exterior, Black interior</td><td>No accidents reported, 1 Owner</td><td>23987</td></tr><tr><td>Kia Soul</td><td>2018</td><td>52,817 miles</td><td>Gray exterior, Black interior</td><td>No accidents reported, 3 Owners</td><td>11995</td></tr><tr><td>Jeep Compass</td><td>2019</td><td>84,793 miles</td><td>Black exterior, Black interior</td><td>1 accident reported, 3 Owners</td><td>17998</td></tr><tr><td>Dodge Journey</td><td>2018</td><td>73,637 miles</td><td>Black exterior, Black interior</td><td>No accidents reported, 1 Owner</td><td>10999</td></tr><tr><td>Honda CR-V</td><td>2019</td><td>27,490 miles</td><td>Gray exterior, Black interior</td><td>No accidents reported, 1 Owner</td><td>24063</td></tr><tr><td>Jeep Grand Cherokee</td><td>2018</td><td>63,600 miles</td><td>Black exterior, Black interior</td><td>No accidents reported, 2 Owners</td><td>25998</td></tr><tr><td>Toyota RAV4</td><td>2018</td><td>54,264 miles</td><td>White exterior, Black interior</td><td>No accidents reported, 0 Owners</td><td>19555</td></tr><tr><td>Honda CR-V</td><td>2018</td><td>54,900 miles</td><td>Gray exterior, Black interior</td><td>No accidents reported, 1 Owner</td><td>22998</td></tr><tr><td>Ford Transit Passenger Wagon</td><td>2019</td><td>73,340 miles</td><td>White exterior, Black interior</td><td>No accidents reported, 2 Owners</td><td>36997</td></tr><tr><td>Mazda Mazda3</td><td>2018</td><td>67,973 miles</td><td>Red exterior, Black interior</td><td>1 accident reported, 2 Owners</td><td>17998</td></tr><tr><td>Toyota Corolla</td><td>2019</td><td>103,363 miles</td><td>Red exterior, Black interior</td><td>No accidents reported, 1 Owner</td><td>12999</td></tr><tr><td>Honda Civic</td><td>2018</td><td>40,171 miles</td><td>Gray exterior, Gray interior</td><td>1 accident reported, 1 Owner</td><td>17495</td></tr><tr><td>Toyota Corolla</td><td>2018</td><td>116,630 miles</td><td>White exterior, Black interior</td><td>1 accident reported, 2 Owners</td><td>12999</td></tr><tr><td>Audi A3</td><td>2018</td><td>78,782 miles</td><td>Gray exterior, Black interior</td><td>1 accident reported, 1 Owner</td><td>15898</td></tr><tr><td>Cadillac XT5</td><td>2019</td><td>45,232 miles</td><td>White exterior, Beige interior</td><td>No accidents reported, 1 Owner</td><td>20094</td></tr><tr><td>Porsche Macan</td><td>2018</td><td>38,205 miles</td><td>Black exterior, Black interior</td><td>No accidents reported, 4 Owners</td><td>32295</td></tr><tr><td>Ford Ranger</td><td>2019</td><td>77,267 miles</td><td>Silver exterior, Black interior</td><td>No accidents reported, 1 Owner</td><td>19876</td></tr><tr><td>Honda Civic</td><td>2019</td><td>64,566 miles</td><td>Black exterior, Black interior</td><td>1 accident reported, 2 Owners</td><td>17084</td></tr><tr><td>Ford F-150</td><td>2019</td><td>44,978 miles</td><td>Black exterior, Black interior</td><td>No accidents reported, 1 Owner</td><td>30795</td></tr><tr><td>Audi Q3</td><td>2018</td><td>21,714 miles</td><td>White exterior, Black interior</td><td>No accidents reported, 1 Owner</td><td>21499</td></tr><tr><td>Lexus RX</td><td>2018</td><td>50,215 miles</td><td>White exterior, Gray interior</td><td>1 accident reported, 1 Owner</td><td>27986</td></tr><tr><td>Kia Optima</td><td>2019</td><td>20,602 miles</td><td>White exterior, Black interior</td><td>No accidents reported, 1 Owner</td><td>19999</td></tr><tr><td>Subaru Crosstrek</td><td>2018</td><td>71,542 miles</td><td>Blue exterior, Gray interior</td><td>No accidents reported, 3 Owners</td><td>21998</td></tr><tr><td>Volkswagen Jetta</td><td>2019</td><td>32,759 miles</td><td>Gray exterior, Black interior</td><td>1 accident reported, 2 Owners</td><td>16765</td></tr><tr><td>Honda Accord</td><td>2019</td><td>40,673 miles</td><td>Gray exterior, Gray interior</td><td>1 accident reported, 1 Owner</td><td>17991</td></tr><tr><td>BMW X5</td><td>2019</td><td>19,417 miles</td><td>White exterior, Black interior</td><td>No accidents reported, 1 Owner</td><td>43998</td></tr><tr><td>Maserati Levante</td><td>2019</td><td>22,529 miles</td><td>Black exterior, Black interior</td><td>2 accidents reported, 1 Owner</td><td>32000</td></tr><tr><td>Ford Fusion</td><td>2018</td><td>62,354 miles</td><td>White exterior, Unknown interior</td><td>1 accident reported, 2 Owners</td><td>10800</td></tr><tr><td>Jeep Wrangler</td><td>2018</td><td>33,724 miles</td><td>White exterior, Black interior</td><td>No accidents reported, 3 Owners</td><td>31998</td></tr><tr><td>Mercedes-Benz CLA</td><td>2019</td><td>54,727 miles</td><td>Black exterior, Black interior</td><td>No accidents reported, 2 Owners</td><td>19999</td></tr><tr><td>Ford Transit Passenger Wagon</td><td>2019</td><td>73,340 miles</td><td>White exterior, Black interior</td><td>No accidents reported, 2 Owners</td><td>36997</td></tr><tr><td>Toyota Corolla</td><td>2019</td><td>103,363 miles</td><td>Red exterior, Black interior</td><td>No accidents reported, 1 Owner</td><td>12999</td></tr><tr><td>Honda Civic</td><td>2018</td><td>40,171 miles</td><td>Gray exterior, Gray interior</td><td>1 accident reported, 1 Owner</td><td>17495</td></tr><tr><td>Toyota Corolla</td><td>2018</td><td>116,630 miles</td><td>White exterior, Black interior</td><td>1 accident reported, 2 Owners</td><td>12999</td></tr><tr><td>Audi A3</td><td>2018</td><td>78,782 miles</td><td>Gray exterior, Black interior</td><td>1 accident reported, 1 Owner</td><td>15898</td></tr><tr><td>Cadillac XT5</td><td>2019</td><td>45,232 miles</td><td>White exterior, Beige interior</td><td>No accidents reported, 1 Owner</td><td>20094</td></tr><tr><td>Nissan Altima</td><td>2019</td><td>88,155 miles</td><td>White exterior, Black interior</td><td>No accidents reported, 3 Owners</td><td>14450</td></tr><tr><td>Honda Civic</td><td>2019</td><td>39,515 miles</td><td>Gray exterior, Gray interior</td><td>1 accident reported, 1 Owner</td><td>19770</td></tr><tr><td>Honda Odyssey</td><td>2019</td><td>49,419 miles</td><td>Silver exterior, Brown interior</td><td>No accidents reported, 3 Owners</td><td>26581</td></tr><tr><td>Volkswagen Tiguan</td><td>2019</td><td>47,154 miles</td><td>White exterior, Gray interior</td><td>No accidents reported, 2 Owners</td><td>19998</td></tr><tr><td>Kia Optima</td><td>2018</td><td>59,244 miles</td><td>White exterior, Beige interior</td><td>1 accident reported, 2 Owners</td><td>12900</td></tr><tr><td>Ford EcoSport</td><td>2018</td><td>49,941 miles</td><td>Red exterior, Black interior</td><td>No accidents reported, 2 Owners</td><td>13977</td></tr><tr><td>Mercedes-Benz GLA</td><td>2018</td><td>79,753 miles</td><td>Black exterior, Black interior</td><td>No accidents reported, 4 Owners</td><td>16500</td></tr><tr><td>Toyota Tacoma</td><td>2019</td><td>59,252 miles</td><td>Gray exterior, Unknown interior</td><td>No accidents reported, 1 Owner</td><td>29995</td></tr><tr><td>Nissan Maxima</td><td>2018</td><td>33,292 miles</td><td>Gray exterior, Black interior</td><td>1 accident reported, 3 Owners</td><td>18450</td></tr><tr><td>BMW 3 Series</td><td>2018</td><td>44,001 miles</td><td>Black exterior, Black interior</td><td>No accidents reported, 3 Owners</td><td>20999</td></tr><tr><td>Ford F-150</td><td>2018</td><td>75,393 miles</td><td>Silver exterior, Gray interior</td><td>No accidents reported, 1 Owner</td><td>33800</td></tr><tr><td>Mercedes-Benz A-Class</td><td>2019</td><td>28,010 miles</td><td>Silver exterior, Black interior</td><td>2 accidents reported, 2 Owners</td><td>25440</td></tr><tr><td>Dodge Charger</td><td>2019</td><td>71,018 miles</td><td>Black exterior, Black interior</td><td>No accidents reported, 3 Owners</td><td>20959</td></tr><tr><td>Land Rover Range Rover</td><td>2018</td><td>45,880 miles</td><td>Black exterior, Gray interior</td><td>No accidents reported, 2 Owners</td><td>46999</td></tr><tr><td>Jeep Wrangler</td><td>2019</td><td>47,368 miles</td><td>Black exterior, Black interior</td><td>No accidents reported, 3 Owners</td><td>34998</td></tr><tr><td>Chevrolet Cruze</td><td>2018</td><td>95,458 miles</td><td>Silver exterior, Black interior</td><td>No accidents reported, 2 Owners</td><td>10995</td></tr><tr><td>Subaru Impreza</td><td>2019</td><td>35,495 miles</td><td>Black exterior, Black interior</td><td>No accidents reported, 1 Owner</td><td>18999</td></tr><tr><td>GMC Acadia</td><td>2019</td><td>62,813 miles</td><td>Black exterior, Black interior</td><td>1 accident reported, 1 Owner</td><td>19500</td></tr><tr><td>Mazda Mazda3</td><td>2019</td><td>13,488 miles</td><td>Gray exterior, Gray interior</td><td>No accidents reported, 1 Owner</td><td>23074</td></tr><tr><td>Ford Escape</td><td>2019</td><td>10,838 miles</td><td>Gray exterior, Black interior</td><td>No accidents reported, 2 Owners</td><td>20445</td></tr><tr><td>Buick Encore</td><td>2019</td><td>21,872 miles</td><td>White exterior, Gray interior</td><td>No accidents reported, 2 Owners</td><td>19998</td></tr><tr><td>Toyota RAV4</td><td>2018</td><td>54,264 miles</td><td>White exterior, Black interior</td><td>2 accidents reported, 1 Owner</td><td>19555</td></tr><tr><td>Dodge Challenger</td><td>2019</td><td>54,568 miles</td><td>White exterior, Black interior</td><td>No accidents reported, 1 Owner</td><td>21998</td></tr><tr><td>Mercedes-Benz CLA</td><td>2019</td><td>54,727 miles</td><td>Black exterior, Black interior</td><td>No accidents reported, 2 Owners</td><td>19999</td></tr><tr><td>Audi Q7</td><td>2019</td><td>25,687 miles</td><td>Black exterior, Black interior</td><td>2 accidents reported, 1 Owner</td><td>33998</td></tr><tr><td>BMW 5 Series</td><td>2019</td><td>41,249 miles</td><td>Black exterior, Black interior</td><td>No accidents reported, 1 Owner</td><td>25999</td></tr><tr><td>Mercedes-Benz GLC</td><td>2019</td><td>23,268 miles</td><td>Blue exterior, Unknown interior</td><td>1 accident reported, 3 Owners</td><td>32998</td></tr><tr><td>Audi A4</td><td>2018</td><td>60,428 miles</td><td>Silver exterior, Black interior</td><td>No accidents reported, 2 Owners</td><td>19399</td></tr><tr><td>MINI Countryman</td><td>2018</td><td>70,844 miles</td><td>Blue exterior, Black interior</td><td>No accidents reported, 2 Owners</td><td>21998</td></tr><tr><td>Volkswagen Jetta</td><td>2019</td><td>43,481 miles</td><td>White exterior, Black interior</td><td>No accidents reported, 2 Owners</td><td>17998</td></tr><tr><td>Kia Optima</td><td>2018</td><td>137,615 miles</td><td>Black exterior, Black interior</td><td>1 accident reported, 2 Owners</td><td>8499</td></tr><tr><td>Nissan Murano</td><td>2018</td><td>94,426 miles</td><td>Silver exterior, Gray interior</td><td>No accidents reported, 4 Owners</td><td>13987</td></tr><tr><td>Jaguar F-PACE</td><td>2019</td><td>60,812 miles</td><td>White exterior, Black interior</td><td>1 accident reported, 1 Owner</td><td>19349</td></tr><tr><td>Honda Civic</td><td>2018</td><td>84,732 miles</td><td>Black exterior, Black interior</td><td>No accidents reported, 3 Owners</td><td>16500</td></tr><tr><td>Hyundai Tucson</td><td>2019</td><td>50,496 miles</td><td>Blue exterior, Black interior</td><td>No accidents reported, 2 Owners</td><td>18998</td></tr><tr><td>Kia Forte</td><td>2019</td><td>53,113 miles</td><td>Gray exterior, Black interior</td><td>No accidents reported, 1 Owner</td><td>15695</td></tr><tr><td>Jeep Wrangler</td><td>2018</td><td>52,098 miles</td><td>Black exterior, Black interior</td><td>No accidents reported, 1 Owner</td><td>24910</td></tr><tr><td>Honda Civic</td><td>2019</td><td>31,114 miles</td><td>Black exterior, Black interior</td><td>No accidents reported, 2 Owners</td><td>21998</td></tr><tr><td>Nissan Sentra</td><td>2019</td><td>50,110 miles</td><td>White exterior, Black interior</td><td>No accidents reported, 2 Owners</td><td>16998</td></tr><tr><td>Audi Q5</td><td>2018</td><td>43,865 miles</td><td>Blue exterior, Black interior</td><td>1 accident reported, 2 Owners</td><td>19992</td></tr><tr><td>Chevrolet Cruze</td><td>2018</td><td>70,218 miles</td><td>Black exterior, Black interior</td><td>1 accident reported, 1 Owner</td><td>13200</td></tr><tr><td>Chevrolet Traverse</td><td>2019</td><td>31,111 miles</td><td>Gray exterior, Black interior</td><td>No accidents reported, 1 Owner</td><td>27999</td></tr><tr><td>Toyota Camry</td><td>2019</td><td>64,053 miles</td><td>White exterior, Black interior</td><td>1 accident reported, 2 Owners</td><td>21998</td></tr><tr><td>Mercedes-Benz A-Class</td><td>2019</td><td>29,934 miles</td><td>Black exterior, Black interior</td><td>No accidents reported, 1 Owner</td><td>25899</td></tr><tr><td>Dodge Charger</td><td>2019</td><td>71,018 miles</td><td>Black exterior, Black interior</td><td>No accidents reported, 3 Owners</td><td>20959</td></tr><tr><td>Land Rover Range Rover</td><td>2018</td><td>45,880 miles</td><td>Black exterior, Gray interior</td><td>No accidents reported, 2 Owners</td><td>46999</td></tr><tr><td>BMW X1</td><td>2018</td><td>55,265 miles</td><td>White exterior, Black interior</td><td>1 accident reported, 2 Owners</td><td>21998</td></tr><tr><td>Chevrolet Cruze</td><td>2018</td><td>95,458 miles</td><td>Silver exterior, Black interior</td><td>No accidents reported, 2 Owners</td><td>10995</td></tr><tr><td>Subaru Impreza</td><td>2019</td><td>35,495 miles</td><td>Black exterior, Black interior</td><td>No accidents reported, 1 Owner</td><td>18999</td></tr><tr><td>GMC Acadia</td><td>2019</td><td>62,813 miles</td><td>Black exterior, Black interior</td><td>1 accident reported, 1 Owner</td><td>19500</td></tr><tr><td>Jeep Wrangler</td><td>2018</td><td>56,425 miles</td><td>White exterior, Black interior</td><td>No accidents reported, 1 Owner</td><td>21920</td></tr><tr><td>Chevrolet Silverado 1500</td><td>2019</td><td>76,920 miles</td><td>Black exterior, Black interior</td><td>1 accident reported, 2 Owners</td><td>31998</td></tr><tr><td>Mercedes-Benz S-Class</td><td>2019</td><td>48,491 miles</td><td>Silver exterior, Black interior</td><td>No accidents reported, 1 Owner</td><td>49499</td></tr><tr><td>Land Rover Range Rover Evoque</td><td>2019</td><td>45,704 miles</td><td>White exterior, Black interior</td><td>1 accident reported, 3 Owners</td><td>24499</td></tr><tr><td>INFINITI QX60</td><td>2018</td><td>63,000 miles</td><td>Gray exterior, Brown interior</td><td>No accidents reported, 2 Owners</td><td>19988</td></tr><tr><td>Mercedes-Benz GLC</td><td>2019</td><td>19,494 miles</td><td>Gray exterior, Black interior</td><td>No accidents reported, 2 Owners</td><td>27998</td></tr><tr><td>Audi Q7</td><td>2019</td><td>26,958 miles</td><td>Gray exterior, Beige interior</td><td>No accidents reported, 1 Owner</td><td>29998</td></tr><tr><td>Mercedes-Benz C-Class</td><td>2019</td><td>37,366 miles</td><td>Black exterior, Black interior</td><td>No accidents reported, 2 Owners</td><td>25262</td></tr><tr><td>Chevrolet Silverado 1500</td><td>2018</td><td>61,608 miles</td><td>Gray exterior, Black interior</td><td>No accidents reported, 1 Owner</td><td>30549</td></tr><tr><td>Mercedes-Benz CLS</td><td>2019</td><td>23,351 miles</td><td>White exterior, Black interior</td><td>No accidents reported, 1 Owner</td><td>43895</td></tr><tr><td>Hyundai Elantra</td><td>2018</td><td>40,223 miles</td><td>Silver exterior, Gray interior</td><td>No accidents reported, 3 Owners</td><td>12999</td></tr><tr><td>Nissan Sentra</td><td>2019</td><td>37,152 miles</td><td>White exterior, Black interior</td><td>No accidents reported, 1 Owner</td><td>13799</td></tr><tr><td>Ford F-150</td><td>2019</td><td>91,274 miles</td><td>White exterior, Brown interior</td><td>No accidents reported, 1 Owner</td><td>29980</td></tr><tr><td>Porsche 718 Cayman</td><td>2018</td><td>54,169 miles</td><td>Black exterior, Black interior</td><td>No accidents reported, 2 Owners</td><td>48919</td></tr><tr><td>Hyundai Elantra</td><td>2018</td><td>39,023 miles</td><td>Gray exterior, Black interior</td><td>2 accidents reported, 1 Owner</td><td>12995</td></tr><tr><td>Honda CR-V</td><td>2018</td><td>44,533 miles</td><td>Black exterior, Black interior</td><td>No accidents reported, 1 Owner</td><td>21998</td></tr><tr><td>Mercedes-Benz GLS</td><td>2019</td><td>58,536 miles</td><td>Black exterior, Brown interior</td><td>No accidents reported, 2 Owners</td><td>35991</td></tr><tr><td>Volkswagen Atlas</td><td>2018</td><td>68,069 miles</td><td>Silver exterior, Black interior</td><td>No accidents reported, 4 Owners</td><td>21998</td></tr><tr><td>Toyota C-HR</td><td>2019</td><td>70,631 miles</td><td>Gray exterior, Black interior</td><td>1 accident reported, 2 Owners</td><td>16220</td></tr><tr><td>Ford F-150</td><td>2018</td><td>157,394 miles</td><td>Gray exterior, Gray interior</td><td>No accidents reported, 3 Owners</td><td>17995</td></tr><tr><td>Ford Escape</td><td>2018</td><td>32,704 miles</td><td>White exterior, Black interior</td><td>No accidents reported, 2 Owners</td><td>13987</td></tr><tr><td>Audi Q3</td><td>2019</td><td>63,070 miles</td><td>Black exterior, Black interior</td><td>No accidents reported, 1 Owner</td><td>17500</td></tr><tr><td>Lexus NX</td><td>2019</td><td>37,294 miles</td><td>Unknown exterior, Black interior</td><td>No accidents reported, 1 Owner</td><td>28300</td></tr><tr><td>Jaguar E-PACE</td><td>2019</td><td>33,270 miles</td><td>White exterior, Unknown interior</td><td>No accidents reported, 2 Owners</td><td>24000</td></tr><tr><td>McLaren 720S</td><td>2018</td><td>8,652 miles</td><td>White exterior, Unknown interior</td><td>No accidents reported, 3 Owners</td><td>219999</td></tr><tr><td>Honda Odyssey</td><td>2018</td><td>75,932 miles</td><td>Gray exterior, Gray interior</td><td>1 accident reported, 2 Owners</td><td>25998</td></tr><tr><td>Mercedes-Benz C-Class</td><td>2018</td><td>36,871 miles</td><td>Blue exterior, Gray interior</td><td>2 accidents reported, 3 Owners</td><td>22998</td></tr><tr><td>Audi Q5</td><td>2018</td><td>43,865 miles</td><td>Blue exterior, Black interior</td><td>1 accident reported, 2 Owners</td><td>19992</td></tr><tr><td>Chevrolet Cruze</td><td>2018</td><td>70,218 miles</td><td>Black exterior, Black interior</td><td>1 accident reported, 1 Owner</td><td>13200</td></tr><tr><td>Chevrolet Traverse</td><td>2019</td><td>31,111 miles</td><td>Gray exterior, Black interior</td><td>No accidents reported, 1 Owner</td><td>27999</td></tr><tr><td>Nissan Rogue</td><td>2018</td><td>62,713 miles</td><td>Blue exterior, Black interior</td><td>No accidents reported, 2 Owners</td><td>18998</td></tr><tr><td>Jeep Wrangler</td><td>2019</td><td>30,170 miles</td><td>White exterior, Black interior</td><td>No accidents reported, 1 Owner</td><td>29998</td></tr><tr><td>Jeep Wrangler</td><td>2018</td><td>51,323 miles</td><td>Black exterior, Black interior</td><td>No accidents reported, 2 Owners</td><td>29998</td></tr><tr><td>Ford Ranger</td><td>2019</td><td>69,689 miles</td><td>Blue exterior, Black interior</td><td>No accidents reported, 2 Owners</td><td>23400</td></tr><tr><td>Ford Mustang</td><td>2018</td><td>9,452 miles</td><td>White exterior, Black interior</td><td>No accidents reported, 3 Owners</td><td>58495</td></tr><tr><td>Toyota Tacoma</td><td>2019</td><td>119,342 miles</td><td>White exterior, Gray interior</td><td>No accidents reported, 1 Owner</td><td>20999</td></tr><tr><td>Jeep Wrangler</td><td>2018</td><td>67,262 miles</td><td>White exterior, Black interior</td><td>1 accident reported, 3 Owners</td><td>24998</td></tr><tr><td>Honda Accord</td><td>2019</td><td>57,549 miles</td><td>Silver exterior, Gray interior</td><td>No accidents reported, 1 Owner</td><td>25998</td></tr><tr><td>Toyota Mirai</td><td>2019</td><td>71,373 miles</td><td>Silver exterior, Blue interior</td><td>No accidents reported, 3 Owners</td><td>8998</td></tr><tr><td>Mercedes-Benz GLC</td><td>2019</td><td>39,358 miles</td><td>Black exterior, Black interior</td><td>No accidents reported, 2 Owners</td><td>26986</td></tr><tr><td>Ford Escape</td><td>2019</td><td>108,465 miles</td><td>White exterior, Gray interior</td><td>No accidents reported, 2 Owners</td><td>11995</td></tr><tr><td>Jeep Compass</td><td>2018</td><td>68,250 miles</td><td>Blue exterior, Black interior</td><td>1 accident reported, 1 Owner</td><td>13499</td></tr><tr><td>Jeep Grand Cherokee</td><td>2019</td><td>23,240 miles</td><td>White exterior, Black interior</td><td>No accidents reported, 1 Owner</td><td>25998</td></tr><tr><td>Toyota Prius c</td><td>2018</td><td>77,042 miles</td><td>Black exterior, Black interior</td><td>3 accidents reported, 1 Owner</td><td>12999</td></tr><tr><td>Land Rover Range Rover Velar</td><td>2018</td><td>67,236 miles</td><td>Gray exterior, Black interior</td><td>No accidents reported, 2 Owners</td><td>26995</td></tr><tr><td>Mercedes-Benz GLC</td><td>2019</td><td>13,520 miles</td><td>Silver exterior, Black interior</td><td>No accidents reported, 1 Owner</td><td>28495</td></tr><tr><td>Ford F-150</td><td>2018</td><td>42,044 miles</td><td>Gray exterior, Gray interior</td><td>No accidents reported, 2 Owners</td><td>30998</td></tr><tr><td>Ram 1500</td><td>2019</td><td>40,718 miles</td><td>White exterior, Black interior</td><td>No accidents reported, 2 Owners</td><td>31998</td></tr><tr><td>Honda Civic</td><td>2019</td><td>68,276 miles</td><td>Gray exterior, Black interior</td><td>1 accident reported, 3 Owners</td><td>16399</td></tr><tr><td>Jeep Grand Cherokee</td><td>2019</td><td>93,938 miles</td><td>Black exterior, Black interior</td><td>No accidents reported, 2 Owners</td><td>22998</td></tr><tr><td>Dodge Grand Caravan</td><td>2019</td><td>58,361 miles</td><td>Red exterior, Black interior</td><td>No accidents reported, 1 Owner</td><td>17600</td></tr><tr><td>Honda Civic</td><td>2019</td><td>36,380 miles</td><td>Blue exterior, Gray interior</td><td>No accidents reported, 2 Owners</td><td>19998</td></tr><tr><td>Ford F-150</td><td>2019</td><td>48,190 miles</td><td>White exterior, Brown interior</td><td>No accidents reported, 1 Owner</td><td>43998</td></tr><tr><td>Honda Odyssey</td><td>2019</td><td>30,811 miles</td><td>Silver exterior, Unknown interior</td><td>No accidents reported, 1 Owner</td><td>27994</td></tr><tr><td>Mercedes-Benz E-Class</td><td>2019</td><td>10,629 miles</td><td>Silver exterior, Black interior</td><td>No accidents reported, 1 Owner</td><td>40000</td></tr><tr><td>Mercedes-Benz C-Class</td><td>2019</td><td>32,777 miles</td><td>Black exterior, Black interior</td><td>1 accident reported, 2 Owners</td><td>29500</td></tr><tr><td>Honda Civic</td><td>2019</td><td>33,111 miles</td><td>Black exterior, Black interior</td><td>No accidents reported, 1 Owner</td><td>19999</td></tr><tr><td>Rolls-Royce Dawn</td><td>2018</td><td>14,272 miles</td><td>White exterior, Beige interior</td><td>No accidents reported, 2 Owners</td><td>252900</td></tr><tr><td>Chevrolet Silverado 1500</td><td>2019</td><td>98,416 miles</td><td>White exterior, Black interior</td><td>1 accident reported, 2 Owners</td><td>32995</td></tr><tr><td>Mitsubishi Outlander</td><td>2019</td><td>72,455 miles</td><td>Black exterior, Black interior</td><td>No accidents reported, 2 Owners</td><td>17998</td></tr><tr><td>Honda Pilot</td><td>2018</td><td>102,410 miles</td><td>White exterior, Black interior</td><td>No accidents reported, 2 Owners</td><td>20998</td></tr><tr><td>Ford F-150</td><td>2019</td><td>70,897 miles</td><td>Blue exterior, Black interior</td><td>No accidents reported, 1 Owner</td><td>29998</td></tr><tr><td>Ford Fusion</td><td>2019</td><td>20,687 miles</td><td>White exterior, Black interior</td><td>No accidents reported, 1 Owner</td><td>22998</td></tr><tr><td>Hyundai Sonata</td><td>2019</td><td>39,599 miles</td><td>White exterior, Gray interior</td><td>No accidents reported, 2 Owners</td><td>18998</td></tr><tr><td>Mitsubishi Outlander</td><td>2019</td><td>56,038 miles</td><td>Red exterior, Black interior</td><td>No accidents reported, 1 Owner</td><td>19896</td></tr><tr><td>Honda CR-V</td><td>2018</td><td>49,702 miles</td><td>Silver exterior, Gray interior</td><td>1 accident reported, 1 Owner</td><td>24998</td></tr><tr><td>Jeep Wrangler</td><td>2018</td><td>104,556 miles</td><td>Blue exterior, Black interior</td><td>No accidents reported, 1 Owner</td><td>28998</td></tr><tr><td>Jeep Wrangler</td><td>2019</td><td>82,313 miles</td><td>White exterior, Black interior</td><td>2 accidents reported, 1 Owner</td><td>26998</td></tr><tr><td>Ford Ranger</td><td>2019</td><td>69,689 miles</td><td>Blue exterior, Black interior</td><td>No accidents reported, 2 Owners</td><td>23400</td></tr><tr><td>Ford Mustang</td><td>2018</td><td>9,452 miles</td><td>White exterior, Black interior</td><td>No accidents reported, 3 Owners</td><td>58495</td></tr><tr><td>Toyota Tacoma</td><td>2019</td><td>119,342 miles</td><td>White exterior, Gray interior</td><td>No accidents reported, 1 Owner</td><td>20999</td></tr><tr><td>Toyota RAV4</td><td>2018</td><td>68,049 miles</td><td>Black exterior, Black interior</td><td>No accidents reported, 2 Owners</td><td>22998</td></tr><tr><td>Toyota RAV4</td><td>2018</td><td>70,041 miles</td><td>Gray exterior, Black interior</td><td>No accidents reported, 3 Owners</td><td>22998</td></tr><tr><td>Toyota Mirai</td><td>2019</td><td>71,373 miles</td><td>Silver exterior, Blue interior</td><td>No accidents reported, 3 Owners</td><td>8998</td></tr><tr><td>Mercedes-Benz GLC</td><td>2019</td><td>39,358 miles</td><td>Black exterior, Black interior</td><td>No accidents reported, 2 Owners</td><td>26986</td></tr><tr><td>Ford Escape</td><td>2019</td><td>108,465 miles</td><td>White exterior, Gray interior</td><td>No accidents reported, 2 Owners</td><td>11995</td></tr><tr><td>Jeep Compass</td><td>2018</td><td>68,250 miles</td><td>Blue exterior, Black interior</td><td>1 accident reported, 1 Owner</td><td>13499</td></tr><tr><td>Volkswagen Jetta</td><td>2019</td><td>44,512 miles</td><td>Black exterior, Black interior</td><td>1 accident reported, 1 Owner</td><td>16998</td></tr><tr><td>Toyota Prius c</td><td>2018</td><td>77,042 miles</td><td>Black exterior, Black interior</td><td>3 accidents reported, 1 Owner</td><td>12999</td></tr><tr><td>Land Rover Range Rover Velar</td><td>2018</td><td>67,236 miles</td><td>Gray exterior, Black interior</td><td>No accidents reported, 2 Owners</td><td>26995</td></tr><tr><td>Mercedes-Benz GLC</td><td>2019</td><td>13,520 miles</td><td>Silver exterior, Black interior</td><td>No accidents reported, 1 Owner</td><td>28495</td></tr><tr><td>Toyota Camry</td><td>2018</td><td>45,881 miles</td><td>Red exterior, Gray interior</td><td>No accidents reported, 1 Owner</td><td>18498</td></tr><tr><td>Nissan Sentra</td><td>2019</td><td>52,053 miles</td><td>White exterior, Black interior</td><td>No accidents reported, 3 Owners</td><td>12490</td></tr><tr><td>Subaru Crosstrek</td><td>2019</td><td>31,066 miles</td><td>Gray exterior, Gray interior</td><td>No accidents reported, 1 Owner</td><td>22799</td></tr><tr><td>Ford Explorer</td><td>2018</td><td>54,327 miles</td><td>Black exterior, Black interior</td><td>1 accident reported, 2 Owners</td><td>20485</td></tr><tr><td>Ford F-150</td><td>2019</td><td>104,905 miles</td><td>White exterior, Gray interior</td><td>No accidents reported, 1 Owner</td><td>15999</td></tr><tr><td>Toyota Camry</td><td>2018</td><td>31,396 miles</td><td>Silver exterior, Gray interior</td><td>No accidents reported, 2 Owners</td><td>21998</td></tr><tr><td>Mercedes-Benz C-Class</td><td>2019</td><td>73,296 miles</td><td>Black exterior, Black interior</td><td>No accidents reported, 2 Owners</td><td>20999</td></tr><tr><td>Lincoln MKC</td><td>2018</td><td>32,702 miles</td><td>Black exterior, Black interior</td><td>No accidents reported, 2 Owners</td><td>20495</td></tr><tr><td>Nissan Altima</td><td>2019</td><td>37,916 miles</td><td>White exterior, Gray interior</td><td>No accidents reported, 2 Owners</td><td>18995</td></tr><tr><td>Ford Super Duty F-550 Chassis Cab</td><td>2019</td><td>72,649 miles</td><td>White exterior, Black interior</td><td>No accidents reported, 1 Owner</td><td>41998</td></tr><tr><td>Honda Odyssey</td><td>2019</td><td>60,490 miles</td><td>Brown exterior, Gray interior</td><td>1 accident reported, 4 Owners</td><td>28998</td></tr><tr><td>Mitsubishi Outlander</td><td>2019</td><td>56,038 miles</td><td>Red exterior, Black interior</td><td>No accidents reported, 1 Owner</td><td>19896</td></tr><tr><td>Honda CR-V</td><td>2018</td><td>56,283 miles</td><td>Gray exterior, Black interior</td><td>No accidents reported, 3 Owners</td><td>21998</td></tr><tr><td>Subaru Crosstrek</td><td>2018</td><td>61,983 miles</td><td>Orange exterior, Black interior</td><td>No accidents reported, 2 Owners</td><td>19649</td></tr><tr><td>Ram 1500</td><td>2019</td><td>48,152 miles</td><td>Silver exterior, Black interior</td><td>1 accident reported, 3 Owners</td><td>36998</td></tr><tr><td>Ford Escape</td><td>2018</td><td>74,038 miles</td><td>Gray exterior, Gray interior</td><td>No accidents reported, 1 Owner</td><td>15998</td></tr><tr><td>Ford Super Duty F-250</td><td>2019</td><td>61,099 miles</td><td>Gray exterior, Gray interior</td><td>No accidents reported, 1 Owner</td><td>39998</td></tr><tr><td>Toyota Mirai</td><td>2019</td><td>23,390 miles</td><td>Silver exterior, Black interior</td><td>No accidents reported, 2 Owners</td><td>13495</td></tr><tr><td>BMW M5</td><td>2018</td><td>36,532 miles</td><td>Black exterior, Black interior</td><td>1 accident reported, 2 Owners</td><td>53999</td></tr><tr><td>BMW X5</td><td>2019</td><td>21,933 miles</td><td>White exterior, Black interior</td><td>No accidents reported, 1 Owner</td><td>38900</td></tr><tr><td>Chevrolet Impala</td><td>2019</td><td>52,582 miles</td><td>Black exterior, Black interior</td><td>No accidents reported, 1 Owner</td><td>17498</td></tr><tr><td>Porsche Macan</td><td>2018</td><td>40,585 miles</td><td>White exterior, Black interior</td><td>No accidents reported, 4 Owners</td><td>32998</td></tr><tr><td>Hyundai Elantra</td><td>2019</td><td>13,314 miles</td><td>Black exterior, Beige interior</td><td>No accidents reported, 1 Owner</td><td>16555</td></tr><tr><td>Chevrolet Tahoe</td><td>2018</td><td>97,560 miles</td><td>Gray exterior, Black interior</td><td>No accidents reported, 3 Owners</td><td>31998</td></tr><tr><td>Honda Accord</td><td>2018</td><td>110,923 miles</td><td>Black exterior, Black interior</td><td>No accidents reported, 2 Owners</td><td>17888</td></tr><tr><td>Cadillac ATS-V</td><td>2018</td><td>43,907 miles</td><td>Red exterior, Black interior</td><td>No accidents reported, 2 Owners</td><td>39876</td></tr><tr><td>Ford F-150</td><td>2019</td><td>156,241 miles</td><td>White exterior, Black interior</td><td>No accidents reported, 2 Owners</td><td>21900</td></tr><tr><td>Chrysler Pacifica</td><td>2018</td><td>84,586 miles</td><td>White exterior, Black interior</td><td>No accidents reported, 1 Owner</td><td>21998</td></tr><tr><td>Toyota RAV4</td><td>2019</td><td>55,205 miles</td><td>Black exterior, Black interior</td><td>No accidents reported, 2 Owners</td><td>25035</td></tr><tr><td>Chevrolet Silverado 1500</td><td>2019</td><td>82,431 miles</td><td>Black exterior, Black interior</td><td>No accidents reported, 1 Owner</td><td>26885</td></tr><tr><td>BMW 3 Series</td><td>2019</td><td>53,046 miles</td><td>White exterior, Beige interior</td><td>1 accident reported, 2 Owners</td><td>21999</td></tr><tr><td>Mercedes-Benz C-Class</td><td>2018</td><td>49,903 miles</td><td>Black exterior, Unknown interior</td><td>No accidents reported, 2 Owners</td><td>22998</td></tr><tr><td>Mercedes-Benz GLA</td><td>2018</td><td>56,075 miles</td><td>Black exterior, Black interior</td><td>1 accident reported, 4 Owners</td><td>20109</td></tr><tr><td>Toyota Tacoma</td><td>2019</td><td>38,701 miles</td><td>White exterior, Gray interior</td><td>No accidents reported, 2 Owners</td><td>24995</td></tr><tr><td>Honda CR-V</td><td>2019</td><td>50,940 miles</td><td>White exterior, Black interior</td><td>No accidents reported, 1 Owner</td><td>19990</td></tr><tr><td>Nissan Versa</td><td>2019</td><td>28,269 miles</td><td>Gray exterior, Black interior</td><td>2 accidents reported, 3 Owners</td><td>10795</td></tr><tr><td>Toyota Tacoma</td><td>2019</td><td>31,914 miles</td><td>White exterior, Black interior</td><td>No accidents reported, 1 Owner</td><td>42998</td></tr><tr><td>Ford Fusion</td><td>2018</td><td>68,502 miles</td><td>Silver exterior, Gray interior</td><td>No accidents reported, 1 Owner</td><td>18998</td></tr><tr><td>Jeep Compass</td><td>2018</td><td>58,555 miles</td><td>White exterior, Black interior</td><td>No accidents reported, 2 Owners</td><td>16995</td></tr><tr><td>Chevrolet Cruze</td><td>2018</td><td>107,459 miles</td><td>Blue exterior, Black interior</td><td>2 accidents reported, 1 Owner</td><td>10998</td></tr><tr><td>Toyota Prius Prime</td><td>2018</td><td>54,061 miles</td><td>Gray exterior, Black interior</td><td>1 accident reported, 1 Owner</td><td>23998</td></tr><tr><td>Ford Explorer</td><td>2018</td><td>54,327 miles</td><td>Black exterior, Black interior</td><td>1 accident reported, 2 Owners</td><td>20485</td></tr><tr><td>Hyundai Santa Fe Sport</td><td>2018</td><td>30,035 miles</td><td>Gray exterior, Beige interior</td><td>No accidents reported, 1 Owner</td><td>19998</td></tr><tr><td>Mazda CX-5</td><td>2019</td><td>33,975 miles</td><td>White exterior, Beige interior</td><td>No accidents reported, 2 Owners</td><td>23998</td></tr><tr><td>Ford F-150</td><td>2019</td><td>104,905 miles</td><td>White exterior, Gray interior</td><td>No accidents reported, 1 Owner</td><td>15999</td></tr><tr><td>Mercedes-Benz C-Class</td><td>2018</td><td>59,515 miles</td><td>Black exterior, Black interior</td><td>No accidents reported, 2 Owners</td><td>22998</td></tr><tr><td>Mercedes-Benz C-Class</td><td>2019</td><td>73,296 miles</td><td>Black exterior, Black interior</td><td>No accidents reported, 2 Owners</td><td>20999</td></tr><tr><td>Dodge Durango</td><td>2018</td><td>82,734 miles</td><td>Black exterior, Black interior</td><td>No accidents reported, 2 Owners</td><td>42998</td></tr><tr><td>Ram 1500</td><td>2019</td><td>97,414 miles</td><td>Red exterior, Black interior</td><td>No accidents reported, 2 Owners</td><td>27998</td></tr><tr><td>Honda HR-V</td><td>2018</td><td>38,144 miles</td><td>Gray exterior, Black interior</td><td>No accidents reported, 1 Owner</td><td>18080</td></tr><tr><td>Kia Optima</td><td>2019</td><td>55,465 miles</td><td>Silver exterior, Black interior</td><td>2 accidents reported, 4 Owners</td><td>17998</td></tr><tr><td>Jeep Wrangler</td><td>2018</td><td>28,546 miles</td><td>Black exterior, Black interior</td><td>No accidents reported, 1 Owner</td><td>34998</td></tr><tr><td>Ford Fusion</td><td>2019</td><td>92,186 miles</td><td>White exterior, Black interior</td><td>No accidents reported, 2 Owners</td><td>13290</td></tr><tr><td>Maserati Ghibli</td><td>2019</td><td>17,904 miles</td><td>White exterior, Black interior</td><td>No accidents reported, 1 Owner</td><td>36987</td></tr><tr><td>Honda Odyssey</td><td>2018</td><td>58,553 miles</td><td>Black exterior, Black interior</td><td>No accidents reported, 1 Owner</td><td>29468</td></tr><tr><td>Ford Transit Connect Van</td><td>2019</td><td>82,497 miles</td><td>White exterior, Black interior</td><td>No accidents reported, 1 Owner</td><td>20997</td></tr><tr><td>Audi A5</td><td>2018</td><td>50,180 miles</td><td>White exterior, Brown interior</td><td>1 accident reported, 2 Owners</td><td>28333</td></tr><tr><td>INFINITI QX60</td><td>2019</td><td>66,885 miles</td><td>White exterior, Beige interior</td><td>No accidents reported, 1 Owner</td><td>21498</td></tr><tr><td>BMW X1</td><td>2018</td><td>49,680 miles</td><td>White exterior, Black interior</td><td>2 accidents reported, 3 Owners</td><td>22998</td></tr><tr><td>Mazda CX-5</td><td>2019</td><td>92,172 miles</td><td>Gray exterior, Black interior</td><td>2 accidents reported, 1 Owner</td><td>15995</td></tr><tr><td>Chevrolet Silverado 1500</td><td>2018</td><td>54,592 miles</td><td>White exterior, Black interior</td><td>1 accident reported, 2 Owners</td><td>33998</td></tr><tr><td>Acura TLX</td><td>2018</td><td>53,680 miles</td><td>White exterior, Black interior</td><td>No accidents reported, 3 Owners</td><td>21999</td></tr><tr><td>Mitsubishi Outlander</td><td>2019</td><td>89,075 miles</td><td>Black exterior, Black interior</td><td>1 accident reported, 3 Owners</td><td>10995</td></tr><tr><td>Ford Fusion</td><td>2019</td><td>46,770 miles</td><td>Red exterior, Black interior</td><td>No accidents reported, 1 Owner</td><td>18988</td></tr><tr><td>Mercedes-Benz GLC</td><td>2019</td><td>102,692 miles</td><td>White exterior, Black interior</td><td>1 accident reported, 2 Owners</td><td>16991</td></tr><tr><td>Toyota Highlander</td><td>2019</td><td>34,585 miles</td><td>White exterior, Gray interior</td><td>No accidents reported, 1 Owner</td><td>26490</td></tr><tr><td>Toyota Tacoma</td><td>2018</td><td>27,599 miles</td><td>Silver exterior, Gray interior</td><td>No accidents reported, 1 Owner</td><td>30998</td></tr><tr><td>Ford Escape</td><td>2019</td><td>69,418 miles</td><td>White exterior, Gray interior</td><td>1 accident reported, 1 Owner</td><td>14900</td></tr><tr><td>Toyota Mirai</td><td>2019</td><td>39,425 miles</td><td>Silver exterior, Unknown interior</td><td>No accidents reported, 2 Owners</td><td>11999</td></tr><tr><td>Dodge Charger</td><td>2018</td><td>111,955 miles</td><td>Black exterior, Black interior</td><td>1 accident reported, 3 Owners</td><td>17885</td></tr><tr><td>Ford F-150</td><td>2019</td><td>65,277 miles</td><td>Silver exterior, Black interior</td><td>No accidents reported, 1 Owner</td><td>50999</td></tr><tr><td>Hyundai Elantra</td><td>2018</td><td>80,798 miles</td><td>Blue exterior, Black interior</td><td>No accidents reported, 3 Owners</td><td>16998</td></tr><tr><td>Ford F-150</td><td>2019</td><td>102,015 miles</td><td>White exterior, Black interior</td><td>No accidents reported, 1 Owner</td><td>22489</td></tr><tr><td>Jeep Wrangler</td><td>2019</td><td>57,421 miles</td><td>Gray exterior, Black interior</td><td>No accidents reported, 1 Owner</td><td>33998</td></tr><tr><td>Ford Mustang</td><td>2019</td><td>34,211 miles</td><td>Silver exterior, Black interior</td><td>No accidents reported, 1 Owner</td><td>22998</td></tr><tr><td>Jeep Wrangler</td><td>2018</td><td>20,700 miles</td><td>Gray exterior, Black interior</td><td>No accidents reported, 2 Owners</td><td>31998</td></tr><tr><td>Ford Transit Cargo Van</td><td>2019</td><td>52,902 miles</td><td>White exterior, Gray interior</td><td>No accidents reported, 1 Owner</td><td>34997</td></tr><tr><td>Ford Explorer</td><td>2018</td><td>54,567 miles</td><td>Black exterior, Black interior</td><td>2 accidents reported, 3 Owners</td><td>19900</td></tr><tr><td>Ford Escape</td><td>2019</td><td>76,075 miles</td><td>Black exterior, Gray interior</td><td>No accidents reported, 1 Owner</td><td>13995</td></tr><tr><td>Honda HR-V</td><td>2018</td><td>38,144 miles</td><td>Gray exterior, Black interior</td><td>No accidents reported, 1 Owner</td><td>18080</td></tr><tr><td>BMW 3 Series</td><td>2018</td><td>34,302 miles</td><td>Black exterior, Black interior</td><td>No accidents reported, 2 Owners</td><td>23998</td></tr><tr><td>Ford Fusion</td><td>2019</td><td>92,186 miles</td><td>White exterior, Black interior</td><td>No accidents reported, 2 Owners</td><td>13290</td></tr><tr><td>BMW X5</td><td>2018</td><td>35,165 miles</td><td>Black exterior, Black interior</td><td>No accidents reported, 1 Owner</td><td>31998</td></tr><tr><td>Toyota RAV4</td><td>2018</td><td>50,762 miles</td><td>Gray exterior, Black interior</td><td>No accidents reported, 2 Owners</td><td>22998</td></tr><tr><td>Maserati Ghibli</td><td>2019</td><td>17,904 miles</td><td>White exterior, Black interior</td><td>No accidents reported, 1 Owner</td><td>36987</td></tr><tr><td>Chevrolet Silverado 1500</td><td>2018</td><td>40,385 miles</td><td>Black exterior, Black interior</td><td>No accidents reported, 1 Owner</td><td>30998</td></tr><tr><td>Honda Odyssey</td><td>2018</td><td>58,553 miles</td><td>Black exterior, Black interior</td><td>No accidents reported, 1 Owner</td><td>29468</td></tr><tr><td>Ford Transit Connect Van</td><td>2019</td><td>82,497 miles</td><td>White exterior, Black interior</td><td>No accidents reported, 1 Owner</td><td>20997</td></tr><tr><td>Audi A5</td><td>2018</td><td>50,180 miles</td><td>White exterior, Brown interior</td><td>1 accident reported, 2 Owners</td><td>28333</td></tr><tr><td>INFINITI QX60</td><td>2019</td><td>66,885 miles</td><td>White exterior, Beige interior</td><td>No accidents reported, 1 Owner</td><td>21498</td></tr><tr><td>Ford F-150</td><td>2019</td><td>104,679 miles</td><td>White exterior, Gray interior</td><td>No accidents reported, 1 Owner</td><td>20998</td></tr><tr><td>Jeep Cherokee</td><td>2019</td><td>62,675 miles</td><td>Red exterior, Black interior</td><td>1 accident reported, 3 Owners</td><td>17777</td></tr><tr><td>Toyota Camry</td><td>2018</td><td>11,043 miles</td><td>Blue exterior, Black interior</td><td>No accidents reported, 2 Owners</td><td>28998</td></tr><tr><td>Toyota C-HR</td><td>2019</td><td>40,322 miles</td><td>Gray exterior, Black interior</td><td>No accidents reported, 2 Owners</td><td>18795</td></tr><tr><td>Lexus RX</td><td>2018</td><td>44,251 miles</td><td>Gray exterior, Black interior</td><td>No accidents reported, 2 Owners</td><td>29488</td></tr><tr><td>Ford Super Duty F-250</td><td>2019</td><td>135,320 miles</td><td>White exterior, Gray interior</td><td>No accidents reported, 1 Owner</td><td>21998</td></tr><tr><td>Ford Fusion</td><td>2018</td><td>63,730 miles</td><td>White exterior, Black interior</td><td>No accidents reported, 3 Owners</td><td>16998</td></tr><tr><td>Jeep Grand Cherokee</td><td>2018</td><td>63,600 miles</td><td>Black exterior, Black interior</td><td>No accidents reported, 2 Owners</td><td>25998</td></tr><tr><td>Jeep Cherokee</td><td>2019</td><td>29,907 miles</td><td>Black exterior, Black interior</td><td>No accidents reported, 1 Owner</td><td>20457</td></tr><tr><td>Toyota Camry</td><td>2018</td><td>76,480 miles</td><td>White exterior, Black interior</td><td>No accidents reported, 2 Owners</td><td>17929</td></tr><tr><td>Jaguar XJ</td><td>2018</td><td>30,267 miles</td><td>Black exterior, Black interior</td><td>1 accident reported, 2 Owners</td><td>32991</td></tr><tr><td>Jeep Cherokee</td><td>2019</td><td>54,659 miles</td><td>Black exterior, Black interior</td><td>3 accidents reported, 3 Owners</td><td>20998</td></tr><tr><td>Nissan Altima</td><td>2019</td><td>50,720 miles</td><td>Black exterior, Black interior</td><td>1 accident reported, 2 Owners</td><td>23998</td></tr><tr><td>Chevrolet Equinox</td><td>2018</td><td>93,999 miles</td><td>White exterior, Gray interior</td><td>No accidents reported, 1 Owner</td><td>12998</td></tr><tr><td>Ford F-150</td><td>2019</td><td>102,015 miles</td><td>White exterior, Black interior</td><td>No accidents reported, 1 Owner</td><td>22489</td></tr><tr><td>Jeep Wrangler</td><td>2018</td><td>57,849 miles</td><td>White exterior, Black interior</td><td>1 accident reported, 1 Owner</td><td>31998</td></tr><tr><td>Nissan Kicks</td><td>2018</td><td>20,185 miles</td><td>Silver exterior, Black interior</td><td>No accidents reported, 1 Owner</td><td>19998</td></tr><tr><td>Volkswagen Atlas</td><td>2019</td><td>38,711 miles</td><td>White exterior, Black interior</td><td>No accidents reported, 1 Owner</td><td>25998</td></tr><tr><td>Ford Transit Cargo Van</td><td>2019</td><td>52,902 miles</td><td>White exterior, Gray interior</td><td>No accidents reported, 1 Owner</td><td>34997</td></tr><tr><td>Ford Explorer</td><td>2018</td><td>54,567 miles</td><td>Black exterior, Black interior</td><td>2 accidents reported, 3 Owners</td><td>19900</td></tr><tr><td>Ford Escape</td><td>2019</td><td>76,075 miles</td><td>Black exterior, Gray interior</td><td>No accidents reported, 1 Owner</td><td>13995</td></tr><tr><td>Volkswagen Jetta</td><td>2019</td><td>55,802 miles</td><td>Silver exterior, Black interior</td><td>No accidents reported, 1 Owner</td><td>18998</td></tr><tr><td>Chevrolet Colorado</td><td>2018</td><td>69,981 miles</td><td>Gray exterior, Black interior</td><td>1 accident reported, 2 Owners</td><td>21998</td></tr><tr><td>Toyota RAV4</td><td>2018</td><td>29,341 miles</td><td>Silver exterior, Black interior</td><td>No accidents reported, 1 Owner</td><td>21488</td></tr><tr><td>Ram 1500</td><td>2019</td><td>49,845 miles</td><td>Gray exterior, Black interior</td><td>No accidents reported, 2 Owners</td><td>31998</td></tr><tr><td>Ram 1500 Classic</td><td>2019</td><td>39,860 miles</td><td>Black exterior, Black interior</td><td>No accidents reported, 1 Owner</td><td>28998</td></tr><tr><td>GMC Sierra 1500</td><td>2018</td><td>76,896 miles</td><td>White exterior, Black interior</td><td>1 accident reported, 1 Owner</td><td>35998</td></tr><tr><td>Volkswagen Atlas</td><td>2019</td><td>83,063 miles</td><td>Red exterior, Beige interior</td><td>No accidents reported, 1 Owner</td><td>17963</td></tr><tr><td>Ford Super Duty F-350</td><td>2019</td><td>59,269 miles</td><td>White exterior, Gray interior</td><td>No accidents reported, 1 Owner</td><td>38998</td></tr><tr><td>Ram 1500</td><td>2019</td><td>20,223 miles</td><td>White exterior, Black interior</td><td>No accidents reported, 1 Owner</td><td>34998</td></tr></tbody></table></div>"
      ]
     },
     "metadata": {
      "application/vnd.databricks.v1+output": {
       "addedWidgets": {},
       "aggData": [],
       "aggError": "",
       "aggOverflow": false,
       "aggSchema": [],
       "aggSeriesLimitReached": false,
       "aggType": "",
       "arguments": {},
       "columnCustomDisplayInfos": {},
       "data": [
        [
         "Honda Accord",
         "2019",
         "4,148 miles",
         "Black exterior, Black interior",
         "1 accident reported, 1 Owner",
         "20998"
        ],
        [
         "Mercedes-Benz GLC",
         "2018",
         "57,602 miles",
         "Blue exterior, Unknown interior",
         "1 accident reported, 3 Owners",
         "18887"
        ],
        [
         "Jeep Wrangler",
         "2018",
         "44,099 miles",
         "Gray exterior, Black interior",
         "No accidents reported, 2 Owners",
         "30998"
        ],
        [
         "Mercedes-Benz C-Class",
         "2018",
         "83,424 miles",
         "White exterior, Black interior",
         "1 accident reported, 2 Owners",
         "18285"
        ],
        [
         "Honda Odyssey",
         "2019",
         "61,318 miles",
         "Black exterior, Brown interior",
         "No accidents reported, 1 Owner",
         "26998"
        ],
        [
         "Honda CR-V",
         "2019",
         "17,123 miles",
         "Gray exterior, Black interior",
         "1 accident reported, 1 Owner",
         "24498"
        ],
        [
         "Chrysler Pacifica",
         "2018",
         "73,428 miles",
         "White exterior, Black interior",
         "No accidents reported, 2 Owners",
         "19998"
        ],
        [
         "Volkswagen Tiguan",
         "2019",
         "50,950 miles",
         "Gray exterior, Black interior",
         "No accidents reported, 1 Owner",
         "20998"
        ],
        [
         "Jeep Wrangler",
         "2019",
         "58,038 miles",
         "White exterior, Black interior",
         "No accidents reported, 3 Owners",
         "27998"
        ],
        [
         "Honda Accord",
         "2019",
         "58,575 miles",
         "White exterior, Black interior",
         "No accidents reported, 2 Owners",
         "21788"
        ],
        [
         "Mercedes-Benz GLC",
         "2019",
         "67,648 miles",
         "Black exterior, Black interior",
         "No accidents reported, 2 Owners",
         "22999"
        ],
        [
         "Jeep Grand Cherokee",
         "2018",
         "67,086 miles",
         "White exterior, Black interior",
         "No accidents reported, 2 Owners",
         "24998"
        ],
        [
         "Honda Odyssey",
         "2019",
         "51,617 miles",
         "Silver exterior, Brown interior",
         "1 accident reported, 1 Owner",
         "28998"
        ],
        [
         "Nissan Sentra",
         "2019",
         "50,045 miles",
         "Gray exterior, Black interior",
         "No accidents reported, 2 Owners",
         "16998"
        ],
        [
         "Volvo S90",
         "2019",
         "30,202 miles",
         "Black exterior, Black interior",
         "No accidents reported, 2 Owners",
         "26989"
        ],
        [
         "Mercedes-Benz GLS",
         "2019",
         "22,998 miles",
         "Silver exterior, Black interior",
         "1 accident reported, 1 Owner",
         "39999"
        ],
        [
         "Toyota Camry",
         "2018",
         "13,411 miles",
         "Black exterior, Black interior",
         "1 accident reported, 1 Owner",
         "24998"
        ],
        [
         "BMW 7 Series",
         "2019",
         "66,896 miles",
         "Black exterior, Black interior",
         "No accidents reported, 1 Owner",
         "28624"
        ],
        [
         "Ford Fusion",
         "2018",
         "67,207 miles",
         "Gray exterior, Black interior",
         "No accidents reported, 2 Owners",
         "16998"
        ],
        [
         "Lexus LX",
         "2018",
         "60,028 miles",
         "White exterior, Red interior",
         "3 accidents reported, 1 Owner",
         "53998"
        ],
        [
         "Toyota Tacoma",
         "2019",
         "48,925 miles",
         "Gray exterior, Gray interior",
         "No accidents reported, 2 Owners",
         "27555"
        ],
        [
         "Ford Transit Connect Van",
         "2019",
         "66,478 miles",
         "White exterior, Black interior",
         "No accidents reported, 1 Owner",
         "22995"
        ],
        [
         "Volvo S60",
         "2018",
         "55,196 miles",
         "Gray exterior, Black interior",
         "No accidents reported, 2 Owners",
         "18975"
        ],
        [
         "Chrysler Pacifica",
         "2018",
         "73,428 miles",
         "White exterior, Black interior",
         "No accidents reported, 2 Owners",
         "19998"
        ],
        [
         "Maserati Quattroporte",
         "2019",
         "66,469 miles",
         "Blue exterior, Brown interior",
         "No accidents reported, 1 Owner",
         "28421"
        ],
        [
         "Volvo XC90",
         "2018",
         "51,994 miles",
         "Silver exterior, Black interior",
         "No accidents reported, 1 Owner",
         "24999"
        ],
        [
         "Land Rover Range Rover",
         "2018",
         "35,993 miles",
         "White exterior, Black interior",
         "No accidents reported, 2 Owners",
         "47999"
        ],
        [
         "Ford Fusion",
         "2018",
         "61,962 miles",
         "Blue exterior, Black interior",
         "No accidents reported, 1 Owner",
         "14788"
        ],
        [
         "Volkswagen Tiguan",
         "2019",
         "50,950 miles",
         "Gray exterior, Black interior",
         "No accidents reported, 1 Owner",
         "20998"
        ],
        [
         "Mercedes-Benz E-Class",
         "2019",
         "38,783 miles",
         "White exterior, Black interior",
         "No accidents reported, 1 Owner",
         "29750"
        ],
        [
         "Dodge Charger",
         "2019",
         "42,526 miles",
         "White exterior, Black interior",
         "No accidents reported, 1 Owner",
         "18000"
        ],
        [
         "Chevrolet Malibu",
         "2018",
         "84,208 miles",
         "White exterior, Black interior",
         "No accidents reported, 3 Owners",
         "10995"
        ],
        [
         "Ford Ranger",
         "2019",
         "45,072 miles",
         "Gray exterior, Black interior",
         "No accidents reported, 1 Owner",
         "26495"
        ],
        [
         "Chevrolet Tahoe",
         "2018",
         "33,118 miles",
         "Black exterior, Black interior",
         "No accidents reported, 1 Owner",
         "36295"
        ],
        [
         "Jeep Wrangler",
         "2019",
         "58,038 miles",
         "White exterior, Black interior",
         "No accidents reported, 3 Owners",
         "27998"
        ],
        [
         "Land Rover Range Rover Velar",
         "2019",
         "26,989 miles",
         "White exterior, Unknown interior",
         "No accidents reported, 1 Owner",
         "44395"
        ],
        [
         "Jeep Wrangler",
         "2018",
         "50,216 miles",
         "White exterior, Black interior",
         "1 accident reported, 3 Owners",
         "24000"
        ],
        [
         "Toyota Tacoma",
         "2019",
         "48,925 miles",
         "Gray exterior, Gray interior",
         "No accidents reported, 2 Owners",
         "27555"
        ],
        [
         "Ford Transit Connect Van",
         "2019",
         "66,478 miles",
         "White exterior, Black interior",
         "No accidents reported, 1 Owner",
         "22995"
        ],
        [
         "Mercedes-Benz GLC",
         "2019",
         "37,682 miles",
         "Black exterior, Black interior",
         "No accidents reported, 1 Owner",
         "26998"
        ],
        [
         "Honda Civic",
         "2019",
         "45,246 miles",
         "White exterior, Black interior",
         "No accidents reported, 2 Owners",
         "21998"
        ],
        [
         "Volvo S60",
         "2018",
         "55,196 miles",
         "Gray exterior, Black interior",
         "No accidents reported, 2 Owners",
         "18975"
        ],
        [
         "Volkswagen Tiguan",
         "2019",
         "73,055 miles",
         "White exterior, Black interior",
         "No accidents reported, 1 Owner",
         "18998"
        ],
        [
         "Honda Odyssey",
         "2019",
         "51,617 miles",
         "Silver exterior, Brown interior",
         "1 accident reported, 1 Owner",
         "28998"
        ],
        [
         "Subaru WRX",
         "2019",
         "38,318 miles",
         "Gray exterior, Black interior",
         "No accidents reported, 4 Owners",
         "26298"
        ],
        [
         "Volkswagen Jetta",
         "2019",
         "19,267 miles",
         "White exterior, Black interior",
         "No accidents reported, 1 Owner",
         "17991"
        ],
        [
         "Nissan Sentra",
         "2019",
         "50,045 miles",
         "Gray exterior, Black interior",
         "No accidents reported, 2 Owners",
         "16998"
        ],
        [
         "Honda Civic",
         "2018",
         "77,068 miles",
         "White exterior, Gray interior",
         "No accidents reported, 3 Owners",
         "14987"
        ],
        [
         "Chevrolet Silverado 1500",
         "2018",
         "20,165 miles",
         "Gray exterior, Black interior",
         "No accidents reported, 1 Owner",
         "41000"
        ],
        [
         "Toyota Camry",
         "2018",
         "13,411 miles",
         "Black exterior, Black interior",
         "1 accident reported, 1 Owner",
         "24998"
        ],
        [
         "Land Rover Range Rover Velar",
         "2019",
         "26,989 miles",
         "White exterior, Unknown interior",
         "No accidents reported, 1 Owner",
         "44395"
        ],
        [
         "Jeep Wrangler",
         "2018",
         "50,216 miles",
         "White exterior, Black interior",
         "1 accident reported, 3 Owners",
         "24000"
        ],
        [
         "Audi Q3",
         "2018",
         "34,641 miles",
         "White exterior, Black interior",
         "No accidents reported, 1 Owner",
         "23998"
        ],
        [
         "BMW 3 Series",
         "2018",
         "56,467 miles",
         "White exterior, Black interior",
         "1 accident reported, 2 Owners",
         "22998"
        ],
        [
         "Jeep Grand Cherokee",
         "2018",
         "48,895 miles",
         "Gray exterior, Black interior",
         "2 accidents reported, 1 Owner",
         "22995"
        ],
        [
         "Jeep Compass",
         "2019",
         "84,793 miles",
         "Black exterior, Black interior",
         "1 accident reported, 3 Owners",
         "17998"
        ],
        [
         "Nissan Pathfinder",
         "2019",
         "61,819 miles",
         "Silver exterior, Black interior",
         "No accidents reported, 3 Owners",
         "17988"
        ],
        [
         "Mercedes-Benz C-Class",
         "2019",
         "32,753 miles",
         "White exterior, Black interior",
         "No accidents reported, 2 Owners",
         "32446"
        ],
        [
         "Mazda Mazda3",
         "2018",
         "67,973 miles",
         "Red exterior, Black interior",
         "1 accident reported, 2 Owners",
         "17998"
        ],
        [
         "BMW 4 Series",
         "2019",
         "53,278 miles",
         "White exterior, White interior",
         "No accidents reported, 2 Owners",
         "28998"
        ],
        [
         "Dodge Charger",
         "2019",
         "42,531 miles",
         "White exterior, Black interior",
         "No accidents reported, 1 Owner",
         "18700"
        ],
        [
         "Dodge Grand Caravan",
         "2019",
         "89,118 miles",
         "Gray exterior, Black interior",
         "No accidents reported, 2 Owners",
         "12650"
        ],
        [
         "BMW X1",
         "2018",
         "52,323 miles",
         "Black exterior, Black interior",
         "No accidents reported, 1 Owner",
         "21998"
        ],
        [
         "Volkswagen Jetta",
         "2019",
         "39,057 miles",
         "Black exterior, Gray interior",
         "No accidents reported, 1 Owner",
         "15190"
        ],
        [
         "Subaru WRX",
         "2018",
         "12,876 miles",
         "White exterior, Black interior",
         "No accidents reported, 1 Owner",
         "28598"
        ],
        [
         "Buick Encore",
         "2019",
         "26,251 miles",
         "Red exterior, Black interior",
         "No accidents reported, 1 Owner",
         "18798"
        ],
        [
         "Honda Accord",
         "2018",
         "19,668 miles",
         "Gray exterior, Black interior",
         "No accidents reported, 1 Owner",
         "23998"
        ],
        [
         "Ford Fusion",
         "2019",
         "20,687 miles",
         "White exterior, Black interior",
         "No accidents reported, 1 Owner",
         "22998"
        ],
        [
         "Cadillac XT5",
         "2018",
         "86,034 miles",
         "Black exterior, Black interior",
         "No accidents reported, 1 Owner",
         "21998"
        ],
        [
         "Lexus ES",
         "2019",
         "18,131 miles",
         "Black exterior, Black interior",
         "2 accidents reported, 1 Owner",
         "30369"
        ],
        [
         "Ford Transit Passenger Wagon",
         "2018",
         "49,057 miles",
         "White exterior, Black interior",
         "No accidents reported, 2 Owners",
         "37997"
        ],
        [
         "INFINITI Q50",
         "2019",
         "51,091 miles",
         "White exterior, Gray interior",
         "No accidents reported, 1 Owner",
         "21333"
        ],
        [
         "Audi A4",
         "2018",
         "50,012 miles",
         "Black exterior, Black interior",
         "1 accident reported, 2 Owners",
         "23222"
        ],
        [
         "Acura RDX",
         "2018",
         "29,848 miles",
         "Black exterior, Black interior",
         "1 accident reported, 3 Owners",
         "24998"
        ],
        [
         "Hyundai Tucson",
         "2018",
         "93,594 miles",
         "Gray exterior, Black interior",
         "No accidents reported, 1 Owner",
         "16998"
        ],
        [
         "Mercedes-Benz C-Class",
         "2019",
         "16,529 miles",
         "Black exterior, Black interior",
         "1 accident reported, 1 Owner",
         "28998"
        ],
        [
         "Dodge Challenger",
         "2018",
         "49,734 miles",
         "White exterior, Black interior",
         "No accidents reported, 2 Owners",
         "22998"
        ],
        [
         "Mercedes-Benz GLA",
         "2019",
         "34,972 miles",
         "Black exterior, Black interior",
         "No accidents reported, 2 Owners",
         "22142"
        ],
        [
         "Jeep Wrangler",
         "2019",
         "67,771 miles",
         "White exterior, Black interior",
         "No accidents reported, 2 Owners",
         "25988"
        ],
        [
         "Land Rover Range Rover Velar",
         "2018",
         "33,452 miles",
         "White exterior, Black interior",
         "1 accident reported, 2 Owners",
         "35998"
        ],
        [
         "Ford Transit Passenger Wagon",
         "2019",
         "47,789 miles",
         "White exterior, Gray interior",
         "No accidents reported, 1 Owner",
         "49995"
        ],
        [
         "Ford Explorer",
         "2018",
         "47,760 miles",
         "White exterior, Black interior",
         "No accidents reported, 2 Owners",
         "22333"
        ],
        [
         "Dodge Challenger",
         "2019",
         "64,587 miles",
         "Gray exterior, Black interior",
         "1 accident reported, 1 Owner",
         "21449"
        ],
        [
         "Mercedes-Benz E-Class",
         "2019",
         "41,075 miles",
         "Black exterior, Black interior",
         "1 accident reported, 1 Owner",
         "26991"
        ],
        [
         "Honda Accord",
         "2018",
         "34,889 miles",
         "Blue exterior, Black interior",
         "No accidents reported, 2 Owners",
         "24400"
        ],
        [
         "Jaguar XF",
         "2018",
         "38,894 miles",
         "Gray exterior, Beige interior",
         "No accidents reported, 3 Owners",
         "22444"
        ],
        [
         "Chevrolet Silverado 1500",
         "2018",
         "50,079 miles",
         "White exterior, Black interior",
         "No accidents reported, 4 Owners",
         "24777"
        ],
        [
         "Mercedes-Benz C-Class",
         "2018",
         "55,367 miles",
         "White exterior, Black interior",
         "No accidents reported, 2 Owners",
         "24166"
        ],
        [
         "Volkswagen Jetta",
         "2019",
         "33,822 miles",
         "Black exterior, Black interior",
         "No accidents reported, 1 Owner",
         "15444"
        ],
        [
         "Jeep Wrangler",
         "2018",
         "27,646 miles",
         "Red exterior, Black interior",
         "1 accident reported, 2 Owners",
         "26260"
        ],
        [
         "Ford Transit Passenger Wagon",
         "2018",
         "49,057 miles",
         "White exterior, Black interior",
         "No accidents reported, 2 Owners",
         "37997"
        ],
        [
         "Mercedes-Benz C-Class",
         "2018",
         "59,696 miles",
         "White exterior, Black interior",
         "2 accidents reported, 2 Owners",
         "21998"
        ],
        [
         "Ford F-150",
         "2019",
         "112,327 miles",
         "White exterior, Gray interior",
         "No accidents reported, 1 Owner",
         "19998"
        ],
        [
         "Jaguar F-PACE",
         "2019",
         "47,051 miles",
         "Black exterior, Unknown interior",
         "No accidents reported, 1 Owner",
         "29013"
        ],
        [
         "Ford Fusion",
         "2018",
         "86,182 miles",
         "White exterior, Black interior",
         "1 accident reported, 2 Owners",
         "13995"
        ],
        [
         "Mercedes-Benz C-Class",
         "2019",
         "49,842 miles",
         "Black exterior, Black interior",
         "No accidents reported, 2 Owners",
         "25163"
        ],
        [
         "Toyota Tacoma",
         "2019",
         "27,160 miles",
         "Gray exterior, Black interior",
         "2 accidents reported, 1 Owner",
         "33998"
        ],
        [
         "Honda Accord",
         "2018",
         "34,889 miles",
         "Blue exterior, Black interior",
         "No accidents reported, 2 Owners",
         "24400"
        ],
        [
         "Jaguar XF",
         "2018",
         "38,894 miles",
         "Gray exterior, Beige interior",
         "No accidents reported, 3 Owners",
         "22444"
        ],
        [
         "Chevrolet Silverado 1500",
         "2018",
         "50,079 miles",
         "White exterior, Black interior",
         "No accidents reported, 4 Owners",
         "24777"
        ],
        [
         "Mercedes-Benz C-Class",
         "2018",
         "55,367 miles",
         "White exterior, Black interior",
         "No accidents reported, 2 Owners",
         "24166"
        ],
        [
         "Volkswagen Jetta",
         "2019",
         "33,822 miles",
         "Black exterior, Black interior",
         "No accidents reported, 1 Owner",
         "15444"
        ],
        [
         "Nissan Maxima",
         "2018",
         "43,047 miles",
         "Red exterior, Beige interior",
         "No accidents reported, 2 Owners",
         "21998"
        ],
        [
         "Dodge Charger",
         "2019",
         "129,303 miles",
         "White exterior, Black interior",
         "No accidents reported, 2 Owners",
         "13999"
        ],
        [
         "Dodge Charger",
         "2018",
         "105,394 miles",
         "White exterior, Black interior",
         "No accidents reported, 2 Owners",
         "18998"
        ],
        [
         "Volkswagen Atlas",
         "2019",
         "28,165 miles",
         "Silver exterior, Black interior",
         "No accidents reported, 1 Owner",
         "27998"
        ],
        [
         "Hyundai Sonata",
         "2019",
         "38,199 miles",
         "Black exterior, Black interior",
         "1 accident reported, 1 Owner",
         "18998"
        ],
        [
         "Toyota 4Runner",
         "2019",
         "45,870 miles",
         "Black exterior, Black interior",
         "1 accident reported, 1 Owner",
         "29998"
        ],
        [
         "Ford F-150",
         "2019",
         "112,327 miles",
         "White exterior, Gray interior",
         "No accidents reported, 1 Owner",
         "19998"
        ],
        [
         "Jaguar F-PACE",
         "2019",
         "47,051 miles",
         "Black exterior, Unknown interior",
         "No accidents reported, 1 Owner",
         "29013"
        ],
        [
         "Mercedes-Benz C-Class",
         "2019",
         "46,446 miles",
         "Blue exterior, Beige interior",
         "No accidents reported, 2 Owners",
         "22000"
        ],
        [
         "Mercedes-Benz GLC",
         "2019",
         "33,933 miles",
         "Black exterior, Black interior",
         "No accidents reported, 2 Owners",
         "26888"
        ],
        [
         "Chevrolet Equinox",
         "2018",
         "46,513 miles",
         "Silver exterior, Black interior",
         "3 accidents reported, 1 Owner",
         "14987"
        ],
        [
         "Mercedes-Benz C-Class",
         "2019",
         "49,842 miles",
         "Black exterior, Black interior",
         "No accidents reported, 2 Owners",
         "25163"
        ],
        [
         "Toyota Camry",
         "2019",
         "37,498 miles",
         "White exterior, Black interior",
         "2 accidents reported, 1 Owner",
         "23998"
        ],
        [
         "Dodge Grand Caravan",
         "2019",
         "54,821 miles",
         "White exterior, Black interior",
         "No accidents reported, 2 Owners",
         "20998"
        ],
        [
         "Kia Optima",
         "2019",
         "55,465 miles",
         "Silver exterior, Black interior",
         "2 accidents reported, 4 Owners",
         "17998"
        ],
        [
         "Toyota RAV4",
         "2019",
         "16,985 miles",
         "Silver exterior, Gray interior",
         "No accidents reported, 1 Owner",
         "28599"
        ],
        [
         "Ford F-150",
         "2019",
         "44,978 miles",
         "Black exterior, Black interior",
         "No accidents reported, 1 Owner",
         "30795"
        ],
        [
         "Mercedes-Benz GLC",
         "2019",
         "37,682 miles",
         "Black exterior, Black interior",
         "No accidents reported, 1 Owner",
         "26998"
        ],
        [
         "Honda Civic",
         "2019",
         "45,246 miles",
         "White exterior, Black interior",
         "No accidents reported, 2 Owners",
         "21998"
        ],
        [
         "Audi Q3",
         "2018",
         "21,714 miles",
         "White exterior, Black interior",
         "No accidents reported, 1 Owner",
         "21499"
        ],
        [
         "Lexus RX",
         "2018",
         "50,215 miles",
         "White exterior, Gray interior",
         "1 accident reported, 1 Owner",
         "27986"
        ],
        [
         "Jeep Wrangler",
         "2018",
         "50,118 miles",
         "Gray exterior, Black interior",
         "No accidents reported, 1 Owner",
         "24515"
        ],
        [
         "Mercedes-Benz A-Class",
         "2019",
         "27,297 miles",
         "Silver exterior, Black interior",
         "1 accident reported, 1 Owner",
         "22588"
        ],
        [
         "Audi Q3",
         "2018",
         "34,641 miles",
         "White exterior, Black interior",
         "No accidents reported, 1 Owner",
         "23998"
        ],
        [
         "Jeep Cherokee",
         "2018",
         "60,305 miles",
         "Black exterior, Black interior",
         "1 accident reported, 2 Owners",
         "15888"
        ],
        [
         "Mercedes-Benz A-Class",
         "2019",
         "34,366 miles",
         "Black exterior, Black interior",
         "1 accident reported, 3 Owners",
         "21987"
        ],
        [
         "Volkswagen Tiguan",
         "2019",
         "73,055 miles",
         "White exterior, Black interior",
         "No accidents reported, 1 Owner",
         "18998"
        ],
        [
         "Toyota Tacoma",
         "2019",
         "117,204 miles",
         "White exterior, Gray interior",
         "1 accident reported, 1 Owner",
         "19999"
        ],
        [
         "Honda Civic",
         "2018",
         "72,905 miles",
         "White exterior, Beige interior",
         "No accidents reported, 3 Owners",
         "14500"
        ],
        [
         "Volkswagen Atlas",
         "2019",
         "36,108 miles",
         "Blue exterior, Black interior",
         "No accidents reported, 1 Owner",
         "23987"
        ],
        [
         "Kia Soul",
         "2018",
         "52,817 miles",
         "Gray exterior, Black interior",
         "No accidents reported, 3 Owners",
         "11995"
        ],
        [
         "Jeep Compass",
         "2019",
         "84,793 miles",
         "Black exterior, Black interior",
         "1 accident reported, 3 Owners",
         "17998"
        ],
        [
         "Dodge Journey",
         "2018",
         "73,637 miles",
         "Black exterior, Black interior",
         "No accidents reported, 1 Owner",
         "10999"
        ],
        [
         "Honda CR-V",
         "2019",
         "27,490 miles",
         "Gray exterior, Black interior",
         "No accidents reported, 1 Owner",
         "24063"
        ],
        [
         "Jeep Grand Cherokee",
         "2018",
         "63,600 miles",
         "Black exterior, Black interior",
         "No accidents reported, 2 Owners",
         "25998"
        ],
        [
         "Toyota RAV4",
         "2018",
         "54,264 miles",
         "White exterior, Black interior",
         "No accidents reported, 0 Owners",
         "19555"
        ],
        [
         "Honda CR-V",
         "2018",
         "54,900 miles",
         "Gray exterior, Black interior",
         "No accidents reported, 1 Owner",
         "22998"
        ],
        [
         "Ford Transit Passenger Wagon",
         "2019",
         "73,340 miles",
         "White exterior, Black interior",
         "No accidents reported, 2 Owners",
         "36997"
        ],
        [
         "Mazda Mazda3",
         "2018",
         "67,973 miles",
         "Red exterior, Black interior",
         "1 accident reported, 2 Owners",
         "17998"
        ],
        [
         "Toyota Corolla",
         "2019",
         "103,363 miles",
         "Red exterior, Black interior",
         "No accidents reported, 1 Owner",
         "12999"
        ],
        [
         "Honda Civic",
         "2018",
         "40,171 miles",
         "Gray exterior, Gray interior",
         "1 accident reported, 1 Owner",
         "17495"
        ],
        [
         "Toyota Corolla",
         "2018",
         "116,630 miles",
         "White exterior, Black interior",
         "1 accident reported, 2 Owners",
         "12999"
        ],
        [
         "Audi A3",
         "2018",
         "78,782 miles",
         "Gray exterior, Black interior",
         "1 accident reported, 1 Owner",
         "15898"
        ],
        [
         "Cadillac XT5",
         "2019",
         "45,232 miles",
         "White exterior, Beige interior",
         "No accidents reported, 1 Owner",
         "20094"
        ],
        [
         "Porsche Macan",
         "2018",
         "38,205 miles",
         "Black exterior, Black interior",
         "No accidents reported, 4 Owners",
         "32295"
        ],
        [
         "Ford Ranger",
         "2019",
         "77,267 miles",
         "Silver exterior, Black interior",
         "No accidents reported, 1 Owner",
         "19876"
        ],
        [
         "Honda Civic",
         "2019",
         "64,566 miles",
         "Black exterior, Black interior",
         "1 accident reported, 2 Owners",
         "17084"
        ],
        [
         "Ford F-150",
         "2019",
         "44,978 miles",
         "Black exterior, Black interior",
         "No accidents reported, 1 Owner",
         "30795"
        ],
        [
         "Audi Q3",
         "2018",
         "21,714 miles",
         "White exterior, Black interior",
         "No accidents reported, 1 Owner",
         "21499"
        ],
        [
         "Lexus RX",
         "2018",
         "50,215 miles",
         "White exterior, Gray interior",
         "1 accident reported, 1 Owner",
         "27986"
        ],
        [
         "Kia Optima",
         "2019",
         "20,602 miles",
         "White exterior, Black interior",
         "No accidents reported, 1 Owner",
         "19999"
        ],
        [
         "Subaru Crosstrek",
         "2018",
         "71,542 miles",
         "Blue exterior, Gray interior",
         "No accidents reported, 3 Owners",
         "21998"
        ],
        [
         "Volkswagen Jetta",
         "2019",
         "32,759 miles",
         "Gray exterior, Black interior",
         "1 accident reported, 2 Owners",
         "16765"
        ],
        [
         "Honda Accord",
         "2019",
         "40,673 miles",
         "Gray exterior, Gray interior",
         "1 accident reported, 1 Owner",
         "17991"
        ],
        [
         "BMW X5",
         "2019",
         "19,417 miles",
         "White exterior, Black interior",
         "No accidents reported, 1 Owner",
         "43998"
        ],
        [
         "Maserati Levante",
         "2019",
         "22,529 miles",
         "Black exterior, Black interior",
         "2 accidents reported, 1 Owner",
         "32000"
        ],
        [
         "Ford Fusion",
         "2018",
         "62,354 miles",
         "White exterior, Unknown interior",
         "1 accident reported, 2 Owners",
         "10800"
        ],
        [
         "Jeep Wrangler",
         "2018",
         "33,724 miles",
         "White exterior, Black interior",
         "No accidents reported, 3 Owners",
         "31998"
        ],
        [
         "Mercedes-Benz CLA",
         "2019",
         "54,727 miles",
         "Black exterior, Black interior",
         "No accidents reported, 2 Owners",
         "19999"
        ],
        [
         "Ford Transit Passenger Wagon",
         "2019",
         "73,340 miles",
         "White exterior, Black interior",
         "No accidents reported, 2 Owners",
         "36997"
        ],
        [
         "Toyota Corolla",
         "2019",
         "103,363 miles",
         "Red exterior, Black interior",
         "No accidents reported, 1 Owner",
         "12999"
        ],
        [
         "Honda Civic",
         "2018",
         "40,171 miles",
         "Gray exterior, Gray interior",
         "1 accident reported, 1 Owner",
         "17495"
        ],
        [
         "Toyota Corolla",
         "2018",
         "116,630 miles",
         "White exterior, Black interior",
         "1 accident reported, 2 Owners",
         "12999"
        ],
        [
         "Audi A3",
         "2018",
         "78,782 miles",
         "Gray exterior, Black interior",
         "1 accident reported, 1 Owner",
         "15898"
        ],
        [
         "Cadillac XT5",
         "2019",
         "45,232 miles",
         "White exterior, Beige interior",
         "No accidents reported, 1 Owner",
         "20094"
        ],
        [
         "Nissan Altima",
         "2019",
         "88,155 miles",
         "White exterior, Black interior",
         "No accidents reported, 3 Owners",
         "14450"
        ],
        [
         "Honda Civic",
         "2019",
         "39,515 miles",
         "Gray exterior, Gray interior",
         "1 accident reported, 1 Owner",
         "19770"
        ],
        [
         "Honda Odyssey",
         "2019",
         "49,419 miles",
         "Silver exterior, Brown interior",
         "No accidents reported, 3 Owners",
         "26581"
        ],
        [
         "Volkswagen Tiguan",
         "2019",
         "47,154 miles",
         "White exterior, Gray interior",
         "No accidents reported, 2 Owners",
         "19998"
        ],
        [
         "Kia Optima",
         "2018",
         "59,244 miles",
         "White exterior, Beige interior",
         "1 accident reported, 2 Owners",
         "12900"
        ],
        [
         "Ford EcoSport",
         "2018",
         "49,941 miles",
         "Red exterior, Black interior",
         "No accidents reported, 2 Owners",
         "13977"
        ],
        [
         "Mercedes-Benz GLA",
         "2018",
         "79,753 miles",
         "Black exterior, Black interior",
         "No accidents reported, 4 Owners",
         "16500"
        ],
        [
         "Toyota Tacoma",
         "2019",
         "59,252 miles",
         "Gray exterior, Unknown interior",
         "No accidents reported, 1 Owner",
         "29995"
        ],
        [
         "Nissan Maxima",
         "2018",
         "33,292 miles",
         "Gray exterior, Black interior",
         "1 accident reported, 3 Owners",
         "18450"
        ],
        [
         "BMW 3 Series",
         "2018",
         "44,001 miles",
         "Black exterior, Black interior",
         "No accidents reported, 3 Owners",
         "20999"
        ],
        [
         "Ford F-150",
         "2018",
         "75,393 miles",
         "Silver exterior, Gray interior",
         "No accidents reported, 1 Owner",
         "33800"
        ],
        [
         "Mercedes-Benz A-Class",
         "2019",
         "28,010 miles",
         "Silver exterior, Black interior",
         "2 accidents reported, 2 Owners",
         "25440"
        ],
        [
         "Dodge Charger",
         "2019",
         "71,018 miles",
         "Black exterior, Black interior",
         "No accidents reported, 3 Owners",
         "20959"
        ],
        [
         "Land Rover Range Rover",
         "2018",
         "45,880 miles",
         "Black exterior, Gray interior",
         "No accidents reported, 2 Owners",
         "46999"
        ],
        [
         "Jeep Wrangler",
         "2019",
         "47,368 miles",
         "Black exterior, Black interior",
         "No accidents reported, 3 Owners",
         "34998"
        ],
        [
         "Chevrolet Cruze",
         "2018",
         "95,458 miles",
         "Silver exterior, Black interior",
         "No accidents reported, 2 Owners",
         "10995"
        ],
        [
         "Subaru Impreza",
         "2019",
         "35,495 miles",
         "Black exterior, Black interior",
         "No accidents reported, 1 Owner",
         "18999"
        ],
        [
         "GMC Acadia",
         "2019",
         "62,813 miles",
         "Black exterior, Black interior",
         "1 accident reported, 1 Owner",
         "19500"
        ],
        [
         "Mazda Mazda3",
         "2019",
         "13,488 miles",
         "Gray exterior, Gray interior",
         "No accidents reported, 1 Owner",
         "23074"
        ],
        [
         "Ford Escape",
         "2019",
         "10,838 miles",
         "Gray exterior, Black interior",
         "No accidents reported, 2 Owners",
         "20445"
        ],
        [
         "Buick Encore",
         "2019",
         "21,872 miles",
         "White exterior, Gray interior",
         "No accidents reported, 2 Owners",
         "19998"
        ],
        [
         "Toyota RAV4",
         "2018",
         "54,264 miles",
         "White exterior, Black interior",
         "2 accidents reported, 1 Owner",
         "19555"
        ],
        [
         "Dodge Challenger",
         "2019",
         "54,568 miles",
         "White exterior, Black interior",
         "No accidents reported, 1 Owner",
         "21998"
        ],
        [
         "Mercedes-Benz CLA",
         "2019",
         "54,727 miles",
         "Black exterior, Black interior",
         "No accidents reported, 2 Owners",
         "19999"
        ],
        [
         "Audi Q7",
         "2019",
         "25,687 miles",
         "Black exterior, Black interior",
         "2 accidents reported, 1 Owner",
         "33998"
        ],
        [
         "BMW 5 Series",
         "2019",
         "41,249 miles",
         "Black exterior, Black interior",
         "No accidents reported, 1 Owner",
         "25999"
        ],
        [
         "Mercedes-Benz GLC",
         "2019",
         "23,268 miles",
         "Blue exterior, Unknown interior",
         "1 accident reported, 3 Owners",
         "32998"
        ],
        [
         "Audi A4",
         "2018",
         "60,428 miles",
         "Silver exterior, Black interior",
         "No accidents reported, 2 Owners",
         "19399"
        ],
        [
         "MINI Countryman",
         "2018",
         "70,844 miles",
         "Blue exterior, Black interior",
         "No accidents reported, 2 Owners",
         "21998"
        ],
        [
         "Volkswagen Jetta",
         "2019",
         "43,481 miles",
         "White exterior, Black interior",
         "No accidents reported, 2 Owners",
         "17998"
        ],
        [
         "Kia Optima",
         "2018",
         "137,615 miles",
         "Black exterior, Black interior",
         "1 accident reported, 2 Owners",
         "8499"
        ],
        [
         "Nissan Murano",
         "2018",
         "94,426 miles",
         "Silver exterior, Gray interior",
         "No accidents reported, 4 Owners",
         "13987"
        ],
        [
         "Jaguar F-PACE",
         "2019",
         "60,812 miles",
         "White exterior, Black interior",
         "1 accident reported, 1 Owner",
         "19349"
        ],
        [
         "Honda Civic",
         "2018",
         "84,732 miles",
         "Black exterior, Black interior",
         "No accidents reported, 3 Owners",
         "16500"
        ],
        [
         "Hyundai Tucson",
         "2019",
         "50,496 miles",
         "Blue exterior, Black interior",
         "No accidents reported, 2 Owners",
         "18998"
        ],
        [
         "Kia Forte",
         "2019",
         "53,113 miles",
         "Gray exterior, Black interior",
         "No accidents reported, 1 Owner",
         "15695"
        ],
        [
         "Jeep Wrangler",
         "2018",
         "52,098 miles",
         "Black exterior, Black interior",
         "No accidents reported, 1 Owner",
         "24910"
        ],
        [
         "Honda Civic",
         "2019",
         "31,114 miles",
         "Black exterior, Black interior",
         "No accidents reported, 2 Owners",
         "21998"
        ],
        [
         "Nissan Sentra",
         "2019",
         "50,110 miles",
         "White exterior, Black interior",
         "No accidents reported, 2 Owners",
         "16998"
        ],
        [
         "Audi Q5",
         "2018",
         "43,865 miles",
         "Blue exterior, Black interior",
         "1 accident reported, 2 Owners",
         "19992"
        ],
        [
         "Chevrolet Cruze",
         "2018",
         "70,218 miles",
         "Black exterior, Black interior",
         "1 accident reported, 1 Owner",
         "13200"
        ],
        [
         "Chevrolet Traverse",
         "2019",
         "31,111 miles",
         "Gray exterior, Black interior",
         "No accidents reported, 1 Owner",
         "27999"
        ],
        [
         "Toyota Camry",
         "2019",
         "64,053 miles",
         "White exterior, Black interior",
         "1 accident reported, 2 Owners",
         "21998"
        ],
        [
         "Mercedes-Benz A-Class",
         "2019",
         "29,934 miles",
         "Black exterior, Black interior",
         "No accidents reported, 1 Owner",
         "25899"
        ],
        [
         "Dodge Charger",
         "2019",
         "71,018 miles",
         "Black exterior, Black interior",
         "No accidents reported, 3 Owners",
         "20959"
        ],
        [
         "Land Rover Range Rover",
         "2018",
         "45,880 miles",
         "Black exterior, Gray interior",
         "No accidents reported, 2 Owners",
         "46999"
        ],
        [
         "BMW X1",
         "2018",
         "55,265 miles",
         "White exterior, Black interior",
         "1 accident reported, 2 Owners",
         "21998"
        ],
        [
         "Chevrolet Cruze",
         "2018",
         "95,458 miles",
         "Silver exterior, Black interior",
         "No accidents reported, 2 Owners",
         "10995"
        ],
        [
         "Subaru Impreza",
         "2019",
         "35,495 miles",
         "Black exterior, Black interior",
         "No accidents reported, 1 Owner",
         "18999"
        ],
        [
         "GMC Acadia",
         "2019",
         "62,813 miles",
         "Black exterior, Black interior",
         "1 accident reported, 1 Owner",
         "19500"
        ],
        [
         "Jeep Wrangler",
         "2018",
         "56,425 miles",
         "White exterior, Black interior",
         "No accidents reported, 1 Owner",
         "21920"
        ],
        [
         "Chevrolet Silverado 1500",
         "2019",
         "76,920 miles",
         "Black exterior, Black interior",
         "1 accident reported, 2 Owners",
         "31998"
        ],
        [
         "Mercedes-Benz S-Class",
         "2019",
         "48,491 miles",
         "Silver exterior, Black interior",
         "No accidents reported, 1 Owner",
         "49499"
        ],
        [
         "Land Rover Range Rover Evoque",
         "2019",
         "45,704 miles",
         "White exterior, Black interior",
         "1 accident reported, 3 Owners",
         "24499"
        ],
        [
         "INFINITI QX60",
         "2018",
         "63,000 miles",
         "Gray exterior, Brown interior",
         "No accidents reported, 2 Owners",
         "19988"
        ],
        [
         "Mercedes-Benz GLC",
         "2019",
         "19,494 miles",
         "Gray exterior, Black interior",
         "No accidents reported, 2 Owners",
         "27998"
        ],
        [
         "Audi Q7",
         "2019",
         "26,958 miles",
         "Gray exterior, Beige interior",
         "No accidents reported, 1 Owner",
         "29998"
        ],
        [
         "Mercedes-Benz C-Class",
         "2019",
         "37,366 miles",
         "Black exterior, Black interior",
         "No accidents reported, 2 Owners",
         "25262"
        ],
        [
         "Chevrolet Silverado 1500",
         "2018",
         "61,608 miles",
         "Gray exterior, Black interior",
         "No accidents reported, 1 Owner",
         "30549"
        ],
        [
         "Mercedes-Benz CLS",
         "2019",
         "23,351 miles",
         "White exterior, Black interior",
         "No accidents reported, 1 Owner",
         "43895"
        ],
        [
         "Hyundai Elantra",
         "2018",
         "40,223 miles",
         "Silver exterior, Gray interior",
         "No accidents reported, 3 Owners",
         "12999"
        ],
        [
         "Nissan Sentra",
         "2019",
         "37,152 miles",
         "White exterior, Black interior",
         "No accidents reported, 1 Owner",
         "13799"
        ],
        [
         "Ford F-150",
         "2019",
         "91,274 miles",
         "White exterior, Brown interior",
         "No accidents reported, 1 Owner",
         "29980"
        ],
        [
         "Porsche 718 Cayman",
         "2018",
         "54,169 miles",
         "Black exterior, Black interior",
         "No accidents reported, 2 Owners",
         "48919"
        ],
        [
         "Hyundai Elantra",
         "2018",
         "39,023 miles",
         "Gray exterior, Black interior",
         "2 accidents reported, 1 Owner",
         "12995"
        ],
        [
         "Honda CR-V",
         "2018",
         "44,533 miles",
         "Black exterior, Black interior",
         "No accidents reported, 1 Owner",
         "21998"
        ],
        [
         "Mercedes-Benz GLS",
         "2019",
         "58,536 miles",
         "Black exterior, Brown interior",
         "No accidents reported, 2 Owners",
         "35991"
        ],
        [
         "Volkswagen Atlas",
         "2018",
         "68,069 miles",
         "Silver exterior, Black interior",
         "No accidents reported, 4 Owners",
         "21998"
        ],
        [
         "Toyota C-HR",
         "2019",
         "70,631 miles",
         "Gray exterior, Black interior",
         "1 accident reported, 2 Owners",
         "16220"
        ],
        [
         "Ford F-150",
         "2018",
         "157,394 miles",
         "Gray exterior, Gray interior",
         "No accidents reported, 3 Owners",
         "17995"
        ],
        [
         "Ford Escape",
         "2018",
         "32,704 miles",
         "White exterior, Black interior",
         "No accidents reported, 2 Owners",
         "13987"
        ],
        [
         "Audi Q3",
         "2019",
         "63,070 miles",
         "Black exterior, Black interior",
         "No accidents reported, 1 Owner",
         "17500"
        ],
        [
         "Lexus NX",
         "2019",
         "37,294 miles",
         "Unknown exterior, Black interior",
         "No accidents reported, 1 Owner",
         "28300"
        ],
        [
         "Jaguar E-PACE",
         "2019",
         "33,270 miles",
         "White exterior, Unknown interior",
         "No accidents reported, 2 Owners",
         "24000"
        ],
        [
         "McLaren 720S",
         "2018",
         "8,652 miles",
         "White exterior, Unknown interior",
         "No accidents reported, 3 Owners",
         "219999"
        ],
        [
         "Honda Odyssey",
         "2018",
         "75,932 miles",
         "Gray exterior, Gray interior",
         "1 accident reported, 2 Owners",
         "25998"
        ],
        [
         "Mercedes-Benz C-Class",
         "2018",
         "36,871 miles",
         "Blue exterior, Gray interior",
         "2 accidents reported, 3 Owners",
         "22998"
        ],
        [
         "Audi Q5",
         "2018",
         "43,865 miles",
         "Blue exterior, Black interior",
         "1 accident reported, 2 Owners",
         "19992"
        ],
        [
         "Chevrolet Cruze",
         "2018",
         "70,218 miles",
         "Black exterior, Black interior",
         "1 accident reported, 1 Owner",
         "13200"
        ],
        [
         "Chevrolet Traverse",
         "2019",
         "31,111 miles",
         "Gray exterior, Black interior",
         "No accidents reported, 1 Owner",
         "27999"
        ],
        [
         "Nissan Rogue",
         "2018",
         "62,713 miles",
         "Blue exterior, Black interior",
         "No accidents reported, 2 Owners",
         "18998"
        ],
        [
         "Jeep Wrangler",
         "2019",
         "30,170 miles",
         "White exterior, Black interior",
         "No accidents reported, 1 Owner",
         "29998"
        ],
        [
         "Jeep Wrangler",
         "2018",
         "51,323 miles",
         "Black exterior, Black interior",
         "No accidents reported, 2 Owners",
         "29998"
        ],
        [
         "Ford Ranger",
         "2019",
         "69,689 miles",
         "Blue exterior, Black interior",
         "No accidents reported, 2 Owners",
         "23400"
        ],
        [
         "Ford Mustang",
         "2018",
         "9,452 miles",
         "White exterior, Black interior",
         "No accidents reported, 3 Owners",
         "58495"
        ],
        [
         "Toyota Tacoma",
         "2019",
         "119,342 miles",
         "White exterior, Gray interior",
         "No accidents reported, 1 Owner",
         "20999"
        ],
        [
         "Jeep Wrangler",
         "2018",
         "67,262 miles",
         "White exterior, Black interior",
         "1 accident reported, 3 Owners",
         "24998"
        ],
        [
         "Honda Accord",
         "2019",
         "57,549 miles",
         "Silver exterior, Gray interior",
         "No accidents reported, 1 Owner",
         "25998"
        ],
        [
         "Toyota Mirai",
         "2019",
         "71,373 miles",
         "Silver exterior, Blue interior",
         "No accidents reported, 3 Owners",
         "8998"
        ],
        [
         "Mercedes-Benz GLC",
         "2019",
         "39,358 miles",
         "Black exterior, Black interior",
         "No accidents reported, 2 Owners",
         "26986"
        ],
        [
         "Ford Escape",
         "2019",
         "108,465 miles",
         "White exterior, Gray interior",
         "No accidents reported, 2 Owners",
         "11995"
        ],
        [
         "Jeep Compass",
         "2018",
         "68,250 miles",
         "Blue exterior, Black interior",
         "1 accident reported, 1 Owner",
         "13499"
        ],
        [
         "Jeep Grand Cherokee",
         "2019",
         "23,240 miles",
         "White exterior, Black interior",
         "No accidents reported, 1 Owner",
         "25998"
        ],
        [
         "Toyota Prius c",
         "2018",
         "77,042 miles",
         "Black exterior, Black interior",
         "3 accidents reported, 1 Owner",
         "12999"
        ],
        [
         "Land Rover Range Rover Velar",
         "2018",
         "67,236 miles",
         "Gray exterior, Black interior",
         "No accidents reported, 2 Owners",
         "26995"
        ],
        [
         "Mercedes-Benz GLC",
         "2019",
         "13,520 miles",
         "Silver exterior, Black interior",
         "No accidents reported, 1 Owner",
         "28495"
        ],
        [
         "Ford F-150",
         "2018",
         "42,044 miles",
         "Gray exterior, Gray interior",
         "No accidents reported, 2 Owners",
         "30998"
        ],
        [
         "Ram 1500",
         "2019",
         "40,718 miles",
         "White exterior, Black interior",
         "No accidents reported, 2 Owners",
         "31998"
        ],
        [
         "Honda Civic",
         "2019",
         "68,276 miles",
         "Gray exterior, Black interior",
         "1 accident reported, 3 Owners",
         "16399"
        ],
        [
         "Jeep Grand Cherokee",
         "2019",
         "93,938 miles",
         "Black exterior, Black interior",
         "No accidents reported, 2 Owners",
         "22998"
        ],
        [
         "Dodge Grand Caravan",
         "2019",
         "58,361 miles",
         "Red exterior, Black interior",
         "No accidents reported, 1 Owner",
         "17600"
        ],
        [
         "Honda Civic",
         "2019",
         "36,380 miles",
         "Blue exterior, Gray interior",
         "No accidents reported, 2 Owners",
         "19998"
        ],
        [
         "Ford F-150",
         "2019",
         "48,190 miles",
         "White exterior, Brown interior",
         "No accidents reported, 1 Owner",
         "43998"
        ],
        [
         "Honda Odyssey",
         "2019",
         "30,811 miles",
         "Silver exterior, Unknown interior",
         "No accidents reported, 1 Owner",
         "27994"
        ],
        [
         "Mercedes-Benz E-Class",
         "2019",
         "10,629 miles",
         "Silver exterior, Black interior",
         "No accidents reported, 1 Owner",
         "40000"
        ],
        [
         "Mercedes-Benz C-Class",
         "2019",
         "32,777 miles",
         "Black exterior, Black interior",
         "1 accident reported, 2 Owners",
         "29500"
        ],
        [
         "Honda Civic",
         "2019",
         "33,111 miles",
         "Black exterior, Black interior",
         "No accidents reported, 1 Owner",
         "19999"
        ],
        [
         "Rolls-Royce Dawn",
         "2018",
         "14,272 miles",
         "White exterior, Beige interior",
         "No accidents reported, 2 Owners",
         "252900"
        ],
        [
         "Chevrolet Silverado 1500",
         "2019",
         "98,416 miles",
         "White exterior, Black interior",
         "1 accident reported, 2 Owners",
         "32995"
        ],
        [
         "Mitsubishi Outlander",
         "2019",
         "72,455 miles",
         "Black exterior, Black interior",
         "No accidents reported, 2 Owners",
         "17998"
        ],
        [
         "Honda Pilot",
         "2018",
         "102,410 miles",
         "White exterior, Black interior",
         "No accidents reported, 2 Owners",
         "20998"
        ],
        [
         "Ford F-150",
         "2019",
         "70,897 miles",
         "Blue exterior, Black interior",
         "No accidents reported, 1 Owner",
         "29998"
        ],
        [
         "Ford Fusion",
         "2019",
         "20,687 miles",
         "White exterior, Black interior",
         "No accidents reported, 1 Owner",
         "22998"
        ],
        [
         "Hyundai Sonata",
         "2019",
         "39,599 miles",
         "White exterior, Gray interior",
         "No accidents reported, 2 Owners",
         "18998"
        ],
        [
         "Mitsubishi Outlander",
         "2019",
         "56,038 miles",
         "Red exterior, Black interior",
         "No accidents reported, 1 Owner",
         "19896"
        ],
        [
         "Honda CR-V",
         "2018",
         "49,702 miles",
         "Silver exterior, Gray interior",
         "1 accident reported, 1 Owner",
         "24998"
        ],
        [
         "Jeep Wrangler",
         "2018",
         "104,556 miles",
         "Blue exterior, Black interior",
         "No accidents reported, 1 Owner",
         "28998"
        ],
        [
         "Jeep Wrangler",
         "2019",
         "82,313 miles",
         "White exterior, Black interior",
         "2 accidents reported, 1 Owner",
         "26998"
        ],
        [
         "Ford Ranger",
         "2019",
         "69,689 miles",
         "Blue exterior, Black interior",
         "No accidents reported, 2 Owners",
         "23400"
        ],
        [
         "Ford Mustang",
         "2018",
         "9,452 miles",
         "White exterior, Black interior",
         "No accidents reported, 3 Owners",
         "58495"
        ],
        [
         "Toyota Tacoma",
         "2019",
         "119,342 miles",
         "White exterior, Gray interior",
         "No accidents reported, 1 Owner",
         "20999"
        ],
        [
         "Toyota RAV4",
         "2018",
         "68,049 miles",
         "Black exterior, Black interior",
         "No accidents reported, 2 Owners",
         "22998"
        ],
        [
         "Toyota RAV4",
         "2018",
         "70,041 miles",
         "Gray exterior, Black interior",
         "No accidents reported, 3 Owners",
         "22998"
        ],
        [
         "Toyota Mirai",
         "2019",
         "71,373 miles",
         "Silver exterior, Blue interior",
         "No accidents reported, 3 Owners",
         "8998"
        ],
        [
         "Mercedes-Benz GLC",
         "2019",
         "39,358 miles",
         "Black exterior, Black interior",
         "No accidents reported, 2 Owners",
         "26986"
        ],
        [
         "Ford Escape",
         "2019",
         "108,465 miles",
         "White exterior, Gray interior",
         "No accidents reported, 2 Owners",
         "11995"
        ],
        [
         "Jeep Compass",
         "2018",
         "68,250 miles",
         "Blue exterior, Black interior",
         "1 accident reported, 1 Owner",
         "13499"
        ],
        [
         "Volkswagen Jetta",
         "2019",
         "44,512 miles",
         "Black exterior, Black interior",
         "1 accident reported, 1 Owner",
         "16998"
        ],
        [
         "Toyota Prius c",
         "2018",
         "77,042 miles",
         "Black exterior, Black interior",
         "3 accidents reported, 1 Owner",
         "12999"
        ],
        [
         "Land Rover Range Rover Velar",
         "2018",
         "67,236 miles",
         "Gray exterior, Black interior",
         "No accidents reported, 2 Owners",
         "26995"
        ],
        [
         "Mercedes-Benz GLC",
         "2019",
         "13,520 miles",
         "Silver exterior, Black interior",
         "No accidents reported, 1 Owner",
         "28495"
        ],
        [
         "Toyota Camry",
         "2018",
         "45,881 miles",
         "Red exterior, Gray interior",
         "No accidents reported, 1 Owner",
         "18498"
        ],
        [
         "Nissan Sentra",
         "2019",
         "52,053 miles",
         "White exterior, Black interior",
         "No accidents reported, 3 Owners",
         "12490"
        ],
        [
         "Subaru Crosstrek",
         "2019",
         "31,066 miles",
         "Gray exterior, Gray interior",
         "No accidents reported, 1 Owner",
         "22799"
        ],
        [
         "Ford Explorer",
         "2018",
         "54,327 miles",
         "Black exterior, Black interior",
         "1 accident reported, 2 Owners",
         "20485"
        ],
        [
         "Ford F-150",
         "2019",
         "104,905 miles",
         "White exterior, Gray interior",
         "No accidents reported, 1 Owner",
         "15999"
        ],
        [
         "Toyota Camry",
         "2018",
         "31,396 miles",
         "Silver exterior, Gray interior",
         "No accidents reported, 2 Owners",
         "21998"
        ],
        [
         "Mercedes-Benz C-Class",
         "2019",
         "73,296 miles",
         "Black exterior, Black interior",
         "No accidents reported, 2 Owners",
         "20999"
        ],
        [
         "Lincoln MKC",
         "2018",
         "32,702 miles",
         "Black exterior, Black interior",
         "No accidents reported, 2 Owners",
         "20495"
        ],
        [
         "Nissan Altima",
         "2019",
         "37,916 miles",
         "White exterior, Gray interior",
         "No accidents reported, 2 Owners",
         "18995"
        ],
        [
         "Ford Super Duty F-550 Chassis Cab",
         "2019",
         "72,649 miles",
         "White exterior, Black interior",
         "No accidents reported, 1 Owner",
         "41998"
        ],
        [
         "Honda Odyssey",
         "2019",
         "60,490 miles",
         "Brown exterior, Gray interior",
         "1 accident reported, 4 Owners",
         "28998"
        ],
        [
         "Mitsubishi Outlander",
         "2019",
         "56,038 miles",
         "Red exterior, Black interior",
         "No accidents reported, 1 Owner",
         "19896"
        ],
        [
         "Honda CR-V",
         "2018",
         "56,283 miles",
         "Gray exterior, Black interior",
         "No accidents reported, 3 Owners",
         "21998"
        ],
        [
         "Subaru Crosstrek",
         "2018",
         "61,983 miles",
         "Orange exterior, Black interior",
         "No accidents reported, 2 Owners",
         "19649"
        ],
        [
         "Ram 1500",
         "2019",
         "48,152 miles",
         "Silver exterior, Black interior",
         "1 accident reported, 3 Owners",
         "36998"
        ],
        [
         "Ford Escape",
         "2018",
         "74,038 miles",
         "Gray exterior, Gray interior",
         "No accidents reported, 1 Owner",
         "15998"
        ],
        [
         "Ford Super Duty F-250",
         "2019",
         "61,099 miles",
         "Gray exterior, Gray interior",
         "No accidents reported, 1 Owner",
         "39998"
        ],
        [
         "Toyota Mirai",
         "2019",
         "23,390 miles",
         "Silver exterior, Black interior",
         "No accidents reported, 2 Owners",
         "13495"
        ],
        [
         "BMW M5",
         "2018",
         "36,532 miles",
         "Black exterior, Black interior",
         "1 accident reported, 2 Owners",
         "53999"
        ],
        [
         "BMW X5",
         "2019",
         "21,933 miles",
         "White exterior, Black interior",
         "No accidents reported, 1 Owner",
         "38900"
        ],
        [
         "Chevrolet Impala",
         "2019",
         "52,582 miles",
         "Black exterior, Black interior",
         "No accidents reported, 1 Owner",
         "17498"
        ],
        [
         "Porsche Macan",
         "2018",
         "40,585 miles",
         "White exterior, Black interior",
         "No accidents reported, 4 Owners",
         "32998"
        ],
        [
         "Hyundai Elantra",
         "2019",
         "13,314 miles",
         "Black exterior, Beige interior",
         "No accidents reported, 1 Owner",
         "16555"
        ],
        [
         "Chevrolet Tahoe",
         "2018",
         "97,560 miles",
         "Gray exterior, Black interior",
         "No accidents reported, 3 Owners",
         "31998"
        ],
        [
         "Honda Accord",
         "2018",
         "110,923 miles",
         "Black exterior, Black interior",
         "No accidents reported, 2 Owners",
         "17888"
        ],
        [
         "Cadillac ATS-V",
         "2018",
         "43,907 miles",
         "Red exterior, Black interior",
         "No accidents reported, 2 Owners",
         "39876"
        ],
        [
         "Ford F-150",
         "2019",
         "156,241 miles",
         "White exterior, Black interior",
         "No accidents reported, 2 Owners",
         "21900"
        ],
        [
         "Chrysler Pacifica",
         "2018",
         "84,586 miles",
         "White exterior, Black interior",
         "No accidents reported, 1 Owner",
         "21998"
        ],
        [
         "Toyota RAV4",
         "2019",
         "55,205 miles",
         "Black exterior, Black interior",
         "No accidents reported, 2 Owners",
         "25035"
        ],
        [
         "Chevrolet Silverado 1500",
         "2019",
         "82,431 miles",
         "Black exterior, Black interior",
         "No accidents reported, 1 Owner",
         "26885"
        ],
        [
         "BMW 3 Series",
         "2019",
         "53,046 miles",
         "White exterior, Beige interior",
         "1 accident reported, 2 Owners",
         "21999"
        ],
        [
         "Mercedes-Benz C-Class",
         "2018",
         "49,903 miles",
         "Black exterior, Unknown interior",
         "No accidents reported, 2 Owners",
         "22998"
        ],
        [
         "Mercedes-Benz GLA",
         "2018",
         "56,075 miles",
         "Black exterior, Black interior",
         "1 accident reported, 4 Owners",
         "20109"
        ],
        [
         "Toyota Tacoma",
         "2019",
         "38,701 miles",
         "White exterior, Gray interior",
         "No accidents reported, 2 Owners",
         "24995"
        ],
        [
         "Honda CR-V",
         "2019",
         "50,940 miles",
         "White exterior, Black interior",
         "No accidents reported, 1 Owner",
         "19990"
        ],
        [
         "Nissan Versa",
         "2019",
         "28,269 miles",
         "Gray exterior, Black interior",
         "2 accidents reported, 3 Owners",
         "10795"
        ],
        [
         "Toyota Tacoma",
         "2019",
         "31,914 miles",
         "White exterior, Black interior",
         "No accidents reported, 1 Owner",
         "42998"
        ],
        [
         "Ford Fusion",
         "2018",
         "68,502 miles",
         "Silver exterior, Gray interior",
         "No accidents reported, 1 Owner",
         "18998"
        ],
        [
         "Jeep Compass",
         "2018",
         "58,555 miles",
         "White exterior, Black interior",
         "No accidents reported, 2 Owners",
         "16995"
        ],
        [
         "Chevrolet Cruze",
         "2018",
         "107,459 miles",
         "Blue exterior, Black interior",
         "2 accidents reported, 1 Owner",
         "10998"
        ],
        [
         "Toyota Prius Prime",
         "2018",
         "54,061 miles",
         "Gray exterior, Black interior",
         "1 accident reported, 1 Owner",
         "23998"
        ],
        [
         "Ford Explorer",
         "2018",
         "54,327 miles",
         "Black exterior, Black interior",
         "1 accident reported, 2 Owners",
         "20485"
        ],
        [
         "Hyundai Santa Fe Sport",
         "2018",
         "30,035 miles",
         "Gray exterior, Beige interior",
         "No accidents reported, 1 Owner",
         "19998"
        ],
        [
         "Mazda CX-5",
         "2019",
         "33,975 miles",
         "White exterior, Beige interior",
         "No accidents reported, 2 Owners",
         "23998"
        ],
        [
         "Ford F-150",
         "2019",
         "104,905 miles",
         "White exterior, Gray interior",
         "No accidents reported, 1 Owner",
         "15999"
        ],
        [
         "Mercedes-Benz C-Class",
         "2018",
         "59,515 miles",
         "Black exterior, Black interior",
         "No accidents reported, 2 Owners",
         "22998"
        ],
        [
         "Mercedes-Benz C-Class",
         "2019",
         "73,296 miles",
         "Black exterior, Black interior",
         "No accidents reported, 2 Owners",
         "20999"
        ],
        [
         "Dodge Durango",
         "2018",
         "82,734 miles",
         "Black exterior, Black interior",
         "No accidents reported, 2 Owners",
         "42998"
        ],
        [
         "Ram 1500",
         "2019",
         "97,414 miles",
         "Red exterior, Black interior",
         "No accidents reported, 2 Owners",
         "27998"
        ],
        [
         "Honda HR-V",
         "2018",
         "38,144 miles",
         "Gray exterior, Black interior",
         "No accidents reported, 1 Owner",
         "18080"
        ],
        [
         "Kia Optima",
         "2019",
         "55,465 miles",
         "Silver exterior, Black interior",
         "2 accidents reported, 4 Owners",
         "17998"
        ],
        [
         "Jeep Wrangler",
         "2018",
         "28,546 miles",
         "Black exterior, Black interior",
         "No accidents reported, 1 Owner",
         "34998"
        ],
        [
         "Ford Fusion",
         "2019",
         "92,186 miles",
         "White exterior, Black interior",
         "No accidents reported, 2 Owners",
         "13290"
        ],
        [
         "Maserati Ghibli",
         "2019",
         "17,904 miles",
         "White exterior, Black interior",
         "No accidents reported, 1 Owner",
         "36987"
        ],
        [
         "Honda Odyssey",
         "2018",
         "58,553 miles",
         "Black exterior, Black interior",
         "No accidents reported, 1 Owner",
         "29468"
        ],
        [
         "Ford Transit Connect Van",
         "2019",
         "82,497 miles",
         "White exterior, Black interior",
         "No accidents reported, 1 Owner",
         "20997"
        ],
        [
         "Audi A5",
         "2018",
         "50,180 miles",
         "White exterior, Brown interior",
         "1 accident reported, 2 Owners",
         "28333"
        ],
        [
         "INFINITI QX60",
         "2019",
         "66,885 miles",
         "White exterior, Beige interior",
         "No accidents reported, 1 Owner",
         "21498"
        ],
        [
         "BMW X1",
         "2018",
         "49,680 miles",
         "White exterior, Black interior",
         "2 accidents reported, 3 Owners",
         "22998"
        ],
        [
         "Mazda CX-5",
         "2019",
         "92,172 miles",
         "Gray exterior, Black interior",
         "2 accidents reported, 1 Owner",
         "15995"
        ],
        [
         "Chevrolet Silverado 1500",
         "2018",
         "54,592 miles",
         "White exterior, Black interior",
         "1 accident reported, 2 Owners",
         "33998"
        ],
        [
         "Acura TLX",
         "2018",
         "53,680 miles",
         "White exterior, Black interior",
         "No accidents reported, 3 Owners",
         "21999"
        ],
        [
         "Mitsubishi Outlander",
         "2019",
         "89,075 miles",
         "Black exterior, Black interior",
         "1 accident reported, 3 Owners",
         "10995"
        ],
        [
         "Ford Fusion",
         "2019",
         "46,770 miles",
         "Red exterior, Black interior",
         "No accidents reported, 1 Owner",
         "18988"
        ],
        [
         "Mercedes-Benz GLC",
         "2019",
         "102,692 miles",
         "White exterior, Black interior",
         "1 accident reported, 2 Owners",
         "16991"
        ],
        [
         "Toyota Highlander",
         "2019",
         "34,585 miles",
         "White exterior, Gray interior",
         "No accidents reported, 1 Owner",
         "26490"
        ],
        [
         "Toyota Tacoma",
         "2018",
         "27,599 miles",
         "Silver exterior, Gray interior",
         "No accidents reported, 1 Owner",
         "30998"
        ],
        [
         "Ford Escape",
         "2019",
         "69,418 miles",
         "White exterior, Gray interior",
         "1 accident reported, 1 Owner",
         "14900"
        ],
        [
         "Toyota Mirai",
         "2019",
         "39,425 miles",
         "Silver exterior, Unknown interior",
         "No accidents reported, 2 Owners",
         "11999"
        ],
        [
         "Dodge Charger",
         "2018",
         "111,955 miles",
         "Black exterior, Black interior",
         "1 accident reported, 3 Owners",
         "17885"
        ],
        [
         "Ford F-150",
         "2019",
         "65,277 miles",
         "Silver exterior, Black interior",
         "No accidents reported, 1 Owner",
         "50999"
        ],
        [
         "Hyundai Elantra",
         "2018",
         "80,798 miles",
         "Blue exterior, Black interior",
         "No accidents reported, 3 Owners",
         "16998"
        ],
        [
         "Ford F-150",
         "2019",
         "102,015 miles",
         "White exterior, Black interior",
         "No accidents reported, 1 Owner",
         "22489"
        ],
        [
         "Jeep Wrangler",
         "2019",
         "57,421 miles",
         "Gray exterior, Black interior",
         "No accidents reported, 1 Owner",
         "33998"
        ],
        [
         "Ford Mustang",
         "2019",
         "34,211 miles",
         "Silver exterior, Black interior",
         "No accidents reported, 1 Owner",
         "22998"
        ],
        [
         "Jeep Wrangler",
         "2018",
         "20,700 miles",
         "Gray exterior, Black interior",
         "No accidents reported, 2 Owners",
         "31998"
        ],
        [
         "Ford Transit Cargo Van",
         "2019",
         "52,902 miles",
         "White exterior, Gray interior",
         "No accidents reported, 1 Owner",
         "34997"
        ],
        [
         "Ford Explorer",
         "2018",
         "54,567 miles",
         "Black exterior, Black interior",
         "2 accidents reported, 3 Owners",
         "19900"
        ],
        [
         "Ford Escape",
         "2019",
         "76,075 miles",
         "Black exterior, Gray interior",
         "No accidents reported, 1 Owner",
         "13995"
        ],
        [
         "Honda HR-V",
         "2018",
         "38,144 miles",
         "Gray exterior, Black interior",
         "No accidents reported, 1 Owner",
         "18080"
        ],
        [
         "BMW 3 Series",
         "2018",
         "34,302 miles",
         "Black exterior, Black interior",
         "No accidents reported, 2 Owners",
         "23998"
        ],
        [
         "Ford Fusion",
         "2019",
         "92,186 miles",
         "White exterior, Black interior",
         "No accidents reported, 2 Owners",
         "13290"
        ],
        [
         "BMW X5",
         "2018",
         "35,165 miles",
         "Black exterior, Black interior",
         "No accidents reported, 1 Owner",
         "31998"
        ],
        [
         "Toyota RAV4",
         "2018",
         "50,762 miles",
         "Gray exterior, Black interior",
         "No accidents reported, 2 Owners",
         "22998"
        ],
        [
         "Maserati Ghibli",
         "2019",
         "17,904 miles",
         "White exterior, Black interior",
         "No accidents reported, 1 Owner",
         "36987"
        ],
        [
         "Chevrolet Silverado 1500",
         "2018",
         "40,385 miles",
         "Black exterior, Black interior",
         "No accidents reported, 1 Owner",
         "30998"
        ],
        [
         "Honda Odyssey",
         "2018",
         "58,553 miles",
         "Black exterior, Black interior",
         "No accidents reported, 1 Owner",
         "29468"
        ],
        [
         "Ford Transit Connect Van",
         "2019",
         "82,497 miles",
         "White exterior, Black interior",
         "No accidents reported, 1 Owner",
         "20997"
        ],
        [
         "Audi A5",
         "2018",
         "50,180 miles",
         "White exterior, Brown interior",
         "1 accident reported, 2 Owners",
         "28333"
        ],
        [
         "INFINITI QX60",
         "2019",
         "66,885 miles",
         "White exterior, Beige interior",
         "No accidents reported, 1 Owner",
         "21498"
        ],
        [
         "Ford F-150",
         "2019",
         "104,679 miles",
         "White exterior, Gray interior",
         "No accidents reported, 1 Owner",
         "20998"
        ],
        [
         "Jeep Cherokee",
         "2019",
         "62,675 miles",
         "Red exterior, Black interior",
         "1 accident reported, 3 Owners",
         "17777"
        ],
        [
         "Toyota Camry",
         "2018",
         "11,043 miles",
         "Blue exterior, Black interior",
         "No accidents reported, 2 Owners",
         "28998"
        ],
        [
         "Toyota C-HR",
         "2019",
         "40,322 miles",
         "Gray exterior, Black interior",
         "No accidents reported, 2 Owners",
         "18795"
        ],
        [
         "Lexus RX",
         "2018",
         "44,251 miles",
         "Gray exterior, Black interior",
         "No accidents reported, 2 Owners",
         "29488"
        ],
        [
         "Ford Super Duty F-250",
         "2019",
         "135,320 miles",
         "White exterior, Gray interior",
         "No accidents reported, 1 Owner",
         "21998"
        ],
        [
         "Ford Fusion",
         "2018",
         "63,730 miles",
         "White exterior, Black interior",
         "No accidents reported, 3 Owners",
         "16998"
        ],
        [
         "Jeep Grand Cherokee",
         "2018",
         "63,600 miles",
         "Black exterior, Black interior",
         "No accidents reported, 2 Owners",
         "25998"
        ],
        [
         "Jeep Cherokee",
         "2019",
         "29,907 miles",
         "Black exterior, Black interior",
         "No accidents reported, 1 Owner",
         "20457"
        ],
        [
         "Toyota Camry",
         "2018",
         "76,480 miles",
         "White exterior, Black interior",
         "No accidents reported, 2 Owners",
         "17929"
        ],
        [
         "Jaguar XJ",
         "2018",
         "30,267 miles",
         "Black exterior, Black interior",
         "1 accident reported, 2 Owners",
         "32991"
        ],
        [
         "Jeep Cherokee",
         "2019",
         "54,659 miles",
         "Black exterior, Black interior",
         "3 accidents reported, 3 Owners",
         "20998"
        ],
        [
         "Nissan Altima",
         "2019",
         "50,720 miles",
         "Black exterior, Black interior",
         "1 accident reported, 2 Owners",
         "23998"
        ],
        [
         "Chevrolet Equinox",
         "2018",
         "93,999 miles",
         "White exterior, Gray interior",
         "No accidents reported, 1 Owner",
         "12998"
        ],
        [
         "Ford F-150",
         "2019",
         "102,015 miles",
         "White exterior, Black interior",
         "No accidents reported, 1 Owner",
         "22489"
        ],
        [
         "Jeep Wrangler",
         "2018",
         "57,849 miles",
         "White exterior, Black interior",
         "1 accident reported, 1 Owner",
         "31998"
        ],
        [
         "Nissan Kicks",
         "2018",
         "20,185 miles",
         "Silver exterior, Black interior",
         "No accidents reported, 1 Owner",
         "19998"
        ],
        [
         "Volkswagen Atlas",
         "2019",
         "38,711 miles",
         "White exterior, Black interior",
         "No accidents reported, 1 Owner",
         "25998"
        ],
        [
         "Ford Transit Cargo Van",
         "2019",
         "52,902 miles",
         "White exterior, Gray interior",
         "No accidents reported, 1 Owner",
         "34997"
        ],
        [
         "Ford Explorer",
         "2018",
         "54,567 miles",
         "Black exterior, Black interior",
         "2 accidents reported, 3 Owners",
         "19900"
        ],
        [
         "Ford Escape",
         "2019",
         "76,075 miles",
         "Black exterior, Gray interior",
         "No accidents reported, 1 Owner",
         "13995"
        ],
        [
         "Volkswagen Jetta",
         "2019",
         "55,802 miles",
         "Silver exterior, Black interior",
         "No accidents reported, 1 Owner",
         "18998"
        ],
        [
         "Chevrolet Colorado",
         "2018",
         "69,981 miles",
         "Gray exterior, Black interior",
         "1 accident reported, 2 Owners",
         "21998"
        ],
        [
         "Toyota RAV4",
         "2018",
         "29,341 miles",
         "Silver exterior, Black interior",
         "No accidents reported, 1 Owner",
         "21488"
        ],
        [
         "Ram 1500",
         "2019",
         "49,845 miles",
         "Gray exterior, Black interior",
         "No accidents reported, 2 Owners",
         "31998"
        ],
        [
         "Ram 1500 Classic",
         "2019",
         "39,860 miles",
         "Black exterior, Black interior",
         "No accidents reported, 1 Owner",
         "28998"
        ],
        [
         "GMC Sierra 1500",
         "2018",
         "76,896 miles",
         "White exterior, Black interior",
         "1 accident reported, 1 Owner",
         "35998"
        ],
        [
         "Volkswagen Atlas",
         "2019",
         "83,063 miles",
         "Red exterior, Beige interior",
         "No accidents reported, 1 Owner",
         "17963"
        ],
        [
         "Ford Super Duty F-350",
         "2019",
         "59,269 miles",
         "White exterior, Gray interior",
         "No accidents reported, 1 Owner",
         "38998"
        ],
        [
         "Ram 1500",
         "2019",
         "20,223 miles",
         "White exterior, Black interior",
         "No accidents reported, 1 Owner",
         "34998"
        ]
       ],
       "datasetInfos": [],
       "dbfsResultPath": null,
       "isJsonSchema": true,
       "metadata": {},
       "overflow": false,
       "plotOptions": {
        "customPlotOptions": {},
        "displayType": "table",
        "pivotAggregation": null,
        "pivotColumns": null,
        "xColumns": null,
        "yColumns": null
       },
       "removedWidgets": [],
       "schema": [
        {
         "metadata": "{}",
         "name": "BrandModel",
         "type": "\"string\""
        },
        {
         "metadata": "{}",
         "name": "year",
         "type": "\"string\""
        },
        {
         "metadata": "{}",
         "name": "miles",
         "type": "\"string\""
        },
        {
         "metadata": "{}",
         "name": "color",
         "type": "\"string\""
        },
        {
         "metadata": "{}",
         "name": "condition",
         "type": "\"string\""
        },
        {
         "metadata": "{}",
         "name": "price",
         "type": "\"decimal(10,0)\""
        }
       ],
       "type": "table"
      }
     },
     "output_type": "display_data"
    }
   ],
   "source": [
    "from pyspark.sql.functions import col\n",
    "from pyspark.sql.types import DecimalType\n",
    "\n",
    "df_data_1 = spark.read.format(\"csv\").option(\"header\", \"true\").load(\"/FileStore/tables/car_web_scraped_dataset.csv\").filter(\"year == '2023' or year == '2022'\").withColumnRenamed('name','BrandModel') #Dataframe for 2022 and 2023\n",
    "\n",
    "df_data_1 = df_data_1.withColumn(\"price\",df_data_1.price.cast(DecimalType()))\n",
    "\n",
    "df_data_2 = spark.read.format(\"csv\").option(\"header\", \"true\").load(\"/FileStore/tables/car_web_scraped_dataset.csv\").filter(\"year == '2021' or year == '2020'\").withColumnRenamed('name','BrandModel') #Dataframe for 2022 and 2023\n",
    "\n",
    "df_data_2 = df_data_2.withColumn(\"price\",df_data_2.price.cast(DecimalType()))\n",
    "\n",
    "df_data_3 = spark.read.format(\"csv\").option(\"header\", \"true\").load(\"/FileStore/tables/car_web_scraped_dataset.csv\").filter(\"year == '2019' or year == '2018'\").withColumnRenamed('name','BrandModel') #Dataframe for 2022 and 2023\n",
    "\n",
    "df_data_3 = df_data_3.withColumn(\"price\",df_data_3.price.cast(DecimalType()))\n",
    "\n",
    "#df_data_4 = spark.read.format(\"csv\").option(\"header\", \"true\").load(\"/FileStore/tables/car_web_scraped_dataset.csv\").filter(\"year != '2018' and year != '2019' and year != '2020' and year != '2021' and year != '2022' and year != '2023'\").withColumnRenamed('name','BrandModel') #Dataframe for all other years\n",
    "\n",
    "#df_data_4 = df_data_4.withColumn(\"price\",df_data_4.price.cast(DecimalType()))\n",
    "\n",
    "#display(df_data_4)\n",
    "#df_data_1.collect()\n",
    "#df_data_2.collect()\n",
    "#df_data_3.collect()\n",
    "#df_data_4.collect()\n",
    "display(df_data_3)\n"
   ]
  },
  {
   "cell_type": "code",
   "execution_count": 0,
   "metadata": {
    "application/vnd.databricks.v1+cell": {
     "cellMetadata": {
      "byteLimit": 2048000,
      "rowLimit": 10000
     },
     "inputWidgets": {},
     "nuid": "274d5505-cf40-424d-9fb8-d33b707a348f",
     "showTitle": true,
     "title": "Minimum Price of Each Dataframe"
    }
   },
   "outputs": [
    {
     "output_type": "stream",
     "name": "stdout",
     "output_type": "stream",
     "text": [
      "13650\n9950\n8499\n"
     ]
    }
   ],
   "source": [
    "from pyspark.sql.functions import min\n",
    "#from pyspark.sql.functions import udf\n",
    "\n",
    "#def reconcate(p):\n",
    "  #  x = p.split(',')\n",
    "   # return \n",
    "\n",
    "min1 = df_data_1.select(min(\"price\")).take(1)[0][0]\n",
    "min2 = df_data_2.select(min(\"price\")).take(1)[0][0]\n",
    "min3 = df_data_3.select(min(\"price\")).take(1)[0][0]\n",
    "#min4 = df_data_4.select(min(\"price\")).take(1)[0][0]\n",
    "\n",
    "\n",
    "print (min1)\n",
    "print (min2)\n",
    "print (min3)\n",
    "#print (min4)"
   ]
  },
  {
   "cell_type": "code",
   "execution_count": 0,
   "metadata": {
    "application/vnd.databricks.v1+cell": {
     "cellMetadata": {
      "byteLimit": 2048000,
      "rowLimit": 10000
     },
     "inputWidgets": {},
     "nuid": "4b57fbad-d792-471e-a44c-821e0347fed2",
     "showTitle": true,
     "title": "Maximum Price in Each Dataframe"
    }
   },
   "outputs": [
    {
     "output_type": "stream",
     "name": "stdout",
     "output_type": "stream",
     "text": [
      "124995\n105888\n252900\n"
     ]
    }
   ],
   "source": [
    "from pyspark.sql.functions import max\n",
    "#from pyspark.sql.functions import udf\n",
    "\n",
    "#def reconcate(p):\n",
    "  #  x = p.split(',')\n",
    "   # return \n",
    "\n",
    "max1 = df_data_1.select(max(\"price\")).take(1)[0][0]\n",
    "max2 = df_data_2.select(max(\"price\")).take(1)[0][0]\n",
    "max3 = df_data_3.select(max(\"price\")).take(1)[0][0]\n",
    "#max4 = df_data_4.select(max(\"price\")).take(1)[0][0]\n",
    "\n",
    "\n",
    "print (max1)\n",
    "print (max2)\n",
    "print (max3)\n",
    "#print (max4)"
   ]
  },
  {
   "cell_type": "code",
   "execution_count": 0,
   "metadata": {
    "application/vnd.databricks.v1+cell": {
     "cellMetadata": {
      "byteLimit": 2048000,
      "rowLimit": 10000
     },
     "inputWidgets": {},
     "nuid": "62c2ee5a-c107-4751-85b1-8e6d87094c54",
     "showTitle": true,
     "title": "Most car brand and model for sale each year"
    }
   },
   "outputs": [
    {
     "output_type": "stream",
     "name": "stdout",
     "output_type": "stream",
     "text": [
      "19\n"
     ]
    }
   ],
   "source": [
    "from pyspark.sql import functions as F\n",
    "\n",
    "# Count the number of cars sold in 2023\n",
    "count_sold23 = df_data_1.filter(\"year == '2023'\").groupby('BrandModel','year').count().withColumnRenamed('count','NumberOfCarsSold')\n",
    "\n",
    "# Find the maximum number of cars sold in 2023\n",
    "max_sold23 = count_sold23.orderBy(F.desc(\"NumberOfCarsSold\")).limit(1).take(1)[0][2]\n",
    "\n",
    "# Select BrandModel where the number of cars sold is equal to the maximum\n",
    "brand_max_price23 = count_sold23.select('BrandModel').filter(F.col('NumberOfCarsSold') == max_sold23).take(1)[0][0]\n",
    "\n",
    "count_sold22 = df_data_1.filter(\"year == '2022'\").groupby('BrandModel','year').count().withColumnRenamed('count','NumberOfCarsSold')\n",
    "max_sold22 = count_sold22.orderBy(F.desc(\"NumberOfCarsSold\")).limit(1).take(1)[0][2]\n",
    "brand_max_price22 = count_sold22.select('BrandModel').filter(F.col('NumberOfCarsSold') == max_sold22).take(1)[0][0]\n",
    "\n",
    "count_sold21 = df_data_2.filter(\"year == '2021'\").groupby('BrandModel','year').count().withColumnRenamed('count','NumberOfCarsSold')\n",
    "max_sold21 = count_sold21.orderBy(F.desc(\"NumberOfCarsSold\")).limit(1).take(1)[0][2]\n",
    "brand_max_price21 = count_sold21.select('BrandModel').filter(F.col('NumberOfCarsSold') == max_sold21).take(1)[0][0]\n",
    "\n",
    "count_sold20 = df_data_2.filter(\"year == '2020'\").groupby('BrandModel','year').count().withColumnRenamed('count','NumberOfCarsSold')\n",
    "max_sold20 = count_sold20.orderBy(F.desc(\"NumberOfCarsSold\")).limit(1).take(1)[0][2]\n",
    "brand_max_price20 = count_sold20.select('BrandModel').filter(F.col('NumberOfCarsSold') == max_sold20).take(1)[0][0]\n",
    "\n",
    "count_sold19 = df_data_3.filter(\"year == '2019'\").groupby('BrandModel','year').count().withColumnRenamed('count','NumberOfCarsSold')\n",
    "max_sold19 = count_sold19.orderBy(F.desc(\"NumberOfCarsSold\")).limit(1).take(1)[0][2]\n",
    "brand_max_price19 = count_sold19.select('BrandModel').filter(F.col('NumberOfCarsSold') == max_sold19).take(1)[0][0]\n",
    "\n",
    "count_sold18 = df_data_3.filter(\"year == '2018'\").groupby('BrandModel','year').count().withColumnRenamed('count','NumberOfCarsSold')\n",
    "max_sold18 = count_sold18.orderBy(F.desc(\"NumberOfCarsSold\")).limit(1).take(1)[0][2]\n",
    "brand_max_price18 = count_sold18.select('BrandModel').filter(F.col('NumberOfCarsSold') == max_sold18).take(1)[0][0]\n",
    "\n",
    "#max_sold_joined = max_sold23.union(max_sold22).union(max_sold21).union(max_sold20).union(max_sold19).union(max_sold18)\n",
    "\n",
    "print(max_sold23)"
   ]
  },
  {
   "cell_type": "code",
   "execution_count": 0,
   "metadata": {
    "application/vnd.databricks.v1+cell": {
     "cellMetadata": {
      "byteLimit": 2048000,
      "rowLimit": 10000
     },
     "inputWidgets": {},
     "nuid": "85fde438-4d01-4e4b-8470-65494810558e",
     "showTitle": false,
     "title": ""
    }
   },
   "outputs": [
    {
     "output_type": "stream",
     "name": "stdout",
     "output_type": "stream",
     "text": [
      "For 2023, the max number of car sales was 19 for Audi A3\nFor 2022, the max number of car sales was 22 for Chevrolet Malibu\nFor 2021, the max number of car sales was 54 for Toyota Corolla\nFor 2020, the max number of car sales was 24 for Honda Civic\nFor 2019, the max number of car sales was 14 for Ford F-150\nFor 2018, the max number of car sales was 14 for Jeep Wrangler\n"
     ]
    }
   ],
   "source": [
    "\n",
    "print(\"For 2023, the max number of car sales was \"+ str(max_sold23)+\" for \"+ str(brand_max_price23))\n",
    "\n",
    "print(\"For 2022, the max number of car sales was \"+ str(max_sold22)+\" for \"+ str(brand_max_price22))\n",
    "\n",
    "print(\"For 2021, the max number of car sales was \"+ str(max_sold21)+\" for \"+ str(brand_max_price21))\n",
    "\n",
    "print(\"For 2020, the max number of car sales was \"+ str(max_sold20)+\" for \"+ str(brand_max_price20))\n",
    "\n",
    "print(\"For 2019, the max number of car sales was \"+ str(max_sold19)+\" for \"+ str(brand_max_price19))\n",
    "\n",
    "print(\"For 2018, the max number of car sales was \"+ str(max_sold18)+\" for \"+ str(brand_max_price18))"
   ]
  },
  {
   "cell_type": "code",
   "execution_count": 0,
   "metadata": {
    "application/vnd.databricks.v1+cell": {
     "cellMetadata": {
      "byteLimit": 2048000,
      "rowLimit": 10000
     },
     "inputWidgets": {},
     "nuid": "3c82395f-079d-4713-875b-62195e64bd29",
     "showTitle": true,
     "title": "Ratio of accidents to car color"
    }
   },
   "outputs": [
    {
     "output_type": "display_data",
     "data": {
      "text/html": [
       "<style scoped>\n",
       "  .table-result-container {\n",
       "    max-height: 300px;\n",
       "    overflow: auto;\n",
       "  }\n",
       "  table, th, td {\n",
       "    border: 1px solid black;\n",
       "    border-collapse: collapse;\n",
       "  }\n",
       "  th, td {\n",
       "    padding: 5px;\n",
       "  }\n",
       "  th {\n",
       "    text-align: left;\n",
       "  }\n",
       "</style><div class='table-result-container'><table class='table-result'><thead style='background-color: white'><tr><th>ExteriorColor</th><th>Average</th></tr></thead><tbody><tr><td>White exterior</td><td>0.1559633027522936</td></tr><tr><td>Red exterior</td><td>0.16483516483516483</td></tr><tr><td>Green exterior</td><td>0.0</td></tr><tr><td>Silver exterior</td><td>0.21524663677130046</td></tr><tr><td>Unknown exterior</td><td>0.0</td></tr><tr><td>Brown exterior</td><td>0.5</td></tr><tr><td>Black exterior</td><td>0.20809248554913296</td></tr><tr><td>Blue exterior</td><td>0.20279720279720279</td></tr><tr><td>Gray exterior</td><td>0.1942257217847769</td></tr><tr><td>Yellow exterior</td><td>0.0</td></tr><tr><td>Tan exterior</td><td>0.3333333333333333</td></tr><tr><td>Orange exterior</td><td>0.0</td></tr></tbody></table></div>"
      ]
     },
     "metadata": {
      "application/vnd.databricks.v1+output": {
       "addedWidgets": {},
       "aggData": [],
       "aggError": "",
       "aggOverflow": false,
       "aggSchema": [],
       "aggSeriesLimitReached": false,
       "aggType": "",
       "arguments": {},
       "columnCustomDisplayInfos": {},
       "data": [
        [
         "White exterior",
         0.1559633027522936
        ],
        [
         "Red exterior",
         0.16483516483516483
        ],
        [
         "Green exterior",
         0.0
        ],
        [
         "Silver exterior",
         0.21524663677130046
        ],
        [
         "Unknown exterior",
         0.0
        ],
        [
         "Brown exterior",
         0.5
        ],
        [
         "Black exterior",
         0.20809248554913296
        ],
        [
         "Blue exterior",
         0.20279720279720279
        ],
        [
         "Gray exterior",
         0.1942257217847769
        ],
        [
         "Yellow exterior",
         0.0
        ],
        [
         "Tan exterior",
         0.3333333333333333
        ],
        [
         "Orange exterior",
         0.0
        ]
       ],
       "datasetInfos": [],
       "dbfsResultPath": null,
       "isJsonSchema": true,
       "metadata": {},
       "overflow": false,
       "plotOptions": {
        "customPlotOptions": {},
        "displayType": "table",
        "pivotAggregation": null,
        "pivotColumns": null,
        "xColumns": null,
        "yColumns": null
       },
       "removedWidgets": [],
       "schema": [
        {
         "metadata": "{}",
         "name": "ExteriorColor",
         "type": "\"string\""
        },
        {
         "metadata": "{}",
         "name": "Average",
         "type": "\"double\""
        }
       ],
       "type": "table"
      }
     },
     "output_type": "display_data"
    },
    {
     "output_type": "display_data",
     "data": {
      "text/plain": [
       "Databricks visualization. Run in Databricks to view."
      ]
     },
     "metadata": {
      "application/vnd.databricks.v1.subcommand+json": {
       "baseErrorDetails": null,
       "bindings": {},
       "collapsed": false,
       "command": "%python\n__backend_agg_display_orig = display\n__backend_agg_dfs = []\ndef __backend_agg_display_new(df):\n    __backend_agg_df_modules = [\"pandas.core.frame\", \"databricks.koalas.frame\", \"pyspark.sql.dataframe\", \"pyspark.pandas.frame\", \"pyspark.sql.connect.dataframe\"]\n    if (type(df).__module__ in __backend_agg_df_modules and type(df).__name__ == 'DataFrame') or isinstance(df, list):\n        __backend_agg_dfs.append(df)\n\ndisplay = __backend_agg_display_new\n\ndef __backend_agg_user_code_fn():\n    import base64\n    exec(base64.standard_b64decode(\"ZnJvbSBweXNwYXJrLnNxbC5mdW5jdGlvbnMgaW1wb3J0IHVkZgpmcm9tIHB5c3Bhcmsuc3FsLnR5cGVzIGltcG9ydCBJbnRlZ2VyVHlwZSwgU3RyaW5nVHlwZQpmcm9tIHB5c3Bhcmsuc3FsLmZ1bmN0aW9ucyBpbXBvcnQgY29sCgpkZWYgZXh0ZXJpb3JDb2xvcihzKToKICAgIHggPSBzLnNwbGl0KCcsJykKICAgIHJldHVybiB4WzBdCgpkZWYgbnVtQWNjaWRlbnRzKHMpOgogICAgeSA9IHMuc3BsaXQoJyAnKQogICAgaWYgeVswXSA9PSAnTm8nOgogICAgICAgIHJldHVybiAwCiAgICByZXR1cm4gaW50KHlbMF0pCgpudW1BY2NpZGVudHNfdWRmPXVkZihudW1BY2NpZGVudHMsSW50ZWdlclR5cGUoKSkKZXh0ZXJpb3JDb2xvcl91ZGY9dWRmKGV4dGVyaW9yQ29sb3IsU3RyaW5nVHlwZSgpKQoKZGZfZGF0YV9hbGwgPSBkZl9kYXRhXzEudW5pb24oZGZfZGF0YV8yKS51bmlvbihkZl9kYXRhXzMpCiNkaXNwbGF5KGRmX2RhdGFfYWxsKQpudW1BY2NpZGVudHNfZGYgPSBkZl9kYXRhX2FsbC5zZWxlY3QoZXh0ZXJpb3JDb2xvcl91ZGYoZGZfZGF0YV9hbGwuY29sb3IpLmFsaWFzKCJFeHRlcmlvckNvbG9yIiksIG51bUFjY2lkZW50c191ZGYoZGZfZGF0YV9hbGwuY29uZGl0aW9uKS5hbGlhcygiTnVtQWNjaWRlbnRzIikpCgpBY2NpZGVudHNQZXJDb2xvciA9IG51bUFjY2lkZW50c19kZi5ncm91cGJ5KCdFeHRlcmlvckNvbG9yJykuc3VtKCdOdW1BY2NpZGVudHMnKS53aXRoQ29sdW1uUmVuYW1lZCgnc3VtKE51bUFjY2lkZW50cyknLCdzdW0nKQoKQWNjaWRlbnRzUGVyQ29sb3JUID0gbnVtQWNjaWRlbnRzX2RmLmdyb3VwYnkoJ0V4dGVyaW9yQ29sb3InKS5jb3VudCgpCmFjY2lkZW50c1BlckNvbG9yID0gQWNjaWRlbnRzUGVyQ29sb3Iuam9pbihBY2NpZGVudHNQZXJDb2xvclQsIG9uPSdFeHRlcmlvckNvbG9yJykKYWNjaWRlbnRzQ29sb3IgPSBhY2NpZGVudHNQZXJDb2xvci5zZWxlY3QoY29sKCdFeHRlcmlvckNvbG9yJyksCiAgICAoY29sKCdzdW0nKSAvIGNvbCgnY291bnQnKSkuYWxpYXMoJ0F2ZXJhZ2UnKQopCgpkaXNwbGF5KGFjY2lkZW50c0NvbG9yKQphY2NpZGVudHNDb2xvci5zaG93KCk=\").decode())\n\ntry:\n    # run user code\n    __backend_agg_user_code_fn()\n\n    #reset display function\n    display = __backend_agg_display_orig\n\n    if len(__backend_agg_dfs) > 0:\n        # create a temp view\n        if type(__backend_agg_dfs[0]).__module__ == \"databricks.koalas.frame\":\n            # koalas dataframe\n            __backend_agg_dfs[0].to_spark().createOrReplaceTempView(\"DatabricksView906aa7f\")\n        elif type(__backend_agg_dfs[0]).__module__ == \"pandas.core.frame\" or isinstance(__backend_agg_dfs[0], list):\n            # pandas dataframe\n            spark.createDataFrame(__backend_agg_dfs[0]).createOrReplaceTempView(\"DatabricksView906aa7f\")\n        else:\n            __backend_agg_dfs[0].createOrReplaceTempView(\"DatabricksView906aa7f\")\n        #run backend agg\n        display(spark.sql(\"\"\"WITH q AS (select * from DatabricksView906aa7f) SELECT `ExteriorColor`,SUM(`Average`) `column_350ad17c2` FROM q GROUP BY `ExteriorColor`\"\"\"))\n    else:\n        displayHTML(\"dataframe no longer exists. If you're using dataframe.display(), use display(dataframe) instead.\")\n\n\nfinally:\n    spark.sql(\"drop view if exists DatabricksView906aa7f\")\n    display = __backend_agg_display_orig\n    del __backend_agg_display_new\n    del __backend_agg_display_orig\n    del __backend_agg_dfs\n    del __backend_agg_user_code_fn\n\n",
       "commandTitle": "Visualization 1",
       "commandType": "auto",
       "commandVersion": 0,
       "commentThread": [],
       "commentsVisible": false,
       "contentSha256Hex": null,
       "customPlotOptions": {
        "redashChart": [
         {
          "key": "type",
          "value": "CHART"
         },
         {
          "key": "options",
          "value": {
           "alignYAxesAtZero": true,
           "coefficient": 1,
           "columnConfigurationMap": {
            "x": {
             "column": "ExteriorColor",
             "id": "column_350ad17c1"
            },
            "y": [
             {
              "column": "Average",
              "id": "column_350ad17c2",
              "transform": "SUM"
             }
            ]
           },
           "dateTimeFormat": "DD/MM/YYYY HH:mm",
           "direction": {
            "type": "counterclockwise"
           },
           "error_y": {
            "type": "data",
            "visible": true
           },
           "globalSeriesType": "column",
           "legend": {
            "traceorder": "normal"
           },
           "missingValuesAsZero": true,
           "numberFormat": "0,0.[00000]",
           "percentFormat": "0[.]00%",
           "series": {
            "error_y": {
             "type": "data",
             "visible": true
            },
            "stacking": null
           },
           "seriesOptions": {
            "column_350ad17c2": {
             "name": "Average",
             "yAxis": 0
            }
           },
           "showDataLabels": false,
           "sizemode": "diameter",
           "sortX": true,
           "sortY": true,
           "swappedAxes": true,
           "textFormat": "",
           "useAggregationsUi": true,
           "valuesOptions": {},
           "version": 2,
           "xAxis": {
            "labels": {
             "enabled": true
            },
            "type": "-"
           },
           "yAxis": [
            {
             "type": "-"
            },
            {
             "opposite": true,
             "type": "-"
            }
           ]
          }
         }
        ]
       },
       "datasetPreviewNameToCmdIdMap": {},
       "diffDeletes": [],
       "diffInserts": [],
       "displayType": "redashChart",
       "error": null,
       "errorDetails": null,
       "errorSummary": null,
       "errorTraceType": null,
       "finishTime": 0,
       "globalVars": {},
       "guid": "",
       "height": "361",
       "hideCommandCode": false,
       "hideCommandResult": false,
       "iPythonMetadata": null,
       "inputWidgets": {},
       "isLockedInExamMode": false,
       "latestUser": "a user",
       "latestUserId": null,
       "listResultMetadata": null,
       "metadata": {},
       "nuid": "e29673b7-6f55-484e-a543-ca62a4e8247d",
       "origId": 0,
       "parentHierarchy": [],
       "pivotAggregation": null,
       "pivotColumns": null,
       "position": 8.0,
       "resultDbfsErrorMessage": null,
       "resultDbfsStatus": "INLINED_IN_TREE",
       "results": null,
       "showCommandTitle": false,
       "startTime": 0,
       "state": "input",
       "streamStates": {},
       "subcommandOptions": {
        "queryPlan": {
         "groups": [
          {
           "column": "ExteriorColor",
           "type": "column"
          }
         ],
         "selects": [
          {
           "column": "ExteriorColor",
           "type": "column"
          },
          {
           "alias": "column_350ad17c2",
           "args": [
            {
             "column": "Average",
             "type": "column"
            }
           ],
           "function": "SUM",
           "type": "function"
          }
         ]
        }
       },
       "submitTime": 0,
       "subtype": "tableResultSubCmd.visualization",
       "tableResultIndex": 0,
       "useConsistentColors": false,
       "version": "CommandV1",
       "width": "756",
       "workflows": [],
       "xColumns": null,
       "yColumns": null
      }
     },
     "output_type": "display_data"
    },
    {
     "output_type": "stream",
     "name": "stdout",
     "output_type": "stream",
     "text": [
      "+----------------+-------------------+\n|   ExteriorColor|            Average|\n+----------------+-------------------+\n|  White exterior| 0.1559633027522936|\n|    Red exterior|0.16483516483516483|\n|  Green exterior|                0.0|\n| Silver exterior|0.21524663677130046|\n|Unknown exterior|                0.0|\n|  Brown exterior|                0.5|\n|  Black exterior|0.20809248554913296|\n|   Blue exterior|0.20279720279720279|\n|   Gray exterior| 0.1942257217847769|\n| Yellow exterior|                0.0|\n|    Tan exterior| 0.3333333333333333|\n| Orange exterior|                0.0|\n+----------------+-------------------+\n\n"
     ]
    }
   ],
   "source": [
    "from pyspark.sql.functions import udf\n",
    "from pyspark.sql.types import IntegerType, StringType\n",
    "from pyspark.sql.functions import col\n",
    "\n",
    "def exteriorColor(s):\n",
    "    x = s.split(',')\n",
    "    return x[0]\n",
    "\n",
    "def numAccidents(s):\n",
    "    y = s.split(' ')\n",
    "    if y[0] == 'No':\n",
    "        return 0\n",
    "    return int(y[0])\n",
    "\n",
    "numAccidents_udf=udf(numAccidents,IntegerType())\n",
    "exteriorColor_udf=udf(exteriorColor,StringType())\n",
    "\n",
    "df_data_all = df_data_1.union(df_data_2).union(df_data_3)\n",
    "#display(df_data_all)\n",
    "numAccidents_df = df_data_all.select(exteriorColor_udf(df_data_all.color).alias(\"ExteriorColor\"), numAccidents_udf(df_data_all.condition).alias(\"NumAccidents\"))\n",
    "\n",
    "AccidentsPerColor = numAccidents_df.groupby('ExteriorColor').sum('NumAccidents').withColumnRenamed('sum(NumAccidents)','sum')\n",
    "\n",
    "AccidentsPerColorT = numAccidents_df.groupby('ExteriorColor').count()\n",
    "accidentsPerColor = AccidentsPerColor.join(AccidentsPerColorT, on='ExteriorColor')\n",
    "accidentsColor = accidentsPerColor.select(col('ExteriorColor'),\n",
    "    (col('sum') / col('count')).alias('Average')\n",
    ")\n",
    "\n",
    "display(accidentsColor)\n",
    "accidentsColor.show()"
   ]
  },
  {
   "cell_type": "code",
   "execution_count": 0,
   "metadata": {
    "application/vnd.databricks.v1+cell": {
     "cellMetadata": {
      "byteLimit": 2048000,
      "rowLimit": 10000
     },
     "inputWidgets": {},
     "nuid": "857294c8-b83f-4a19-8b63-35d45f4bfcd3",
     "showTitle": true,
     "title": "Ratio of accidents to car miles"
    }
   },
   "outputs": [
    {
     "output_type": "display_data",
     "data": {
      "text/html": [
       "<style scoped>\n",
       "  .table-result-container {\n",
       "    max-height: 300px;\n",
       "    overflow: auto;\n",
       "  }\n",
       "  table, th, td {\n",
       "    border: 1px solid black;\n",
       "    border-collapse: collapse;\n",
       "  }\n",
       "  th, td {\n",
       "    padding: 5px;\n",
       "  }\n",
       "  th {\n",
       "    text-align: left;\n",
       "  }\n",
       "</style><div class='table-result-container'><table class='table-result'><thead style='background-color: white'><tr><th>miles</th><th>accidents</th><th>Average per Miles</th></tr></thead><tbody><tr><td>0-20000 miles</td><td>0</td><td>0.9431616341030196</td></tr><tr><td>0-20000 miles</td><td>1</td><td>0.05150976909413854</td></tr><tr><td>0-20000 miles</td><td>2</td><td>0.0053285968028419185</td></tr><tr><td>20001-40000 miles</td><td>0</td><td>0.8384512683578104</td></tr><tr><td>20001-40000 miles</td><td>1</td><td>0.13351134846461948</td></tr><tr><td>20001-40000 miles</td><td>2</td><td>0.0267022696929239</td></tr><tr><td>20001-40000 miles</td><td>3</td><td>0.0013351134846461949</td></tr><tr><td>40001-60000 miles</td><td>0</td><td>0.7726218097447796</td></tr><tr><td>40001-60000 miles</td><td>1</td><td>0.1902552204176334</td></tr><tr><td>40001-60000 miles</td><td>2</td><td>0.03248259860788863</td></tr><tr><td>40001-60000 miles</td><td>3</td><td>0.004640371229698376</td></tr><tr><td>60001-80000 miles</td><td>0</td><td>0.7777777777777778</td></tr><tr><td>60001-80000 miles</td><td>1</td><td>0.2037037037037037</td></tr><tr><td>60001-80000 miles</td><td>2</td><td>0.004629629629629629</td></tr><tr><td>60001-80000 miles</td><td>3</td><td>0.013888888888888888</td></tr><tr><td>80001-100000 miles</td><td>0</td><td>0.7407407407407407</td></tr><tr><td>80001-100000 miles</td><td>1</td><td>0.2222222222222222</td></tr><tr><td>80001-100000 miles</td><td>2</td><td>0.037037037037037035</td></tr><tr><td>>100000 miles</td><td>0</td><td>0.6923076923076923</td></tr><tr><td>>100000 miles</td><td>1</td><td>0.28205128205128205</td></tr><tr><td>>100000 miles</td><td>2</td><td>0.02564102564102564</td></tr></tbody></table></div>"
      ]
     },
     "metadata": {
      "application/vnd.databricks.v1+output": {
       "addedWidgets": {},
       "aggData": [],
       "aggError": "",
       "aggOverflow": false,
       "aggSchema": [],
       "aggSeriesLimitReached": false,
       "aggType": "",
       "arguments": {},
       "columnCustomDisplayInfos": {},
       "data": [
        [
         "0-20000 miles",
         0,
         0.9431616341030196
        ],
        [
         "0-20000 miles",
         1,
         0.05150976909413854
        ],
        [
         "0-20000 miles",
         2,
         0.0053285968028419185
        ],
        [
         "20001-40000 miles",
         0,
         0.8384512683578104
        ],
        [
         "20001-40000 miles",
         1,
         0.13351134846461948
        ],
        [
         "20001-40000 miles",
         2,
         0.0267022696929239
        ],
        [
         "20001-40000 miles",
         3,
         0.0013351134846461949
        ],
        [
         "40001-60000 miles",
         0,
         0.7726218097447796
        ],
        [
         "40001-60000 miles",
         1,
         0.1902552204176334
        ],
        [
         "40001-60000 miles",
         2,
         0.03248259860788863
        ],
        [
         "40001-60000 miles",
         3,
         0.004640371229698376
        ],
        [
         "60001-80000 miles",
         0,
         0.7777777777777778
        ],
        [
         "60001-80000 miles",
         1,
         0.2037037037037037
        ],
        [
         "60001-80000 miles",
         2,
         0.004629629629629629
        ],
        [
         "60001-80000 miles",
         3,
         0.013888888888888888
        ],
        [
         "80001-100000 miles",
         0,
         0.7407407407407407
        ],
        [
         "80001-100000 miles",
         1,
         0.2222222222222222
        ],
        [
         "80001-100000 miles",
         2,
         0.037037037037037035
        ],
        [
         ">100000 miles",
         0,
         0.6923076923076923
        ],
        [
         ">100000 miles",
         1,
         0.28205128205128205
        ],
        [
         ">100000 miles",
         2,
         0.02564102564102564
        ]
       ],
       "datasetInfos": [],
       "dbfsResultPath": null,
       "isJsonSchema": true,
       "metadata": {},
       "overflow": false,
       "plotOptions": {
        "customPlotOptions": {},
        "displayType": "table",
        "pivotAggregation": null,
        "pivotColumns": null,
        "xColumns": null,
        "yColumns": null
       },
       "removedWidgets": [],
       "schema": [
        {
         "metadata": "{}",
         "name": "miles",
         "type": "\"string\""
        },
        {
         "metadata": "{}",
         "name": "accidents",
         "type": "\"integer\""
        },
        {
         "metadata": "{}",
         "name": "Average per Miles",
         "type": "\"double\""
        }
       ],
       "type": "table"
      }
     },
     "output_type": "display_data"
    },
    {
     "output_type": "display_data",
     "data": {
      "text/plain": [
       "Databricks visualization. Run in Databricks to view."
      ]
     },
     "metadata": {
      "application/vnd.databricks.v1.subcommand+json": {
       "baseErrorDetails": null,
       "bindings": {},
       "collapsed": false,
       "command": "%python\n__backend_agg_display_orig = display\n__backend_agg_dfs = []\ndef __backend_agg_display_new(df):\n    __backend_agg_df_modules = [\"pandas.core.frame\", \"databricks.koalas.frame\", \"pyspark.sql.dataframe\", \"pyspark.pandas.frame\", \"pyspark.sql.connect.dataframe\"]\n    if (type(df).__module__ in __backend_agg_df_modules and type(df).__name__ == 'DataFrame') or isinstance(df, list):\n        __backend_agg_dfs.append(df)\n\ndisplay = __backend_agg_display_new\n\ndef __backend_agg_user_code_fn():\n    import base64\n    exec(base64.standard_b64decode(\"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\").decode())\n\ntry:\n    # run user code\n    __backend_agg_user_code_fn()\n\n    #reset display function\n    display = __backend_agg_display_orig\n\n    if len(__backend_agg_dfs) > 0:\n        # create a temp view\n        if type(__backend_agg_dfs[0]).__module__ == \"databricks.koalas.frame\":\n            # koalas dataframe\n            __backend_agg_dfs[0].to_spark().createOrReplaceTempView(\"DatabricksViewb7b604c\")\n        elif type(__backend_agg_dfs[0]).__module__ == \"pandas.core.frame\" or isinstance(__backend_agg_dfs[0], list):\n            # pandas dataframe\n            spark.createDataFrame(__backend_agg_dfs[0]).createOrReplaceTempView(\"DatabricksViewb7b604c\")\n        else:\n            __backend_agg_dfs[0].createOrReplaceTempView(\"DatabricksViewb7b604c\")\n        #run backend agg\n        display(spark.sql(\"\"\"WITH q AS (select * from DatabricksViewb7b604c) SELECT `accidents`,`Average per Miles`,`miles` FROM q\"\"\"))\n    else:\n        displayHTML(\"dataframe no longer exists. If you're using dataframe.display(), use display(dataframe) instead.\")\n\n\nfinally:\n    spark.sql(\"drop view if exists DatabricksViewb7b604c\")\n    display = __backend_agg_display_orig\n    del __backend_agg_display_new\n    del __backend_agg_display_orig\n    del __backend_agg_dfs\n    del __backend_agg_user_code_fn\n\n",
       "commandTitle": "Visualization 1",
       "commandType": "auto",
       "commandVersion": 0,
       "commentThread": [],
       "commentsVisible": false,
       "contentSha256Hex": null,
       "customPlotOptions": {
        "redashChart": [
         {
          "key": "type",
          "value": "CHART"
         },
         {
          "key": "options",
          "value": {
           "alignYAxesAtZero": true,
           "coefficient": 1,
           "columnConfigurationMap": {
            "series": {
             "column": "miles",
             "id": "column_350ad17c8"
            },
            "x": {
             "column": "accidents",
             "id": "column_350ad17c6"
            },
            "y": [
             {
              "column": "Average per Miles",
              "id": "column_350ad17c7"
             }
            ]
           },
           "dateTimeFormat": "DD/MM/YYYY HH:mm",
           "direction": {
            "type": "counterclockwise"
           },
           "error_y": {
            "type": "data",
            "visible": true
           },
           "globalSeriesType": "scatter",
           "legend": {
            "traceorder": "normal"
           },
           "missingValuesAsZero": true,
           "numberFormat": "0,0.[00000]",
           "percentFormat": "0[.]00%",
           "series": {
            "error_y": {
             "type": "data",
             "visible": true
            },
            "stacking": null
           },
           "seriesOptions": {
            "column_350ad17c7": {
             "name": "Average per Miles",
             "yAxis": 0
            }
           },
           "showDataLabels": false,
           "sizemode": "diameter",
           "sortX": true,
           "sortY": true,
           "swappedAxes": false,
           "textFormat": "",
           "useAggregationsUi": true,
           "valuesOptions": {},
           "version": 2,
           "xAxis": {
            "labels": {
             "enabled": true
            },
            "type": "-"
           },
           "yAxis": [
            {
             "type": "-"
            },
            {
             "opposite": true,
             "type": "-"
            }
           ]
          }
         }
        ]
       },
       "datasetPreviewNameToCmdIdMap": {},
       "diffDeletes": [],
       "diffInserts": [],
       "displayType": "redashChart",
       "error": null,
       "errorDetails": null,
       "errorSummary": null,
       "errorTraceType": null,
       "finishTime": 0,
       "globalVars": {},
       "guid": "",
       "height": "auto",
       "hideCommandCode": false,
       "hideCommandResult": false,
       "iPythonMetadata": null,
       "inputWidgets": {},
       "isLockedInExamMode": false,
       "latestUser": "a user",
       "latestUserId": null,
       "listResultMetadata": null,
       "metadata": {},
       "nuid": "43ab7acf-426b-4305-b377-df9f368b6d94",
       "origId": 0,
       "parentHierarchy": [],
       "pivotAggregation": null,
       "pivotColumns": null,
       "position": 9.0,
       "resultDbfsErrorMessage": null,
       "resultDbfsStatus": "INLINED_IN_TREE",
       "results": null,
       "showCommandTitle": false,
       "startTime": 0,
       "state": "input",
       "streamStates": {},
       "subcommandOptions": {
        "queryPlan": {
         "selects": [
          {
           "column": "accidents",
           "type": "column"
          },
          {
           "column": "Average per Miles",
           "type": "column"
          },
          {
           "column": "miles",
           "type": "column"
          }
         ]
        }
       },
       "submitTime": 0,
       "subtype": "tableResultSubCmd.visualization",
       "tableResultIndex": 0,
       "useConsistentColors": false,
       "version": "CommandV1",
       "width": "auto",
       "workflows": [],
       "xColumns": null,
       "yColumns": null
      }
     },
     "output_type": "display_data"
    }
   ],
   "source": [
    "from pyspark.sql.functions import udf\n",
    "from pyspark.sql.types import IntegerType, StringType\n",
    "\n",
    "def miles(s):\n",
    "    x = s.split(' ')\n",
    "    if ',' in x[0]:\n",
    "        y = x[0].split(',')\n",
    "        n = int(y[0]+y[1])\n",
    "        if n>0 and n<=20000:\n",
    "            return '0-20000 miles'\n",
    "        elif n>20000 and n<=40000:\n",
    "            return '20001-40000 miles'\n",
    "        elif n>40000 and n<=60000:\n",
    "            return '40001-60000 miles'\n",
    "        elif n>60000 and n<=80000:\n",
    "            return '60001-80000 miles'\n",
    "        elif n>80000 and n<=100000:\n",
    "            return '80001-100000 miles'\n",
    "    elif ',' not in x[0]:\n",
    "        return '0-20000 miles'\n",
    "    return '>100000 miles'\n",
    "\n",
    "def accidents(s):\n",
    "    y = s.split(' ')\n",
    "    if y[0] == 'No':\n",
    "        return 0\n",
    "    return int(y[0])\n",
    "\n",
    "\n",
    "accidents_udf=udf(accidents,IntegerType())\n",
    "miles_udf=udf(miles,StringType())\n",
    "\n",
    "df_data_all = df_data_1.union(df_data_2).union(df_data_3)\n",
    "\n",
    "accidents_miles = df_data_all.select(miles_udf(df_data_all.miles).alias(\"miles\"), accidents_udf(df_data_all.condition).alias(\"accidents\"))\n",
    "accidentsVsMiles = accidents_miles.groupBy('miles','accidents').count().orderBy('miles','accidents')\n",
    "#display(accidentsVsMiles)\n",
    "numofAccidentsMiles = accidents_miles.groupBy('miles').count().withColumnRenamed('count','countT')\n",
    "#display(numofAccidentsMiles)\n",
    "AccidentsVsMiles = accidentsVsMiles.join(numofAccidentsMiles, on='miles')\n",
    "#display(AccidentsVsMiles)\n",
    "AccidentsVSMiles = AccidentsVsMiles.select(col('miles'),col('accidents'),\n",
    "    (col('count') / col('countT')).alias('Average per Miles')\n",
    ").orderBy('miles','accidents')\n",
    "#display(AccidentsVsMiles)\n",
    "display(AccidentsVSMiles)\n"
   ]
  },
  {
   "cell_type": "code",
   "execution_count": 0,
   "metadata": {
    "application/vnd.databricks.v1+cell": {
     "cellMetadata": {
      "byteLimit": 2048000,
      "rowLimit": 10000
     },
     "inputWidgets": {},
     "nuid": "80740d77-f3fb-4d88-9402-446ee8509067",
     "showTitle": true,
     "title": "Ratio of accidents to car brand"
    }
   },
   "outputs": [
    {
     "output_type": "display_data",
     "data": {
      "text/html": [
       "<style scoped>\n",
       "  .table-result-container {\n",
       "    max-height: 300px;\n",
       "    overflow: auto;\n",
       "  }\n",
       "  table, th, td {\n",
       "    border: 1px solid black;\n",
       "    border-collapse: collapse;\n",
       "  }\n",
       "  th, td {\n",
       "    padding: 5px;\n",
       "  }\n",
       "  th {\n",
       "    text-align: left;\n",
       "  }\n",
       "</style><div class='table-result-container'><table class='table-result'><thead style='background-color: white'><tr><th>brand</th><th>accidents</th><th>Average per Brand</th></tr></thead><tbody><tr><td>Acura</td><td>1</td><td>0.10714285714285714</td></tr><tr><td>Audi</td><td>1</td><td>0.12048192771084337</td></tr><tr><td>Audi</td><td>2</td><td>0.024096385542168676</td></tr><tr><td>BMW</td><td>1</td><td>0.11475409836065574</td></tr><tr><td>BMW</td><td>2</td><td>0.02459016393442623</td></tr><tr><td>Cadillac</td><td>1</td><td>0.06666666666666667</td></tr><tr><td>Chevrolet</td><td>1</td><td>0.22962962962962963</td></tr><tr><td>Chevrolet</td><td>2</td><td>0.014814814814814815</td></tr><tr><td>Chevrolet</td><td>3</td><td>0.007407407407407408</td></tr><tr><td>Dodge</td><td>1</td><td>0.2222222222222222</td></tr><tr><td>Dodge</td><td>2</td><td>0.037037037037037035</td></tr><tr><td>Ford</td><td>1</td><td>0.09944751381215469</td></tr><tr><td>Ford</td><td>2</td><td>0.016574585635359115</td></tr><tr><td>GMC</td><td>1</td><td>0.4444444444444444</td></tr><tr><td>Honda</td><td>1</td><td>0.17391304347826086</td></tr><tr><td>Honda</td><td>2</td><td>0.012422360248447204</td></tr><tr><td>Hyundai</td><td>1</td><td>0.1282051282051282</td></tr><tr><td>Hyundai</td><td>2</td><td>0.05128205128205128</td></tr><tr><td>INFINITI</td><td>1</td><td>0.14285714285714285</td></tr><tr><td>Jaguar</td><td>1</td><td>0.16666666666666666</td></tr><tr><td>Jeep</td><td>1</td><td>0.1951219512195122</td></tr><tr><td>Jeep</td><td>2</td><td>0.024390243902439025</td></tr><tr><td>Jeep</td><td>3</td><td>0.012195121951219513</td></tr><tr><td>Kia</td><td>1</td><td>0.08247422680412371</td></tr><tr><td>Kia</td><td>2</td><td>0.05154639175257732</td></tr><tr><td>Land</td><td>1</td><td>0.07142857142857142</td></tr><tr><td>Lexus</td><td>1</td><td>0.14583333333333334</td></tr><tr><td>Lexus</td><td>2</td><td>0.041666666666666664</td></tr><tr><td>Lexus</td><td>3</td><td>0.020833333333333332</td></tr><tr><td>MINI</td><td>1</td><td>0.2</td></tr><tr><td>Maserati</td><td>2</td><td>0.2</td></tr><tr><td>Mazda</td><td>1</td><td>0.17857142857142858</td></tr><tr><td>Mazda</td><td>2</td><td>0.03571428571428571</td></tr><tr><td>Mercedes-Benz</td><td>1</td><td>0.13821138211382114</td></tr><tr><td>Mercedes-Benz</td><td>2</td><td>0.012195121951219513</td></tr><tr><td>Mitsubishi</td><td>1</td><td>0.2</td></tr><tr><td>Nissan</td><td>1</td><td>0.07368421052631578</td></tr><tr><td>Nissan</td><td>2</td><td>0.031578947368421054</td></tr><tr><td>Porsche</td><td>1</td><td>0.058823529411764705</td></tr><tr><td>Ram</td><td>1</td><td>0.16666666666666666</td></tr><tr><td>Subaru</td><td>1</td><td>0.057692307692307696</td></tr><tr><td>Subaru</td><td>2</td><td>0.019230769230769232</td></tr><tr><td>Subaru</td><td>3</td><td>0.009615384615384616</td></tr><tr><td>Toyota</td><td>1</td><td>0.16225165562913907</td></tr><tr><td>Toyota</td><td>2</td><td>0.019867549668874173</td></tr><tr><td>Toyota</td><td>3</td><td>0.006622516556291391</td></tr><tr><td>Volkswagen</td><td>1</td><td>0.203125</td></tr><tr><td>Volkswagen</td><td>2</td><td>0.015625</td></tr></tbody></table></div>"
      ]
     },
     "metadata": {
      "application/vnd.databricks.v1+output": {
       "addedWidgets": {},
       "aggData": [],
       "aggError": "",
       "aggOverflow": false,
       "aggSchema": [],
       "aggSeriesLimitReached": false,
       "aggType": "",
       "arguments": {},
       "columnCustomDisplayInfos": {},
       "data": [
        [
         "Acura",
         1,
         0.10714285714285714
        ],
        [
         "Audi",
         1,
         0.12048192771084337
        ],
        [
         "Audi",
         2,
         0.024096385542168676
        ],
        [
         "BMW",
         1,
         0.11475409836065574
        ],
        [
         "BMW",
         2,
         0.02459016393442623
        ],
        [
         "Cadillac",
         1,
         0.06666666666666667
        ],
        [
         "Chevrolet",
         1,
         0.22962962962962963
        ],
        [
         "Chevrolet",
         2,
         0.014814814814814815
        ],
        [
         "Chevrolet",
         3,
         0.007407407407407408
        ],
        [
         "Dodge",
         1,
         0.2222222222222222
        ],
        [
         "Dodge",
         2,
         0.037037037037037035
        ],
        [
         "Ford",
         1,
         0.09944751381215469
        ],
        [
         "Ford",
         2,
         0.016574585635359115
        ],
        [
         "GMC",
         1,
         0.4444444444444444
        ],
        [
         "Honda",
         1,
         0.17391304347826086
        ],
        [
         "Honda",
         2,
         0.012422360248447204
        ],
        [
         "Hyundai",
         1,
         0.1282051282051282
        ],
        [
         "Hyundai",
         2,
         0.05128205128205128
        ],
        [
         "INFINITI",
         1,
         0.14285714285714285
        ],
        [
         "Jaguar",
         1,
         0.16666666666666666
        ],
        [
         "Jeep",
         1,
         0.1951219512195122
        ],
        [
         "Jeep",
         2,
         0.024390243902439025
        ],
        [
         "Jeep",
         3,
         0.012195121951219513
        ],
        [
         "Kia",
         1,
         0.08247422680412371
        ],
        [
         "Kia",
         2,
         0.05154639175257732
        ],
        [
         "Land",
         1,
         0.07142857142857142
        ],
        [
         "Lexus",
         1,
         0.14583333333333334
        ],
        [
         "Lexus",
         2,
         0.041666666666666664
        ],
        [
         "Lexus",
         3,
         0.020833333333333332
        ],
        [
         "MINI",
         1,
         0.2
        ],
        [
         "Maserati",
         2,
         0.2
        ],
        [
         "Mazda",
         1,
         0.17857142857142858
        ],
        [
         "Mazda",
         2,
         0.03571428571428571
        ],
        [
         "Mercedes-Benz",
         1,
         0.13821138211382114
        ],
        [
         "Mercedes-Benz",
         2,
         0.012195121951219513
        ],
        [
         "Mitsubishi",
         1,
         0.2
        ],
        [
         "Nissan",
         1,
         0.07368421052631578
        ],
        [
         "Nissan",
         2,
         0.031578947368421054
        ],
        [
         "Porsche",
         1,
         0.058823529411764705
        ],
        [
         "Ram",
         1,
         0.16666666666666666
        ],
        [
         "Subaru",
         1,
         0.057692307692307696
        ],
        [
         "Subaru",
         2,
         0.019230769230769232
        ],
        [
         "Subaru",
         3,
         0.009615384615384616
        ],
        [
         "Toyota",
         1,
         0.16225165562913907
        ],
        [
         "Toyota",
         2,
         0.019867549668874173
        ],
        [
         "Toyota",
         3,
         0.006622516556291391
        ],
        [
         "Volkswagen",
         1,
         0.203125
        ],
        [
         "Volkswagen",
         2,
         0.015625
        ]
       ],
       "datasetInfos": [],
       "dbfsResultPath": null,
       "isJsonSchema": true,
       "metadata": {},
       "overflow": false,
       "plotOptions": {
        "customPlotOptions": {},
        "displayType": "table",
        "pivotAggregation": null,
        "pivotColumns": null,
        "xColumns": null,
        "yColumns": null
       },
       "removedWidgets": [],
       "schema": [
        {
         "metadata": "{}",
         "name": "brand",
         "type": "\"string\""
        },
        {
         "metadata": "{}",
         "name": "accidents",
         "type": "\"integer\""
        },
        {
         "metadata": "{}",
         "name": "Average per Brand",
         "type": "\"double\""
        }
       ],
       "type": "table"
      }
     },
     "output_type": "display_data"
    },
    {
     "output_type": "display_data",
     "data": {
      "text/plain": [
       "Databricks visualization. Run in Databricks to view."
      ]
     },
     "metadata": {
      "application/vnd.databricks.v1.subcommand+json": {
       "baseErrorDetails": null,
       "bindings": {},
       "collapsed": false,
       "command": "%python\n__backend_agg_display_orig = display\n__backend_agg_dfs = []\ndef __backend_agg_display_new(df):\n    __backend_agg_df_modules = [\"pandas.core.frame\", \"databricks.koalas.frame\", \"pyspark.sql.dataframe\", \"pyspark.pandas.frame\", \"pyspark.sql.connect.dataframe\"]\n    if (type(df).__module__ in __backend_agg_df_modules and type(df).__name__ == 'DataFrame') or isinstance(df, list):\n        __backend_agg_dfs.append(df)\n\ndisplay = __backend_agg_display_new\n\ndef __backend_agg_user_code_fn():\n    import base64\n    exec(base64.standard_b64decode(\"ZnJvbSBweXNwYXJrLnNxbC5mdW5jdGlvbnMgaW1wb3J0IHVkZgpmcm9tIHB5c3Bhcmsuc3FsLnR5cGVzIGltcG9ydCBJbnRlZ2VyVHlwZSwgU3RyaW5nVHlwZQoKZGVmIGNhckJyYW5kKHMpOgogICAgeCA9IHMuc3BsaXQoJyAnKQogICAgcmV0dXJuIHhbMF0KCmNhckJyYW5kX3VkZj11ZGYoY2FyQnJhbmQsU3RyaW5nVHlwZSgpKQoKYWNjaWRlbnRzX2JyYW5kID0gZGZfZGF0YV9hbGwuc2VsZWN0KGNhckJyYW5kX3VkZihkZl9kYXRhX2FsbC5CcmFuZE1vZGVsKS5hbGlhcygiYnJhbmQiKSwgYWNjaWRlbnRzX3VkZihkZl9kYXRhX2FsbC5jb25kaXRpb24pLmFsaWFzKCJhY2NpZGVudHMiKSkKYWNjaWRlbnRzVnNCcmFuZCA9IGFjY2lkZW50c19icmFuZC5maWx0ZXIoRi5jb2woJ2FjY2lkZW50cycpIT0gMCkuZ3JvdXBCeSgnYnJhbmQnLCdhY2NpZGVudHMnKS5jb3VudCgpLm9yZGVyQnkoJ2JyYW5kJywnYWNjaWRlbnRzJykKI2Rpc3BsYXkoYWNjaWRlbnRzVnNCcmFuZCkKbnVtb2ZBY2NpZGVudHNCcmFuZCA9IGFjY2lkZW50c19icmFuZC5ncm91cEJ5KCdicmFuZCcpLmNvdW50KCkud2l0aENvbHVtblJlbmFtZWQoJ2NvdW50JywnY291bnRUJykKI2Rpc3BsYXkobnVtb2ZBY2NpZGVudHNNaWxlcykKQWNjaWRlbnRzVnNCcmFuZCA9IGFjY2lkZW50c1ZzQnJhbmQuam9pbihudW1vZkFjY2lkZW50c0JyYW5kLCBvbj0nYnJhbmQnKQojZGlzcGxheShBY2NpZGVudHNWc01pbGVzKQpBY2NpZGVudHNWU0JyYW5kID0gQWNjaWRlbnRzVnNCcmFuZC5zZWxlY3QoY29sKCdicmFuZCcpLGNvbCgnYWNjaWRlbnRzJyksCiAgICAoY29sKCdjb3VudCcpIC8gY29sKCdjb3VudFQnKSkuYWxpYXMoJ0F2ZXJhZ2UgcGVyIEJyYW5kJykKKS5vcmRlckJ5KCdicmFuZCcsJ2FjY2lkZW50cycpCiNkaXNwbGF5KEFjY2lkZW50c1ZzTWlsZXMpCmRpc3BsYXkoQWNjaWRlbnRzVlNCcmFuZCk=\").decode())\n\ntry:\n    # run user code\n    __backend_agg_user_code_fn()\n\n    #reset display function\n    display = __backend_agg_display_orig\n\n    if len(__backend_agg_dfs) > 0:\n        # create a temp view\n        if type(__backend_agg_dfs[0]).__module__ == \"databricks.koalas.frame\":\n            # koalas dataframe\n            __backend_agg_dfs[0].to_spark().createOrReplaceTempView(\"DatabricksViewac5c0b3\")\n        elif type(__backend_agg_dfs[0]).__module__ == \"pandas.core.frame\" or isinstance(__backend_agg_dfs[0], list):\n            # pandas dataframe\n            spark.createDataFrame(__backend_agg_dfs[0]).createOrReplaceTempView(\"DatabricksViewac5c0b3\")\n        else:\n            __backend_agg_dfs[0].createOrReplaceTempView(\"DatabricksViewac5c0b3\")\n        #run backend agg\n        display(spark.sql(\"\"\"WITH q AS (select * from DatabricksViewac5c0b3) SELECT `brand`,SUM(`Average per Brand`) `column_350ad17c10`,`brand` FROM q GROUP BY `brand`\"\"\"))\n    else:\n        displayHTML(\"dataframe no longer exists. If you're using dataframe.display(), use display(dataframe) instead.\")\n\n\nfinally:\n    spark.sql(\"drop view if exists DatabricksViewac5c0b3\")\n    display = __backend_agg_display_orig\n    del __backend_agg_display_new\n    del __backend_agg_display_orig\n    del __backend_agg_dfs\n    del __backend_agg_user_code_fn\n\n",
       "commandTitle": "Visualization 1",
       "commandType": "auto",
       "commandVersion": 0,
       "commentThread": [],
       "commentsVisible": false,
       "contentSha256Hex": null,
       "customPlotOptions": {
        "redashChart": [
         {
          "key": "type",
          "value": "CHART"
         },
         {
          "key": "options",
          "value": {
           "alignYAxesAtZero": true,
           "coefficient": 1,
           "columnConfigurationMap": {
            "series": {
             "column": "brand",
             "id": "column_350ad17c11"
            },
            "x": {
             "column": "brand",
             "id": "column_350ad17c12"
            },
            "y": [
             {
              "column": "Average per Brand",
              "id": "column_350ad17c10",
              "transform": "SUM"
             }
            ]
           },
           "dateTimeFormat": "DD/MM/YYYY HH:mm",
           "direction": {
            "type": "counterclockwise"
           },
           "error_y": {
            "type": "data",
            "visible": true
           },
           "globalSeriesType": "column",
           "isAggregationOn": true,
           "legend": {
            "traceorder": "normal"
           },
           "missingValuesAsZero": true,
           "numberFormat": "0,0.[00000]",
           "percentFormat": "0[.]00%",
           "series": {
            "error_y": {
             "type": "data",
             "visible": true
            },
            "stacking": null
           },
           "seriesOptions": {
            "column_350ad17c10": {
             "name": "Average per Brand",
             "type": "column",
             "yAxis": 0
            }
           },
           "showDataLabels": false,
           "sizemode": "diameter",
           "sortX": true,
           "sortY": true,
           "swappedAxes": false,
           "textFormat": "",
           "useAggregationsUi": true,
           "valuesOptions": {},
           "version": 2,
           "xAxis": {
            "labels": {
             "enabled": true
            },
            "type": "-"
           },
           "yAxis": [
            {
             "type": "-"
            },
            {
             "opposite": true,
             "type": "-"
            }
           ]
          }
         }
        ]
       },
       "datasetPreviewNameToCmdIdMap": {},
       "diffDeletes": [],
       "diffInserts": [],
       "displayType": "redashChart",
       "error": null,
       "errorDetails": null,
       "errorSummary": null,
       "errorTraceType": null,
       "finishTime": 0,
       "globalVars": {},
       "guid": "",
       "height": "auto",
       "hideCommandCode": false,
       "hideCommandResult": false,
       "iPythonMetadata": null,
       "inputWidgets": {},
       "isLockedInExamMode": false,
       "latestUser": "a user",
       "latestUserId": null,
       "listResultMetadata": null,
       "metadata": {},
       "nuid": "205ee8db-b11a-4f93-b17e-8ba3165b8e80",
       "origId": 0,
       "parentHierarchy": [],
       "pivotAggregation": null,
       "pivotColumns": null,
       "position": 10.0,
       "resultDbfsErrorMessage": null,
       "resultDbfsStatus": "INLINED_IN_TREE",
       "results": null,
       "showCommandTitle": false,
       "startTime": 0,
       "state": "input",
       "streamStates": {},
       "subcommandOptions": {
        "queryPlan": {
         "groups": [
          {
           "column": "brand",
           "type": "column"
          },
          {
           "column": "brand",
           "type": "column"
          }
         ],
         "selects": [
          {
           "column": "brand",
           "type": "column"
          },
          {
           "alias": "column_350ad17c10",
           "args": [
            {
             "column": "Average per Brand",
             "type": "column"
            }
           ],
           "function": "SUM",
           "type": "function"
          },
          {
           "column": "brand",
           "type": "column"
          }
         ]
        }
       },
       "submitTime": 0,
       "subtype": "tableResultSubCmd.visualization",
       "tableResultIndex": 0,
       "useConsistentColors": false,
       "version": "CommandV1",
       "width": "auto",
       "workflows": [],
       "xColumns": null,
       "yColumns": null
      }
     },
     "output_type": "display_data"
    }
   ],
   "source": [
    "from pyspark.sql.functions import udf\n",
    "from pyspark.sql.types import IntegerType, StringType\n",
    "\n",
    "def carBrand(s):\n",
    "    x = s.split(' ')\n",
    "    return x[0]\n",
    "\n",
    "carBrand_udf=udf(carBrand,StringType())\n",
    "\n",
    "accidents_brand = df_data_all.select(carBrand_udf(df_data_all.BrandModel).alias(\"brand\"), accidents_udf(df_data_all.condition).alias(\"accidents\"))\n",
    "accidentsVsBrand = accidents_brand.filter(F.col('accidents')!= 0).groupBy('brand','accidents').count().orderBy('brand','accidents')\n",
    "#display(accidentsVsBrand)\n",
    "numofAccidentsBrand = accidents_brand.groupBy('brand').count().withColumnRenamed('count','countT')\n",
    "#display(numofAccidentsMiles)\n",
    "AccidentsVsBrand = accidentsVsBrand.join(numofAccidentsBrand, on='brand')\n",
    "#display(AccidentsVsMiles)\n",
    "AccidentsVSBrand = AccidentsVsBrand.select(col('brand'),col('accidents'),\n",
    "    (col('count') / col('countT')).alias('Average per Brand')\n",
    ").orderBy('brand','accidents')\n",
    "#display(AccidentsVsMiles)\n",
    "display(AccidentsVSBrand)"
   ]
  },
  {
   "cell_type": "code",
   "execution_count": 0,
   "metadata": {
    "application/vnd.databricks.v1+cell": {
     "cellMetadata": {
      "byteLimit": 2048000,
      "rowLimit": 10000
     },
     "inputWidgets": {},
     "nuid": "68f3eac9-209c-4f43-972d-4360cddadd0e",
     "showTitle": true,
     "title": "i"
    }
   },
   "outputs": [
    {
     "output_type": "display_data",
     "data": {
      "text/html": [
       "<style scoped>\n",
       "  .table-result-container {\n",
       "    max-height: 300px;\n",
       "    overflow: auto;\n",
       "  }\n",
       "  table, th, td {\n",
       "    border: 1px solid black;\n",
       "    border-collapse: collapse;\n",
       "  }\n",
       "  th, td {\n",
       "    padding: 5px;\n",
       "  }\n",
       "  th {\n",
       "    text-align: left;\n",
       "  }\n",
       "</style><div class='table-result-container'><table class='table-result'><thead style='background-color: white'><tr><th>BrandModel</th><th>year</th><th>miles_int(miles)</th><th>color</th><th>condition</th><th>price</th></tr></thead><tbody><tr><td>Kia Forte</td><td>2022</td><td>41406</td><td>Gray exterior, Black interior</td><td>No accidents reported, 1 Owner</td><td>15988</td></tr><tr><td>Toyota RAV4</td><td>2022</td><td>32879</td><td>Silver exterior, Unknown interior</td><td>No accidents reported, 1 Owner</td><td>24988</td></tr><tr><td>Kia K5</td><td>2022</td><td>33632</td><td>White exterior, Black interior</td><td>No accidents reported, 1 Owner</td><td>19988</td></tr><tr><td>Honda CR-V</td><td>2022</td><td>23215</td><td>White exterior, Black interior</td><td>No accidents reported, 1 Owner</td><td>27798</td></tr><tr><td>Chevrolet Malibu</td><td>2022</td><td>32668</td><td>Gray exterior, Gray interior</td><td>No accidents reported, 1 Owner</td><td>19998</td></tr><tr><td>Kia Forte</td><td>2022</td><td>41406</td><td>Gray exterior, Black interior</td><td>No accidents reported, 1 Owner</td><td>15988</td></tr><tr><td>Toyota Corolla</td><td>2022</td><td>33167</td><td>White exterior, Black interior</td><td>No accidents reported, 1 Owner</td><td>20222</td></tr><tr><td>Ford F-150</td><td>2023</td><td>131</td><td>Gray exterior, Black interior</td><td>No accidents reported, 1 Owner</td><td>60800</td></tr><tr><td>Toyota RAV4</td><td>2022</td><td>38375</td><td>Silver exterior, Unknown interior</td><td>No accidents reported, 1 Owner</td><td>24988</td></tr><tr><td>Nissan Rogue Sport</td><td>2022</td><td>7415</td><td>Gray exterior, Black interior</td><td>No accidents reported, 1 Owner</td><td>26998</td></tr><tr><td>Honda Accord</td><td>2023</td><td>2414</td><td>White exterior, Black interior</td><td>No accidents reported, 1 Owner</td><td>25998</td></tr><tr><td>Chevrolet Malibu</td><td>2022</td><td>36517</td><td>Silver exterior, Black interior</td><td>No accidents reported, 1 Owner</td><td>16499</td></tr><tr><td>Ford Bronco Sport</td><td>2022</td><td>5335</td><td>Black exterior, Black interior</td><td>1 accident reported, 1 Owner</td><td>26495</td></tr><tr><td>Mercedes-Benz E-Class</td><td>2022</td><td>27642</td><td>Gray exterior, Black interior</td><td>No accidents reported, 1 Owner</td><td>41998</td></tr><tr><td>Toyota Camry</td><td>2023</td><td>19140</td><td>White exterior, Unknown interior</td><td>No accidents reported, 1 Owner</td><td>24575</td></tr><tr><td>BMW X4 M</td><td>2022</td><td>24935</td><td>White exterior, Orange interior</td><td>No accidents reported, 2 Owners</td><td>64998</td></tr><tr><td>Ford Bronco Sport</td><td>2022</td><td>18887</td><td>Gray exterior, Black interior</td><td>No accidents reported, 1 Owner</td><td>29795</td></tr><tr><td>Mercedes-Benz GLA</td><td>2022</td><td>2885</td><td>Black exterior, Black interior</td><td>No accidents reported, 1 Owner</td><td>45999</td></tr><tr><td>Ford Explorer</td><td>2022</td><td>10608</td><td>White exterior, Black interior</td><td>No accidents reported, 1 Owner</td><td>45828</td></tr><tr><td>Ford F-150</td><td>2023</td><td>131</td><td>Gray exterior, Black interior</td><td>No accidents reported, 1 Owner</td><td>60800</td></tr><tr><td>Chevrolet Silverado 1500</td><td>2023</td><td>6779</td><td>Gray exterior, Black interior</td><td>No accidents reported, 1 Owner</td><td>58890</td></tr><tr><td>Toyota RAV4</td><td>2022</td><td>38375</td><td>Silver exterior, Unknown interior</td><td>No accidents reported, 1 Owner</td><td>24988</td></tr><tr><td>Toyota Tacoma</td><td>2023</td><td>6828</td><td>Silver exterior, Black interior</td><td>No accidents reported, 1 Owner</td><td>39500</td></tr><tr><td>Kia Soul</td><td>2022</td><td>43839</td><td>White exterior, Black interior</td><td>No accidents reported, 1 Owner</td><td>14999</td></tr><tr><td>Toyota Corolla</td><td>2022</td><td>32604</td><td>Black exterior, Black interior</td><td>No accidents reported, 1 Owner</td><td>17599</td></tr><tr><td>Mercedes-Benz GLA</td><td>2022</td><td>2885</td><td>Black exterior, Black interior</td><td>No accidents reported, 1 Owner</td><td>45999</td></tr><tr><td>Ford Explorer</td><td>2022</td><td>10608</td><td>White exterior, Black interior</td><td>No accidents reported, 1 Owner</td><td>45828</td></tr><tr><td>Mercedes-Benz CLA</td><td>2023</td><td>9735</td><td>White exterior, Black interior</td><td>No accidents reported, 1 Owner</td><td>37815</td></tr><tr><td>Honda HR-V</td><td>2023</td><td>3590</td><td>Unknown exterior, Gray interior</td><td>No accidents reported, 1 Owner</td><td>24480</td></tr><tr><td>Ford Bronco</td><td>2022</td><td>10611</td><td>Black exterior, Unknown interior</td><td>No accidents reported, 1 Owner</td><td>46997</td></tr><tr><td>Kia Forte</td><td>2022</td><td>38804</td><td>White exterior, Black interior</td><td>No accidents reported, 1 Owner</td><td>15199</td></tr><tr><td>Ford Edge</td><td>2023</td><td>4706</td><td>White exterior, Black interior</td><td>No accidents reported, 1 Owner</td><td>34770</td></tr><tr><td>Toyota Camry</td><td>2022</td><td>31535</td><td>White exterior, Black interior</td><td>No accidents reported, 1 Owner</td><td>21899</td></tr><tr><td>Toyota Camry</td><td>2022</td><td>31634</td><td>Silver exterior, Black interior</td><td>No accidents reported, 1 Owner</td><td>22100</td></tr><tr><td>Toyota Corolla</td><td>2022</td><td>38484</td><td>Blue exterior, Black interior</td><td>No accidents reported, 1 Owner</td><td>18498</td></tr><tr><td>Chevrolet Malibu</td><td>2022</td><td>32668</td><td>Gray exterior, Gray interior</td><td>No accidents reported, 1 Owner</td><td>19998</td></tr><tr><td>Kia Forte</td><td>2022</td><td>39844</td><td>White exterior, Black interior</td><td>No accidents reported, 1 Owner</td><td>15199</td></tr><tr><td>Toyota Camry</td><td>2023</td><td>14771</td><td>Unknown exterior, Unknown interior</td><td>No accidents reported, 1 Owner</td><td>25995</td></tr><tr><td>Toyota Tacoma</td><td>2022</td><td>9629</td><td>White exterior, Black interior</td><td>No accidents reported, 1 Owner</td><td>40991</td></tr><tr><td>Toyota Corolla</td><td>2022</td><td>47087</td><td>Black exterior, Unknown interior</td><td>No accidents reported, 2 Owners</td><td>17999</td></tr><tr><td>Mercedes-Benz GLC</td><td>2022</td><td>12483</td><td>White exterior, Black interior</td><td>No accidents reported, 1 Owner</td><td>35136</td></tr><tr><td>Chevrolet Malibu</td><td>2022</td><td>28464</td><td>White exterior, Black interior</td><td>No accidents reported, 1 Owner</td><td>17991</td></tr><tr><td>Dodge Challenger</td><td>2022</td><td>27530</td><td>Black exterior, Black interior</td><td>No accidents reported, 1 Owner</td><td>26700</td></tr><tr><td>Toyota Corolla</td><td>2022</td><td>51240</td><td>Gray exterior, Unknown interior</td><td>No accidents reported, 1 Owner</td><td>18987</td></tr><tr><td>Toyota Highlander</td><td>2022</td><td>49766</td><td>Silver exterior, Black interior</td><td>No accidents reported, 1 Owner</td><td>39595</td></tr><tr><td>Ford F-150</td><td>2023</td><td>189</td><td>Red exterior, Black interior</td><td>No accidents reported, 1 Owner</td><td>44700</td></tr><tr><td>Toyota Corolla</td><td>2022</td><td>53358</td><td>Blue exterior, Black interior</td><td>No accidents reported, 1 Owner</td><td>17888</td></tr><tr><td>Lexus NX</td><td>2022</td><td>14516</td><td>White exterior, Red interior</td><td>No accidents reported, 1 Owner</td><td>42991</td></tr><tr><td>Mercedes-Benz CLA</td><td>2023</td><td>9735</td><td>White exterior, Black interior</td><td>No accidents reported, 1 Owner</td><td>37815</td></tr><tr><td>Honda HR-V</td><td>2023</td><td>3590</td><td>Unknown exterior, Gray interior</td><td>No accidents reported, 1 Owner</td><td>24480</td></tr><tr><td>Ford Bronco</td><td>2022</td><td>10611</td><td>Black exterior, Unknown interior</td><td>No accidents reported, 1 Owner</td><td>46997</td></tr><tr><td>Honda Civic</td><td>2022</td><td>17593</td><td>Black exterior, Black interior</td><td>No accidents reported, 1 Owner</td><td>27419</td></tr><tr><td>Subaru Outback</td><td>2023</td><td>4001</td><td>Black exterior, Beige interior</td><td>No accidents reported, 1 Owner</td><td>31989</td></tr><tr><td>Kia Forte</td><td>2023</td><td>1292</td><td>Black exterior, Black interior</td><td>No accidents reported, 1 Owner</td><td>23998</td></tr><tr><td>Kia K5</td><td>2022</td><td>40143</td><td>White exterior, Black interior</td><td>No accidents reported, 1 Owner</td><td>17500</td></tr><tr><td>Nissan Frontier</td><td>2022</td><td>21865</td><td>Gray exterior, Black interior</td><td>No accidents reported, 1 Owner</td><td>28988</td></tr><tr><td>Ford F-150</td><td>2022</td><td>12958</td><td>Blue exterior, Black interior</td><td>No accidents reported, 0 Owners</td><td>44598</td></tr><tr><td>Mercedes-Benz GLB</td><td>2023</td><td>3837</td><td>Gray exterior, Gray interior</td><td>No accidents reported, 1 Owner</td><td>41886</td></tr><tr><td>Chevrolet Silverado 1500</td><td>2023</td><td>15933</td><td>Blue exterior, Black interior</td><td>No accidents reported, 1 Owner</td><td>53750</td></tr><tr><td>Mercedes-Benz GLC</td><td>2022</td><td>12483</td><td>White exterior, Black interior</td><td>No accidents reported, 1 Owner</td><td>35136</td></tr><tr><td>Lexus NX</td><td>2023</td><td>2880</td><td>White exterior, Black interior</td><td>No accidents reported, 1 Owner</td><td>46998</td></tr><tr><td>Mazda CX-5</td><td>2022</td><td>10225</td><td>Gray exterior, Black interior</td><td>No accidents reported, 2 Owners</td><td>29998</td></tr><tr><td>Nissan Sentra</td><td>2022</td><td>22045</td><td>Black exterior, Black interior</td><td>No accidents reported, 1 Owner</td><td>17799</td></tr><tr><td>Honda HR-V</td><td>2022</td><td>33778</td><td>Black exterior, Black interior</td><td>No accidents reported, 1 Owner</td><td>20200</td></tr><tr><td>Chevrolet Camaro</td><td>2022</td><td>33204</td><td>Black exterior, Gray interior</td><td>No accidents reported, 1 Owner</td><td>23900</td></tr><tr><td>BMW 5 Series</td><td>2023</td><td>14651</td><td>White exterior, Black interior</td><td>No accidents reported, 1 Owner</td><td>44998</td></tr><tr><td>Alfa Romeo Giulia</td><td>2022</td><td>47</td><td>White exterior, Black interior</td><td>No accidents reported, 1 Owner</td><td>28670</td></tr><tr><td>Honda Civic</td><td>2022</td><td>22376</td><td>Black exterior, Black interior</td><td>No accidents reported, 1 Owner</td><td>28067</td></tr><tr><td>Toyota Highlander</td><td>2022</td><td>214</td><td>Blue exterior, Black interior</td><td>No accidents reported, 1 Owner</td><td>39333</td></tr><tr><td>BMW X5</td><td>2022</td><td>21808</td><td>Gray exterior, Black interior</td><td>No accidents reported, 1 Owner</td><td>46998</td></tr><tr><td>Toyota RAV4</td><td>2022</td><td>44258</td><td>Silver exterior, Unknown interior</td><td>No accidents reported, 1 Owner</td><td>24788</td></tr><tr><td>Toyota RAV4</td><td>2022</td><td>77425</td><td>White exterior, Black interior</td><td>No accidents reported, 1 Owner</td><td>24898</td></tr><tr><td>Mazda CX-30</td><td>2022</td><td>9629</td><td>Gray exterior, Black interior</td><td>No accidents reported, 2 Owners</td><td>27998</td></tr><tr><td>Mercedes-Benz C-Class</td><td>2023</td><td>10109</td><td>Silver exterior, Black interior</td><td>No accidents reported, 1 Owner</td><td>39776</td></tr><tr><td>Mercedes-Benz GLB</td><td>2023</td><td>3518</td><td>White exterior, Beige interior</td><td>No accidents reported, 1 Owner</td><td>43139</td></tr><tr><td>Kia Soul</td><td>2022</td><td>33047</td><td>White exterior, Black interior</td><td>No accidents reported, 1 Owner</td><td>16988</td></tr><tr><td>Chevrolet Malibu</td><td>2022</td><td>41386</td><td>Silver exterior, Black interior</td><td>1 accident reported, 1 Owner</td><td>19998</td></tr><tr><td>Audi Q7</td><td>2023</td><td>2738</td><td>Black exterior, Black interior</td><td>No accidents reported, 1 Owner</td><td>53155</td></tr><tr><td>Ford Explorer</td><td>2022</td><td>28520</td><td>White exterior, Black interior</td><td>No accidents reported, 1 Owner</td><td>26800</td></tr><tr><td>Ford Bronco</td><td>2022</td><td>5189</td><td>Silver exterior, Beige interior</td><td>No accidents reported, 1 Owner</td><td>57444</td></tr><tr><td>Mercedes-Benz CLA</td><td>2023</td><td>9431</td><td>White exterior, Black interior</td><td>No accidents reported, 1 Owner</td><td>40018</td></tr><tr><td>Audi Q5</td><td>2023</td><td>4888</td><td>Gray exterior, Black interior</td><td>No accidents reported, 1 Owner</td><td>44672</td></tr><tr><td>BMW 3 Series</td><td>2023</td><td>3271</td><td>Black exterior, Black interior</td><td>No accidents reported, 1 Owner</td><td>45222</td></tr><tr><td>Subaru Outback</td><td>2023</td><td>5609</td><td>White exterior, Gray interior</td><td>No accidents reported, 1 Owner</td><td>35479</td></tr><tr><td>Toyota Camry</td><td>2022</td><td>27681</td><td>Silver exterior, Black interior</td><td>No accidents reported, 1 Owner</td><td>20499</td></tr><tr><td>Mercedes-Benz E-Class</td><td>2022</td><td>5873</td><td>White exterior, Black interior</td><td>No accidents reported, 1 Owner</td><td>43887</td></tr><tr><td>Toyota RAV4</td><td>2022</td><td>31666</td><td>Gray exterior, Unknown interior</td><td>No accidents reported, 1 Owner</td><td>24988</td></tr><tr><td>Honda Passport</td><td>2022</td><td>10301</td><td>White exterior, Black interior</td><td>No accidents reported, 1 Owner</td><td>34649</td></tr><tr><td>Subaru Outback</td><td>2022</td><td>31748</td><td>White exterior, Gray interior</td><td>No accidents reported, 1 Owner</td><td>25499</td></tr><tr><td>Toyota Camry</td><td>2022</td><td>29934</td><td>Black exterior, Black interior</td><td>No accidents reported, 1 Owner</td><td>29998</td></tr><tr><td>Mercedes-Benz E-Class</td><td>2022</td><td>9842</td><td>White exterior, Black interior</td><td>No accidents reported, 1 Owner</td><td>44774</td></tr><tr><td>Chevrolet Equinox</td><td>2023</td><td>3306</td><td>Blue exterior, Black interior</td><td>No accidents reported, 1 Owner</td><td>25000</td></tr><tr><td>BMW 5 Series</td><td>2023</td><td>9109</td><td>Gray exterior, Black interior</td><td>No accidents reported, 1 Owner</td><td>45498</td></tr><tr><td>Chevrolet Spark</td><td>2022</td><td>36292</td><td>Gray exterior, Black interior</td><td>No accidents reported, 1 Owner</td><td>13650</td></tr><tr><td>Nissan Rogue</td><td>2023</td><td>12912</td><td>White exterior, Black interior</td><td>No accidents reported, 1 Owner</td><td>23988</td></tr><tr><td>Subaru Ascent</td><td>2022</td><td>17828</td><td>Gray exterior, Gray interior</td><td>No accidents reported, 1 Owner</td><td>34888</td></tr><tr><td>Audi RS 6 Avant</td><td>2023</td><td>8483</td><td>Gray exterior, Black interior</td><td>No accidents reported, 1 Owner</td><td>124995</td></tr><tr><td>Mercedes-Benz GLC</td><td>2022</td><td>5029</td><td>Black exterior, Beige interior</td><td>No accidents reported, 1 Owner</td><td>38235</td></tr><tr><td>Mercedes-Benz CLA</td><td>2023</td><td>6742</td><td>Gray exterior, Black interior</td><td>No accidents reported, 2 Owners</td><td>37776</td></tr><tr><td>Mercedes-Benz C-Class</td><td>2023</td><td>7663</td><td>Gray exterior, Black interior</td><td>No accidents reported, 1 Owner</td><td>39777</td></tr><tr><td>Subaru Outback</td><td>2023</td><td>5688</td><td>Silver exterior, Gray interior</td><td>No accidents reported, 1 Owner</td><td>34600</td></tr><tr><td>Buick Enclave</td><td>2023</td><td>10581</td><td>White exterior, Black interior</td><td>No accidents reported, 1 Owner</td><td>47000</td></tr><tr><td>Toyota Prius</td><td>2022</td><td>28082</td><td>Black exterior, Black interior</td><td>1 accident reported, 1 Owner</td><td>22500</td></tr><tr><td>Mercedes-Benz C-Class</td><td>2023</td><td>10109</td><td>Silver exterior, Black interior</td><td>No accidents reported, 1 Owner</td><td>39776</td></tr><tr><td>Volkswagen Taos</td><td>2022</td><td>35570</td><td>White exterior, Black interior</td><td>1 accident reported, 1 Owner</td><td>23998</td></tr><tr><td>Mercedes-Benz GLB</td><td>2023</td><td>3518</td><td>White exterior, Beige interior</td><td>No accidents reported, 1 Owner</td><td>43139</td></tr><tr><td>Kia Soul</td><td>2022</td><td>33047</td><td>White exterior, Black interior</td><td>No accidents reported, 1 Owner</td><td>16988</td></tr><tr><td>Audi Q7</td><td>2023</td><td>2738</td><td>Black exterior, Black interior</td><td>No accidents reported, 1 Owner</td><td>53155</td></tr><tr><td>Ford Explorer</td><td>2022</td><td>28520</td><td>White exterior, Black interior</td><td>No accidents reported, 1 Owner</td><td>26800</td></tr><tr><td>Lexus UX</td><td>2022</td><td>12642</td><td>Red exterior, Black interior</td><td>No accidents reported, 1 Owner</td><td>29333</td></tr><tr><td>Audi A3</td><td>2023</td><td>615</td><td>Black exterior, Black interior</td><td>No accidents reported, 1 Owner</td><td>34995</td></tr><tr><td>Mercedes-Benz GLB</td><td>2023</td><td>5723</td><td>Black exterior, Black interior</td><td>No accidents reported, 1 Owner</td><td>41151</td></tr><tr><td>BMW 5 Series</td><td>2023</td><td>6776</td><td>Black exterior, Black interior</td><td>No accidents reported, 1 Owner</td><td>69999</td></tr><tr><td>Audi Q5</td><td>2022</td><td>10969</td><td>Silver exterior, Gray interior</td><td>No accidents reported, 1 Owner</td><td>36993</td></tr><tr><td>Nissan Frontier</td><td>2022</td><td>12232</td><td>White exterior, Black interior</td><td>No accidents reported, 1 Owner</td><td>26988</td></tr><tr><td>Jeep Wrangler</td><td>2022</td><td>16700</td><td>Black exterior, Black interior</td><td>No accidents reported, 2 Owners</td><td>38444</td></tr><tr><td>Audi A5</td><td>2023</td><td>6091</td><td>Black exterior, Black interior</td><td>No accidents reported, 1 Owner</td><td>36462</td></tr><tr><td>Subaru Outback</td><td>2023</td><td>8474</td><td>White exterior, Gray interior</td><td>No accidents reported, 1 Owner</td><td>34600</td></tr><tr><td>BMW X5</td><td>2022</td><td>17842</td><td>Black exterior, Black interior</td><td>No accidents reported, 1 Owner</td><td>43988</td></tr><tr><td>Jeep Wrangler</td><td>2022</td><td>17313</td><td>Black exterior, Black interior</td><td>No accidents reported, 1 Owner</td><td>39566</td></tr><tr><td>Kia K5</td><td>2022</td><td>49207</td><td>Red exterior, Black interior</td><td>No accidents reported, 1 Owner</td><td>18998</td></tr><tr><td>Audi A3</td><td>2023</td><td>2235</td><td>Black exterior, Black interior</td><td>No accidents reported, 1 Owner</td><td>33995</td></tr><tr><td>Toyota Corolla Cross</td><td>2022</td><td>7033</td><td>White exterior, Black interior</td><td>No accidents reported, 1 Owner</td><td>28333</td></tr><tr><td>Honda Accord</td><td>2022</td><td>31454</td><td>White exterior, Black interior</td><td>No accidents reported, 1 Owner</td><td>24987</td></tr><tr><td>Ford F-150</td><td>2023</td><td>198</td><td>Gray exterior, Black interior</td><td>No accidents reported, 1 Owner</td><td>59988</td></tr><tr><td>Ford F-150</td><td>2022</td><td>7383</td><td>Gray exterior, Black interior</td><td>No accidents reported, 1 Owner</td><td>41563</td></tr><tr><td>Chevrolet Malibu</td><td>2022</td><td>43257</td><td>Silver exterior, Black interior</td><td>No accidents reported, 1 Owner</td><td>17400</td></tr><tr><td>Audi A3</td><td>2023</td><td>2110</td><td>White exterior, Beige interior</td><td>No accidents reported, 1 Owner</td><td>32995</td></tr><tr><td>Honda Civic</td><td>2022</td><td>28188</td><td>White exterior, Black interior</td><td>No accidents reported, 1 Owner</td><td>26998</td></tr><tr><td>BMW 5 Series</td><td>2023</td><td>9109</td><td>Gray exterior, Black interior</td><td>No accidents reported, 1 Owner</td><td>45498</td></tr><tr><td>Chevrolet Spark</td><td>2022</td><td>36292</td><td>Gray exterior, Black interior</td><td>No accidents reported, 1 Owner</td><td>13650</td></tr><tr><td>Jeep Gladiator</td><td>2022</td><td>32956</td><td>Gray exterior, Black interior</td><td>No accidents reported, 1 Owner</td><td>35998</td></tr><tr><td>Mercedes-Benz C-Class</td><td>2023</td><td>9779</td><td>Gray exterior, Black interior</td><td>No accidents reported, 1 Owner</td><td>40777</td></tr><tr><td>Chevrolet Tahoe</td><td>2023</td><td>3924</td><td>Blue exterior, Black interior</td><td>No accidents reported, 1 Owner</td><td>64150</td></tr><tr><td>Toyota Tacoma</td><td>2022</td><td>18137</td><td>White exterior, Gray interior</td><td>No accidents reported, 1 Owner</td><td>33520</td></tr><tr><td>Audi A5</td><td>2023</td><td>2077</td><td>Black exterior, Black interior</td><td>No accidents reported, 1 Owner</td><td>37998</td></tr><tr><td>Chevrolet Malibu</td><td>2022</td><td>36428</td><td>White exterior, Gray interior</td><td>No accidents reported, 1 Owner</td><td>18998</td></tr><tr><td>Mercedes-Benz C-Class</td><td>2023</td><td>7663</td><td>Gray exterior, Black interior</td><td>No accidents reported, 1 Owner</td><td>39777</td></tr><tr><td>Subaru Outback</td><td>2023</td><td>5688</td><td>Silver exterior, Gray interior</td><td>No accidents reported, 1 Owner</td><td>34600</td></tr><tr><td>Buick Enclave</td><td>2023</td><td>10581</td><td>White exterior, Black interior</td><td>No accidents reported, 1 Owner</td><td>47000</td></tr><tr><td>Toyota Prius</td><td>2022</td><td>28082</td><td>Black exterior, Black interior</td><td>1 accident reported, 1 Owner</td><td>22500</td></tr><tr><td>Chevrolet Corvette</td><td>2023</td><td>2088</td><td>Silver exterior, Black interior</td><td>No accidents reported, 1 Owner</td><td>93000</td></tr><tr><td>Toyota Corolla</td><td>2022</td><td>17868</td><td>Black exterior, Black interior</td><td>No accidents reported, 1 Owner</td><td>20299</td></tr><tr><td>Mercedes-Benz GLA</td><td>2022</td><td>6097</td><td>White exterior, Beige interior</td><td>No accidents reported, 1 Owner</td><td>32666</td></tr><tr><td>Toyota Corolla</td><td>2022</td><td>33868</td><td>White exterior, Black interior</td><td>No accidents reported, 1 Owner</td><td>17593</td></tr><tr><td>Ford Escape</td><td>2022</td><td>36066</td><td>Gray exterior, Gray interior</td><td>No accidents reported, 1 Owner</td><td>20799</td></tr><tr><td>Audi Q5</td><td>2022</td><td>11651</td><td>Gray exterior, Gray interior</td><td>No accidents reported, 2 Owners</td><td>33497</td></tr><tr><td>Chevrolet Camaro</td><td>2022</td><td>9952</td><td>Unknown exterior, Unknown interior</td><td>No accidents reported, 1 Owner</td><td>30195</td></tr><tr><td>Mercedes-Benz GLC</td><td>2023</td><td>4202</td><td>Blue exterior, Black interior</td><td>No accidents reported, 1 Owner</td><td>50838</td></tr><tr><td>Mercedes-Benz S-Class</td><td>2023</td><td>4813</td><td>Black exterior, Black interior</td><td>No accidents reported, 1 Owner</td><td>104784</td></tr><tr><td>Lexus UX</td><td>2022</td><td>12642</td><td>Red exterior, Black interior</td><td>No accidents reported, 1 Owner</td><td>29333</td></tr><tr><td>Audi A3</td><td>2023</td><td>615</td><td>Black exterior, Black interior</td><td>No accidents reported, 1 Owner</td><td>34995</td></tr><tr><td>Nissan Versa</td><td>2022</td><td>54626</td><td>Black exterior, Black interior</td><td>No accidents reported, 1 Owner</td><td>13950</td></tr><tr><td>Subaru Outback</td><td>2022</td><td>25164</td><td>Gray exterior, Gray interior</td><td>No accidents reported, 1 Owner</td><td>29474</td></tr><tr><td>Subaru Ascent</td><td>2022</td><td>12435</td><td>Silver exterior, Gray interior</td><td>No accidents reported, 1 Owner</td><td>34449</td></tr><tr><td>Audi A3</td><td>2023</td><td>1193</td><td>Black exterior, Black interior</td><td>No accidents reported, 1 Owner</td><td>32995</td></tr><tr><td>Kia K5</td><td>2022</td><td>41939</td><td>White exterior, Black interior</td><td>No accidents reported, 1 Owner</td><td>22500</td></tr><tr><td>Hyundai Santa Fe</td><td>2023</td><td>32148</td><td>White exterior, Black interior</td><td>No accidents reported, 1 Owner</td><td>21800</td></tr><tr><td>BMW X3</td><td>2022</td><td>6316</td><td>Black exterior, Brown interior</td><td>No accidents reported, 1 Owner</td><td>36499</td></tr><tr><td>Mercedes-Benz GLB</td><td>2023</td><td>7439</td><td>White exterior, Beige interior</td><td>No accidents reported, 2 Owners</td><td>39880</td></tr><tr><td>Cadillac Escalade</td><td>2023</td><td>13889</td><td>Gray exterior, Black interior</td><td>No accidents reported, 1 Owner</td><td>89991</td></tr><tr><td>Mercedes-Benz C-Class</td><td>2023</td><td>7499</td><td>Black exterior, Black interior</td><td>No accidents reported, 1 Owner</td><td>39777</td></tr><tr><td>Chevrolet Malibu</td><td>2022</td><td>16331</td><td>Gray exterior, Black interior</td><td>No accidents reported, 1 Owner</td><td>19991</td></tr><tr><td>Subaru Legacy</td><td>2023</td><td>5293</td><td>White exterior, Gray interior</td><td>No accidents reported, 1 Owner</td><td>23999</td></tr><tr><td>Toyota Tundra</td><td>2023</td><td>6478</td><td>Blue exterior, Black interior</td><td>No accidents reported, 1 Owner</td><td>61333</td></tr><tr><td>Kia Forte</td><td>2023</td><td>12459</td><td>Gray exterior, Black interior</td><td>No accidents reported, 1 Owner</td><td>19991</td></tr><tr><td>Subaru Outback</td><td>2023</td><td>5011</td><td>White exterior, Gray interior</td><td>No accidents reported, 1 Owner</td><td>35300</td></tr><tr><td>Mercedes-Benz C-Class</td><td>2023</td><td>9779</td><td>Gray exterior, Black interior</td><td>No accidents reported, 1 Owner</td><td>40777</td></tr><tr><td>Chevrolet Tahoe</td><td>2023</td><td>3924</td><td>Blue exterior, Black interior</td><td>No accidents reported, 1 Owner</td><td>64150</td></tr><tr><td>Toyota Tacoma</td><td>2022</td><td>18137</td><td>White exterior, Gray interior</td><td>No accidents reported, 1 Owner</td><td>33520</td></tr><tr><td>Toyota Corolla</td><td>2022</td><td>18666</td><td>Black exterior, Black interior</td><td>No accidents reported, 1 Owner</td><td>20943</td></tr><tr><td>Chevrolet Silverado 1500</td><td>2022</td><td>17657</td><td>White exterior, Black interior</td><td>No accidents reported, 1 Owner</td><td>25998</td></tr><tr><td>Toyota RAV4</td><td>2022</td><td>30244</td><td>White exterior, Black interior</td><td>No accidents reported, 1 Owner</td><td>24499</td></tr><tr><td>Kia K5</td><td>2022</td><td>40330</td><td>Silver exterior, Black interior</td><td>No accidents reported, 1 Owner</td><td>18000</td></tr><tr><td>Honda HR-V</td><td>2022</td><td>11770</td><td>Silver exterior, Gray interior</td><td>No accidents reported, 1 Owner</td><td>22222</td></tr><tr><td>MINI Clubman</td><td>2023</td><td>2081</td><td>White exterior, Black interior</td><td>No accidents reported, 1 Owner</td><td>31995</td></tr><tr><td>Audi A3</td><td>2023</td><td>3573</td><td>Black exterior, Black interior</td><td>No accidents reported, 1 Owner</td><td>32995</td></tr><tr><td>BMW X7</td><td>2022</td><td>27091</td><td>Black exterior, Black interior</td><td>No accidents reported, 1 Owner</td><td>58533</td></tr><tr><td>Toyota Corolla Hatchback</td><td>2022</td><td>12909</td><td>Black exterior, Black interior</td><td>No accidents reported, 1 Owner</td><td>22879</td></tr><tr><td>Audi Q8</td><td>2023</td><td>4320</td><td>Black exterior, Black interior</td><td>No accidents reported, 1 Owner</td><td>68796</td></tr><tr><td>Chevrolet Malibu</td><td>2022</td><td>32265</td><td>Silver exterior, Black interior</td><td>No accidents reported, 1 Owner</td><td>19998</td></tr><tr><td>Audi A3</td><td>2023</td><td>1008</td><td>Black exterior, Black interior</td><td>No accidents reported, 1 Owner</td><td>32995</td></tr><tr><td>Audi Q7</td><td>2023</td><td>10322</td><td>White exterior, Black interior</td><td>No accidents reported, 1 Owner</td><td>58957</td></tr><tr><td>Nissan Versa</td><td>2022</td><td>54626</td><td>Black exterior, Black interior</td><td>No accidents reported, 1 Owner</td><td>13950</td></tr><tr><td>Subaru Outback</td><td>2022</td><td>25164</td><td>Gray exterior, Gray interior</td><td>No accidents reported, 1 Owner</td><td>29474</td></tr><tr><td>Subaru Ascent</td><td>2022</td><td>12435</td><td>Silver exterior, Gray interior</td><td>No accidents reported, 1 Owner</td><td>34449</td></tr><tr><td>Audi A3</td><td>2023</td><td>1193</td><td>Black exterior, Black interior</td><td>No accidents reported, 1 Owner</td><td>32995</td></tr><tr><td>Kia K5</td><td>2022</td><td>41939</td><td>White exterior, Black interior</td><td>No accidents reported, 1 Owner</td><td>22500</td></tr><tr><td>Ford Edge</td><td>2022</td><td>43221</td><td>Black exterior, Black interior</td><td>No accidents reported, 1 Owner</td><td>26995</td></tr><tr><td>Mercedes-Benz C-Class</td><td>2023</td><td>4741</td><td>White exterior, Beige interior</td><td>No accidents reported, 1 Owner</td><td>44764</td></tr><tr><td>Subaru BRZ</td><td>2022</td><td>21000</td><td>Red exterior, Black interior</td><td>No accidents reported, 2 Owners</td><td>28998</td></tr><tr><td>Subaru Crosstrek</td><td>2022</td><td>39427</td><td>White exterior, Gray interior</td><td>No accidents reported, 1 Owner</td><td>23300</td></tr><tr><td>Lexus GX</td><td>2022</td><td>18377</td><td>Blue exterior, Gray interior</td><td>No accidents reported, 1 Owner</td><td>47996</td></tr><tr><td>Honda CR-V</td><td>2023</td><td>1007</td><td>Unknown exterior, Black interior</td><td>No accidents reported, 1 Owner</td><td>33498</td></tr><tr><td>Mercedes-Benz C-Class</td><td>2023</td><td>6315</td><td>White exterior, Black interior</td><td>No accidents reported, 1 Owner</td><td>44868</td></tr><tr><td>Honda Civic</td><td>2023</td><td>9562</td><td>Red exterior, Black interior</td><td>No accidents reported, 1 Owner</td><td>25639</td></tr><tr><td>Toyota Tacoma</td><td>2022</td><td>8097</td><td>Silver exterior, Black interior</td><td>No accidents reported, 1 Owner</td><td>39991</td></tr><tr><td>Subaru Outback</td><td>2023</td><td>7345</td><td>White exterior, Gray interior</td><td>No accidents reported, 1 Owner</td><td>34900</td></tr><tr><td>Alfa Romeo Stelvio</td><td>2022</td><td>25</td><td>Black exterior, Black interior</td><td>No accidents reported, 1 Owner</td><td>34751</td></tr><tr><td>Subaru Ascent</td><td>2022</td><td>25721</td><td>Gray exterior, Gray interior</td><td>No accidents reported, 1 Owner</td><td>34984</td></tr><tr><td>Toyota Camry</td><td>2023</td><td>19660</td><td>Gray exterior, Black interior</td><td>No accidents reported, 1 Owner</td><td>23935</td></tr><tr><td>Subaru Outback</td><td>2023</td><td>5618</td><td>White exterior, Gray interior</td><td>No accidents reported, 1 Owner</td><td>37500</td></tr><tr><td>Audi Q7</td><td>2023</td><td>8581</td><td>Black exterior, Black interior</td><td>No accidents reported, 1 Owner</td><td>51623</td></tr><tr><td>Mercedes-Benz CLA</td><td>2023</td><td>7023</td><td>White exterior, Black interior</td><td>No accidents reported, 1 Owner</td><td>37777</td></tr><tr><td>Kia Forte</td><td>2022</td><td>31031</td><td>White exterior, Black interior</td><td>No accidents reported, 1 Owner</td><td>18500</td></tr><tr><td>Subaru Forester</td><td>2022</td><td>4681</td><td>Red exterior, Gray interior</td><td>No accidents reported, 1 Owner</td><td>28948</td></tr><tr><td>Toyota Corolla</td><td>2022</td><td>18666</td><td>Black exterior, Black interior</td><td>No accidents reported, 1 Owner</td><td>20943</td></tr><tr><td>Toyota Tacoma</td><td>2023</td><td>21953</td><td>Silver exterior, Black interior</td><td>No accidents reported, 1 Owner</td><td>36998</td></tr><tr><td>Chevrolet Silverado 1500</td><td>2022</td><td>17657</td><td>White exterior, Black interior</td><td>No accidents reported, 1 Owner</td><td>25998</td></tr><tr><td>Toyota RAV4</td><td>2022</td><td>30244</td><td>White exterior, Black interior</td><td>No accidents reported, 1 Owner</td><td>24499</td></tr><tr><td>Chevrolet Trailblazer</td><td>2022</td><td>47162</td><td>White exterior, Black interior</td><td>No accidents reported, 2 Owners</td><td>23998</td></tr><tr><td>Audi A6</td><td>2023</td><td>5801</td><td>Gray exterior, Black interior</td><td>No accidents reported, 1 Owner</td><td>47998</td></tr><tr><td>Honda Accord</td><td>2022</td><td>29649</td><td>Silver exterior, Black interior</td><td>No accidents reported, 1 Owner</td><td>24799</td></tr><tr><td>Genesis G80</td><td>2022</td><td>19964</td><td>Silver exterior, Black interior</td><td>No accidents reported, 1 Owner</td><td>37449</td></tr><tr><td>Lexus RX</td><td>2023</td><td>25442</td><td>Black exterior, Beige interior</td><td>No accidents reported, 1 Owner</td><td>47991</td></tr><tr><td>Mercedes-Benz C-Class</td><td>2023</td><td>5761</td><td>Blue exterior, Black interior</td><td>No accidents reported, 1 Owner</td><td>54991</td></tr><tr><td>Toyota Corolla</td><td>2022</td><td>4514</td><td>Gray exterior, Gray interior</td><td>No accidents reported, 1 Owner</td><td>20683</td></tr><tr><td>Subaru Outback</td><td>2023</td><td>4980</td><td>White exterior, Beige interior</td><td>No accidents reported, 1 Owner</td><td>35900</td></tr><tr><td>Toyota Tacoma</td><td>2022</td><td>36648</td><td>Black exterior, Black interior</td><td>No accidents reported, 2 Owners</td><td>38900</td></tr><tr><td>Mercedes-Benz GLB</td><td>2023</td><td>5791</td><td>Black exterior, Black interior</td><td>No accidents reported, 1 Owner</td><td>42400</td></tr><tr><td>Audi Q7</td><td>2023</td><td>6411</td><td>White exterior, Black interior</td><td>No accidents reported, 1 Owner</td><td>54980</td></tr><tr><td>Audi Q5</td><td>2023</td><td>1581</td><td>Black exterior, Black interior</td><td>No accidents reported, 1 Owner</td><td>37989</td></tr><tr><td>INFINITI QX55</td><td>2023</td><td>6869</td><td>Gray exterior, Gray interior</td><td>No accidents reported, 1 Owner</td><td>37988</td></tr><tr><td>Mazda CX-5</td><td>2022</td><td>6242</td><td>Red exterior, Black interior</td><td>1 accident reported, 1 Owner</td><td>28891</td></tr><tr><td>Mazda CX-5</td><td>2023</td><td>8470</td><td>Blue exterior, Beige interior</td><td>No accidents reported, 1 Owner</td><td>32998</td></tr><tr><td>Alfa Romeo Stelvio</td><td>2022</td><td>68</td><td>White exterior, Black interior</td><td>No accidents reported, 1 Owner</td><td>30460</td></tr><tr><td>Honda Civic</td><td>2022</td><td>51155</td><td>Gray exterior, Black interior</td><td>No accidents reported, 1 Owner</td><td>22500</td></tr><tr><td>Subaru Forester</td><td>2023</td><td>6290</td><td>Silver exterior, Black interior</td><td>No accidents reported, 1 Owner</td><td>33500</td></tr><tr><td>Alfa Romeo Giulia</td><td>2022</td><td>46</td><td>White exterior, Black interior</td><td>No accidents reported, 1 Owner</td><td>30542</td></tr><tr><td>Chevrolet Silverado 1500 LTD</td><td>2022</td><td>41168</td><td>White exterior, Black interior</td><td>No accidents reported, 1 Owner</td><td>22488</td></tr><tr><td>Mercedes-Benz CLA</td><td>2023</td><td>4086</td><td>Black exterior, Black interior</td><td>1 accident reported, 1 Owner</td><td>39777</td></tr><tr><td>Alfa Romeo Giulia</td><td>2022</td><td>51</td><td>Red exterior, Black interior</td><td>No accidents reported, 1 Owner</td><td>30541</td></tr><tr><td>GMC Sierra 1500</td><td>2022</td><td>9641</td><td>Black exterior, White interior</td><td>No accidents reported, 2 Owners</td><td>70988</td></tr><tr><td>Audi A3</td><td>2023</td><td>1529</td><td>Blue exterior, Black interior</td><td>No accidents reported, 1 Owner</td><td>32995</td></tr><tr><td>Chevrolet Malibu</td><td>2022</td><td>35410</td><td>Gray exterior, Gray interior</td><td>No accidents reported, 1 Owner</td><td>19998</td></tr><tr><td>Cadillac Escalade</td><td>2022</td><td>16010</td><td>White exterior, Black interior</td><td>No accidents reported, 1 Owner</td><td>99995</td></tr><tr><td>Lexus ES</td><td>2022</td><td>14130</td><td>White exterior, Black interior</td><td>No accidents reported, 1 Owner</td><td>35821</td></tr><tr><td>Audi A5</td><td>2023</td><td>1751</td><td>White exterior, Black interior</td><td>No accidents reported, 1 Owner</td><td>46286</td></tr><tr><td>Chevrolet Malibu</td><td>2022</td><td>30824</td><td>Gray exterior, Black interior</td><td>No accidents reported, 1 Owner</td><td>19999</td></tr><tr><td>Subaru Outback</td><td>2023</td><td>7345</td><td>White exterior, Gray interior</td><td>No accidents reported, 1 Owner</td><td>34900</td></tr><tr><td>Alfa Romeo Stelvio</td><td>2022</td><td>25</td><td>Black exterior, Black interior</td><td>No accidents reported, 1 Owner</td><td>34751</td></tr><tr><td>Subaru Ascent</td><td>2022</td><td>25721</td><td>Gray exterior, Gray interior</td><td>No accidents reported, 1 Owner</td><td>34984</td></tr><tr><td>Toyota Camry</td><td>2023</td><td>19660</td><td>Gray exterior, Black interior</td><td>No accidents reported, 1 Owner</td><td>23935</td></tr><tr><td>Subaru Outback</td><td>2023</td><td>5618</td><td>White exterior, Gray interior</td><td>No accidents reported, 1 Owner</td><td>37500</td></tr><tr><td>Audi Q7</td><td>2023</td><td>8581</td><td>Black exterior, Black interior</td><td>No accidents reported, 1 Owner</td><td>51623</td></tr><tr><td>Chevrolet Malibu</td><td>2022</td><td>36231</td><td>Silver exterior, Black interior</td><td>No accidents reported, 1 Owner</td><td>19998</td></tr><tr><td>Mercedes-Benz CLA</td><td>2023</td><td>7023</td><td>White exterior, Black interior</td><td>No accidents reported, 1 Owner</td><td>37777</td></tr><tr><td>Kia Forte</td><td>2022</td><td>31031</td><td>White exterior, Black interior</td><td>No accidents reported, 1 Owner</td><td>18500</td></tr><tr><td>Subaru Forester</td><td>2022</td><td>4681</td><td>Red exterior, Gray interior</td><td>No accidents reported, 1 Owner</td><td>28948</td></tr><tr><td>Nissan Altima</td><td>2022</td><td>30074</td><td>Gray exterior, Black interior</td><td>No accidents reported, 1 Owner</td><td>17799</td></tr><tr><td>Mercedes-Benz GLB</td><td>2023</td><td>8591</td><td>Gray exterior, Black interior</td><td>No accidents reported, 1 Owner</td><td>37777</td></tr><tr><td>Toyota Camry</td><td>2022</td><td>35848</td><td>Red exterior, Gray interior</td><td>No accidents reported, 1 Owner</td><td>23993</td></tr><tr><td>BMW X3</td><td>2022</td><td>40474</td><td>White exterior, Unknown interior</td><td>No accidents reported, 1 Owner</td><td>30998</td></tr><tr><td>Audi A3</td><td>2023</td><td>1350</td><td>Black exterior, Black interior</td><td>No accidents reported, 1 Owner</td><td>33995</td></tr><tr><td>Audi A3</td><td>2023</td><td>2717</td><td>Black exterior, Black interior</td><td>No accidents reported, 1 Owner</td><td>33500</td></tr><tr><td>Mercedes-Benz GLB</td><td>2023</td><td>7111</td><td>Blue exterior, Beige interior</td><td>No accidents reported, 1 Owner</td><td>41061</td></tr><tr><td>Alfa Romeo Stelvio</td><td>2022</td><td>88</td><td>Gray exterior, Black interior</td><td>No accidents reported, 1 Owner</td><td>30459</td></tr><tr><td>Audi A5</td><td>2023</td><td>3037</td><td>Black exterior, Black interior</td><td>No accidents reported, 1 Owner</td><td>39232</td></tr><tr><td>Honda Pilot</td><td>2023</td><td>5562</td><td>Black exterior, Black interior</td><td>No accidents reported, 1 Owner</td><td>50222</td></tr><tr><td>Audi A4</td><td>2023</td><td>564</td><td>Black exterior, Black interior</td><td>No accidents reported, 1 Owner</td><td>35500</td></tr><tr><td>Nissan Sentra</td><td>2023</td><td>766</td><td>Black exterior, Black interior</td><td>No accidents reported, 1 Owner</td><td>20897</td></tr><tr><td>Mercedes-Benz GLB</td><td>2023</td><td>7842</td><td>Black exterior, Gray interior</td><td>No accidents reported, 1 Owner</td><td>39999</td></tr><tr><td>Kia K5</td><td>2022</td><td>35452</td><td>White exterior, Black interior</td><td>No accidents reported, 1 Owner</td><td>23000</td></tr><tr><td>Dodge Charger</td><td>2022</td><td>20507</td><td>Black exterior, Black interior</td><td>No accidents reported, 1 Owner</td><td>24988</td></tr><tr><td>Alfa Romeo Giulia</td><td>2022</td><td>55</td><td>Black exterior, Black interior</td><td>No accidents reported, 1 Owner</td><td>30541</td></tr><tr><td>Audi Q7</td><td>2023</td><td>2403</td><td>Black exterior, Black interior</td><td>No accidents reported, 1 Owner</td><td>54664</td></tr><tr><td>Mazda CX-5</td><td>2022</td><td>6242</td><td>Red exterior, Black interior</td><td>1 accident reported, 1 Owner</td><td>28891</td></tr><tr><td>Alfa Romeo Stelvio</td><td>2022</td><td>68</td><td>White exterior, Black interior</td><td>No accidents reported, 1 Owner</td><td>30460</td></tr><tr><td>Honda Civic</td><td>2022</td><td>51155</td><td>Gray exterior, Black interior</td><td>No accidents reported, 1 Owner</td><td>22500</td></tr><tr><td>Subaru Forester</td><td>2023</td><td>6290</td><td>Silver exterior, Black interior</td><td>No accidents reported, 1 Owner</td><td>33500</td></tr><tr><td>Alfa Romeo Giulia</td><td>2022</td><td>46</td><td>White exterior, Black interior</td><td>No accidents reported, 1 Owner</td><td>30542</td></tr><tr><td>Mazda CX-30</td><td>2022</td><td>29308</td><td>Gray exterior, Black interior</td><td>No accidents reported, 1 Owner</td><td>24750</td></tr><tr><td>Alfa Romeo Stelvio</td><td>2022</td><td>85</td><td>Black exterior, Black interior</td><td>No accidents reported, 1 Owner</td><td>35488</td></tr><tr><td>Mercedes-Benz GLE</td><td>2022</td><td>26766</td><td>Black exterior, Black interior</td><td>No accidents reported, 1 Owner</td><td>50723</td></tr><tr><td>Mercedes-Benz C-Class</td><td>2023</td><td>4508</td><td>White exterior, White interior</td><td>No accidents reported, 1 Owner</td><td>57363</td></tr><tr><td>Jeep Wrangler</td><td>2022</td><td>23799</td><td>White exterior, Brown interior</td><td>No accidents reported, 1 Owner</td><td>42998</td></tr><tr><td>Jeep Wrangler</td><td>2022</td><td>18815</td><td>White exterior, Black interior</td><td>No accidents reported, 1 Owner</td><td>45271</td></tr><tr><td>Hyundai Tucson</td><td>2022</td><td>18493</td><td>Black exterior, Black interior</td><td>No accidents reported, 1 Owner</td><td>22500</td></tr><tr><td>Kia Forte</td><td>2022</td><td>29105</td><td>Gray exterior, Black interior</td><td>1 accident reported, 1 Owner</td><td>16999</td></tr><tr><td>Nissan Sentra</td><td>2022</td><td>8554</td><td>White exterior, Black interior</td><td>No accidents reported, 1 Owner</td><td>21988</td></tr><tr><td>Audi A3</td><td>2023</td><td>2266</td><td>Black exterior, Black interior</td><td>No accidents reported, 1 Owner</td><td>32995</td></tr><tr><td>Kia K5</td><td>2022</td><td>18696</td><td>White exterior, Black interior</td><td>No accidents reported, 1 Owner</td><td>26991</td></tr><tr><td>Audi A3</td><td>2023</td><td>2521</td><td>Black exterior, Black interior</td><td>No accidents reported, 1 Owner</td><td>32995</td></tr><tr><td>Audi A5</td><td>2023</td><td>1751</td><td>White exterior, Black interior</td><td>No accidents reported, 1 Owner</td><td>46286</td></tr><tr><td>Chevrolet Malibu</td><td>2022</td><td>30824</td><td>Gray exterior, Black interior</td><td>No accidents reported, 1 Owner</td><td>19999</td></tr><tr><td>Ford F-150</td><td>2023</td><td>2816</td><td>Gray exterior, Black interior</td><td>No accidents reported, 2 Owners</td><td>80000</td></tr><tr><td>Volkswagen Tiguan</td><td>2022</td><td>7139</td><td>White exterior, Black interior</td><td>No accidents reported, 1 Owner</td><td>26399</td></tr><tr><td>Honda Civic</td><td>2022</td><td>8100</td><td>White exterior, Black interior</td><td>No accidents reported, 1 Owner</td><td>24991</td></tr><tr><td>Subaru Forester</td><td>2023</td><td>4148</td><td>Green exterior, Gray interior</td><td>No accidents reported, 1 Owner</td><td>27000</td></tr><tr><td>BMW X3</td><td>2022</td><td>7590</td><td>Gray exterior, Brown interior</td><td>No accidents reported, 1 Owner</td><td>36999</td></tr><tr><td>Mercedes-Benz E-Class</td><td>2022</td><td>12705</td><td>White exterior, Gray interior</td><td>No accidents reported, 1 Owner</td><td>46713</td></tr><tr><td>Honda Accord</td><td>2022</td><td>18068</td><td>Silver exterior, Unknown interior</td><td>No accidents reported, 1 Owner</td><td>22988</td></tr><tr><td>Toyota Corolla</td><td>2023</td><td>20235</td><td>Black exterior, Black interior</td><td>No accidents reported, 1 Owner</td><td>19999</td></tr><tr><td>Honda Civic</td><td>2022</td><td>29703</td><td>Silver exterior, Black interior</td><td>1 accident reported, 1 Owner</td><td>22999</td></tr><tr><td>Mercedes-Benz GLB</td><td>2022</td><td>27692</td><td>Black exterior, Black interior</td><td>No accidents reported, 1 Owner</td><td>34020</td></tr><tr><td>Honda CR-V</td><td>2023</td><td>1844</td><td>White exterior, Black interior</td><td>No accidents reported, 1 Owner</td><td>33688</td></tr><tr><td>BMW X3</td><td>2022</td><td>11987</td><td>White exterior, Black interior</td><td>1 accident reported, 1 Owner</td><td>36999</td></tr><tr><td>BMW X5</td><td>2022</td><td>14078</td><td>Gray exterior, Brown interior</td><td>No accidents reported, 1 Owner</td><td>44997</td></tr><tr><td>Subaru Forester</td><td>2023</td><td>1935</td><td>Brown exterior, Black interior</td><td>No accidents reported, 1 Owner</td><td>32918</td></tr><tr><td>Subaru Outback</td><td>2022</td><td>6967</td><td>Gray exterior, Gray interior</td><td>No accidents reported, 1 Owner</td><td>30000</td></tr><tr><td>Land Rover Defender</td><td>2022</td><td>46567</td><td>White exterior, Black interior</td><td>No accidents reported, 1 Owner</td><td>62887</td></tr><tr><td>Nissan Sentra</td><td>2022</td><td>7296</td><td>Gray exterior, Black interior</td><td>No accidents reported, 1 Owner</td><td>18999</td></tr><tr><td>Toyota GR Supra</td><td>2023</td><td>6023</td><td>Yellow exterior, Black interior</td><td>No accidents reported, 1 Owner</td><td>57444</td></tr><tr><td>Toyota Tacoma</td><td>2023</td><td>8074</td><td>White exterior, Gray interior</td><td>No accidents reported, 1 Owner</td><td>42991</td></tr><tr><td>Alfa Romeo Stelvio</td><td>2022</td><td>65</td><td>Black exterior, Black interior</td><td>No accidents reported, 1 Owner</td><td>35663</td></tr><tr><td>Hyundai Elantra</td><td>2022</td><td>18554</td><td>Black exterior, Black interior</td><td>No accidents reported, 2 Owners</td><td>22998</td></tr><tr><td>Mercedes-Benz GLB</td><td>2023</td><td>7842</td><td>Black exterior, Gray interior</td><td>No accidents reported, 1 Owner</td><td>39999</td></tr><tr><td>Kia K5</td><td>2022</td><td>35452</td><td>White exterior, Black interior</td><td>No accidents reported, 1 Owner</td><td>23000</td></tr><tr><td>Acura Integra</td><td>2023</td><td>3477</td><td>Blue exterior, Gray interior</td><td>No accidents reported, 1 Owner</td><td>34998</td></tr><tr><td>Dodge Charger</td><td>2022</td><td>20507</td><td>Black exterior, Black interior</td><td>No accidents reported, 1 Owner</td><td>24988</td></tr><tr><td>Alfa Romeo Giulia</td><td>2022</td><td>55</td><td>Black exterior, Black interior</td><td>No accidents reported, 1 Owner</td><td>30541</td></tr><tr><td>Audi A3</td><td>2023</td><td>2195</td><td>Black exterior, Black interior</td><td>No accidents reported, 1 Owner</td><td>32995</td></tr><tr><td>Mercedes-Benz E-Class</td><td>2022</td><td>11988</td><td>Red exterior, Beige interior</td><td>No accidents reported, 1 Owner</td><td>43563</td></tr><tr><td>Nissan Sentra</td><td>2023</td><td>10269</td><td>Silver exterior, Black interior</td><td>No accidents reported, 1 Owner</td><td>19859</td></tr><tr><td>Toyota Prius</td><td>2022</td><td>45722</td><td>Black exterior, Black interior</td><td>No accidents reported, 1 Owner</td><td>22690</td></tr><tr><td>Lexus NX</td><td>2023</td><td>2880</td><td>White exterior, Black interior</td><td>No accidents reported, 1 Owner</td><td>46998</td></tr><tr><td>Hyundai Tucson</td><td>2022</td><td>32353</td><td>Black exterior, Black interior</td><td>1 accident reported, 1 Owner</td><td>22998</td></tr><tr><td>Subaru Outback</td><td>2023</td><td>6283</td><td>White exterior, Beige interior</td><td>No accidents reported, 1 Owner</td><td>35900</td></tr><tr><td>Volvo S90</td><td>2022</td><td>2304</td><td>Black exterior, Black interior</td><td>No accidents reported, 1 Owner</td><td>42191</td></tr><tr><td>BMW X5</td><td>2022</td><td>33541</td><td>Gray exterior, Beige interior</td><td>No accidents reported, 1 Owner</td><td>43379</td></tr><tr><td>Honda Accord</td><td>2022</td><td>20280</td><td>White exterior, Unknown interior</td><td>No accidents reported, 1 Owner</td><td>26994</td></tr><tr><td>Honda Accord</td><td>2022</td><td>20280</td><td>White exterior, Unknown interior</td><td>No accidents reported, 1 Owner</td><td>26994</td></tr><tr><td>Chevrolet Trailblazer</td><td>2023</td><td>7911</td><td>Black exterior, Black interior</td><td>No accidents reported, 1 Owner</td><td>20989</td></tr><tr><td>BMW 5 Series</td><td>2023</td><td>6321</td><td>White exterior, Black interior</td><td>No accidents reported, 1 Owner</td><td>51187</td></tr><tr><td>BMW 5 Series</td><td>2023</td><td>5533</td><td>White exterior, Brown interior</td><td>No accidents reported, 1 Owner</td><td>52292</td></tr><tr><td>Audi Q5</td><td>2022</td><td>8997</td><td>Silver exterior, Black interior</td><td>No accidents reported, 1 Owner</td><td>33956</td></tr><tr><td>Toyota RAV4</td><td>2022</td><td>8972</td><td>Gray exterior, Black interior</td><td>No accidents reported, 1 Owner</td><td>32000</td></tr><tr><td>Audi A3</td><td>2023</td><td>1760</td><td>Blue exterior, Black interior</td><td>No accidents reported, 1 Owner</td><td>32995</td></tr><tr><td>Toyota Avalon</td><td>2022</td><td>35234</td><td>Silver exterior, Black interior</td><td>No accidents reported, 1 Owner</td><td>23899</td></tr><tr><td>Chevrolet Malibu</td><td>2022</td><td>33071</td><td>Gray exterior, Gray interior</td><td>No accidents reported, 2 Owners</td><td>19998</td></tr><tr><td>Honda Civic</td><td>2022</td><td>32553</td><td>Red exterior, Black interior</td><td>No accidents reported, 1 Owner</td><td>23495</td></tr><tr><td>Chevrolet Camaro</td><td>2022</td><td>36151</td><td>Black exterior, Black interior</td><td>No accidents reported, 1 Owner</td><td>24400</td></tr><tr><td>BMW 5 Series</td><td>2023</td><td>4341</td><td>White exterior, Black interior</td><td>No accidents reported, 1 Owner</td><td>51825</td></tr><tr><td>Toyota Camry</td><td>2022</td><td>43959</td><td>White exterior, Gray interior</td><td>No accidents reported, 1 Owner</td><td>24400</td></tr><tr><td>Alfa Romeo Stelvio</td><td>2022</td><td>25</td><td>Red exterior, Black interior</td><td>No accidents reported, 1 Owner</td><td>33684</td></tr><tr><td>Honda Passport</td><td>2022</td><td>2010</td><td>Black exterior, Black interior</td><td>No accidents reported, 1 Owner</td><td>37856</td></tr><tr><td>Toyota Corolla</td><td>2023</td><td>25273</td><td>Silver exterior, Gray interior</td><td>No accidents reported, 1 Owner</td><td>19699</td></tr><tr><td>Honda Civic</td><td>2022</td><td>10805</td><td>Blue exterior, Unknown interior</td><td>No accidents reported, 1 Owner</td><td>25995</td></tr><tr><td>Chevrolet Malibu</td><td>2022</td><td>32265</td><td>Silver exterior, Black interior</td><td>No accidents reported, 1 Owner</td><td>19998</td></tr><tr><td>Porsche Macan</td><td>2023</td><td>6882</td><td>White exterior, Black interior</td><td>No accidents reported, 1 Owner</td><td>53983</td></tr><tr><td>BMW 5 Series</td><td>2023</td><td>6056</td><td>White exterior, Black interior</td><td>No accidents reported, 1 Owner</td><td>49317</td></tr><tr><td>Alfa Romeo Stelvio</td><td>2022</td><td>86</td><td>White exterior, Black interior</td><td>No accidents reported, 1 Owner</td><td>35298</td></tr><tr><td>Chevrolet Malibu</td><td>2022</td><td>52126</td><td>Black exterior, Black interior</td><td>1 accident reported, 1 Owner</td><td>20998</td></tr><tr><td>Toyota Tacoma</td><td>2022</td><td>33228</td><td>White exterior, Gray interior</td><td>No accidents reported, 1 Owner</td><td>35666</td></tr><tr><td>Mercedes-Benz GLB</td><td>2023</td><td>7125</td><td>White exterior, Black interior</td><td>No accidents reported, 1 Owner</td><td>38777</td></tr><tr><td>Mercedes-Benz GLB</td><td>2023</td><td>9015</td><td>Red exterior, Gray interior</td><td>No accidents reported, 1 Owner</td><td>42558</td></tr><tr><td>Alfa Romeo Stelvio</td><td>2022</td><td>64</td><td>Black exterior, Black interior</td><td>No accidents reported, 1 Owner</td><td>35688</td></tr><tr><td>Alfa Romeo Giulia</td><td>2022</td><td>55</td><td>Blue exterior, Black interior</td><td>No accidents reported, 1 Owner</td><td>30541</td></tr><tr><td>Buick Encore GX</td><td>2022</td><td>7437</td><td>Black exterior, Black interior</td><td>No accidents reported, 1 Owner</td><td>19988</td></tr><tr><td>Mercedes-Benz C-Class</td><td>2023</td><td>7193</td><td>White exterior, Black interior</td><td>No accidents reported, 1 Owner</td><td>44385</td></tr><tr><td>Toyota Corolla</td><td>2022</td><td>34565</td><td>Silver exterior, Black interior</td><td>1 accident reported, 1 Owner</td><td>19293</td></tr><tr><td>Toyota Corolla</td><td>2022</td><td>16801</td><td>White exterior, Black interior</td><td>No accidents reported, 1 Owner</td><td>19495</td></tr><tr><td>Land Rover Discovery Sport</td><td>2023</td><td>10607</td><td>White exterior, Black interior</td><td>No accidents reported, 1 Owner</td><td>37777</td></tr><tr><td>BMW 4 Series</td><td>2022</td><td>6647</td><td>Blue exterior, Black interior</td><td>No accidents reported, 1 Owner</td><td>49999</td></tr><tr><td>Chrysler Pacifica</td><td>2022</td><td>33066</td><td>Black exterior, Black interior</td><td>No accidents reported, 1 Owner</td><td>29998</td></tr><tr><td>Alfa Romeo Stelvio</td><td>2022</td><td>63</td><td>Black exterior, Black interior</td><td>No accidents reported, 1 Owner</td><td>31072</td></tr><tr><td>Toyota RAV4</td><td>2022</td><td>41077</td><td>Gray exterior, Black interior</td><td>No accidents reported, 1 Owner</td><td>25593</td></tr><tr><td>Mazda CX-5</td><td>2022</td><td>12172</td><td>Red exterior, Black interior</td><td>No accidents reported, 1 Owner</td><td>25649</td></tr><tr><td>Mercedes-Benz GLC</td><td>2023</td><td>5614</td><td>White exterior, Black interior</td><td>No accidents reported, 1 Owner</td><td>48515</td></tr><tr><td>Nissan Sentra</td><td>2022</td><td>7296</td><td>Gray exterior, Black interior</td><td>No accidents reported, 1 Owner</td><td>18999</td></tr><tr><td>Acura RDX</td><td>2023</td><td>3057</td><td>Blue exterior, Black interior</td><td>No accidents reported, 1 Owner</td><td>38777</td></tr><tr><td>Audi A6</td><td>2023</td><td>3119</td><td>Gray exterior, Black interior</td><td>No accidents reported, 1 Owner</td><td>49997</td></tr><tr><td>Mercedes-Benz GLA</td><td>2023</td><td>5375</td><td>Blue exterior, Beige interior</td><td>No accidents reported, 1 Owner</td><td>40740</td></tr><tr><td>Honda Civic</td><td>2022</td><td>24646</td><td>Gray exterior, Black interior</td><td>No accidents reported, 1 Owner</td><td>23995</td></tr><tr><td>Audi A3</td><td>2023</td><td>2195</td><td>Black exterior, Black interior</td><td>No accidents reported, 1 Owner</td><td>32995</td></tr><tr><td>Mercedes-Benz E-Class</td><td>2022</td><td>11988</td><td>Red exterior, Beige interior</td><td>No accidents reported, 1 Owner</td><td>43563</td></tr><tr><td>Nissan Sentra</td><td>2023</td><td>10269</td><td>Silver exterior, Black interior</td><td>No accidents reported, 1 Owner</td><td>19859</td></tr><tr><td>Toyota Prius</td><td>2022</td><td>45722</td><td>Black exterior, Black interior</td><td>No accidents reported, 1 Owner</td><td>22690</td></tr><tr><td>Hyundai Tucson</td><td>2022</td><td>32353</td><td>Black exterior, Black interior</td><td>1 accident reported, 1 Owner</td><td>22998</td></tr><tr><td>Subaru Outback</td><td>2023</td><td>6283</td><td>White exterior, Beige interior</td><td>No accidents reported, 1 Owner</td><td>35900</td></tr><tr><td>Volvo S90</td><td>2022</td><td>2304</td><td>Black exterior, Black interior</td><td>No accidents reported, 1 Owner</td><td>42191</td></tr><tr><td>BMW X5</td><td>2022</td><td>33541</td><td>Gray exterior, Beige interior</td><td>No accidents reported, 1 Owner</td><td>43379</td></tr><tr><td>Honda Accord</td><td>2022</td><td>20280</td><td>White exterior, Unknown interior</td><td>No accidents reported, 1 Owner</td><td>26994</td></tr><tr><td>Chevrolet Trailblazer</td><td>2023</td><td>7911</td><td>Black exterior, Black interior</td><td>No accidents reported, 1 Owner</td><td>20989</td></tr><tr><td>BMW 5 Series</td><td>2023</td><td>6321</td><td>White exterior, Black interior</td><td>No accidents reported, 1 Owner</td><td>51187</td></tr><tr><td>BMW 5 Series</td><td>2023</td><td>5533</td><td>White exterior, Brown interior</td><td>No accidents reported, 1 Owner</td><td>52292</td></tr><tr><td>Audi Q5</td><td>2022</td><td>8997</td><td>Silver exterior, Black interior</td><td>No accidents reported, 1 Owner</td><td>33956</td></tr><tr><td>Toyota RAV4</td><td>2022</td><td>8972</td><td>Gray exterior, Black interior</td><td>No accidents reported, 1 Owner</td><td>32000</td></tr><tr><td>Toyota Avalon</td><td>2022</td><td>35234</td><td>Silver exterior, Black interior</td><td>No accidents reported, 1 Owner</td><td>23899</td></tr><tr><td>Audi A3</td><td>2023</td><td>1760</td><td>Blue exterior, Black interior</td><td>No accidents reported, 1 Owner</td><td>32995</td></tr><tr><td>Honda Civic</td><td>2022</td><td>32553</td><td>Red exterior, Black interior</td><td>No accidents reported, 1 Owner</td><td>23495</td></tr><tr><td>Chevrolet Camaro</td><td>2022</td><td>36151</td><td>Black exterior, Black interior</td><td>No accidents reported, 1 Owner</td><td>24400</td></tr><tr><td>BMW 5 Series</td><td>2023</td><td>4341</td><td>White exterior, Black interior</td><td>No accidents reported, 1 Owner</td><td>51825</td></tr><tr><td>Toyota Camry</td><td>2022</td><td>43959</td><td>White exterior, Gray interior</td><td>No accidents reported, 1 Owner</td><td>24400</td></tr><tr><td>Alfa Romeo Stelvio</td><td>2022</td><td>25</td><td>Red exterior, Black interior</td><td>No accidents reported, 1 Owner</td><td>33684</td></tr><tr><td>Toyota GR Corolla</td><td>2023</td><td>1789</td><td>White exterior, Black interior</td><td>No accidents reported, 1 Owner</td><td>46998</td></tr><tr><td>Honda Passport</td><td>2022</td><td>2010</td><td>Black exterior, Black interior</td><td>No accidents reported, 1 Owner</td><td>37856</td></tr><tr><td>Toyota Corolla</td><td>2023</td><td>25273</td><td>Silver exterior, Gray interior</td><td>No accidents reported, 1 Owner</td><td>19699</td></tr><tr><td>Honda Civic</td><td>2022</td><td>10805</td><td>Blue exterior, Unknown interior</td><td>No accidents reported, 1 Owner</td><td>25995</td></tr><tr><td>Porsche Macan</td><td>2023</td><td>6882</td><td>White exterior, Black interior</td><td>No accidents reported, 1 Owner</td><td>53983</td></tr><tr><td>BMW 5 Series</td><td>2023</td><td>6056</td><td>White exterior, Black interior</td><td>No accidents reported, 1 Owner</td><td>49317</td></tr><tr><td>Nissan Sentra</td><td>2022</td><td>44666</td><td>Gray exterior, Gray interior</td><td>2 accidents reported, 1 Owner</td><td>20998</td></tr><tr><td>Alfa Romeo Stelvio</td><td>2022</td><td>86</td><td>White exterior, Black interior</td><td>No accidents reported, 1 Owner</td><td>35298</td></tr><tr><td>Toyota Tacoma</td><td>2022</td><td>33228</td><td>White exterior, Gray interior</td><td>No accidents reported, 1 Owner</td><td>35666</td></tr><tr><td>Mercedes-Benz GLB</td><td>2023</td><td>7125</td><td>White exterior, Black interior</td><td>No accidents reported, 1 Owner</td><td>38777</td></tr><tr><td>Mercedes-Benz GLB</td><td>2023</td><td>9015</td><td>Red exterior, Gray interior</td><td>No accidents reported, 1 Owner</td><td>42558</td></tr><tr><td>Alfa Romeo Giulia</td><td>2022</td><td>55</td><td>Blue exterior, Black interior</td><td>No accidents reported, 1 Owner</td><td>30541</td></tr><tr><td>Alfa Romeo Stelvio</td><td>2022</td><td>64</td><td>Black exterior, Black interior</td><td>No accidents reported, 1 Owner</td><td>35688</td></tr><tr><td>Buick Encore GX</td><td>2022</td><td>7437</td><td>Black exterior, Black interior</td><td>No accidents reported, 1 Owner</td><td>19988</td></tr><tr><td>Mercedes-Benz C-Class</td><td>2023</td><td>7193</td><td>White exterior, Black interior</td><td>No accidents reported, 1 Owner</td><td>44385</td></tr><tr><td>Toyota Corolla</td><td>2022</td><td>34565</td><td>Silver exterior, Black interior</td><td>1 accident reported, 1 Owner</td><td>19293</td></tr><tr><td>Kia Forte</td><td>2022</td><td>14277</td><td>White exterior, Black interior</td><td>No accidents reported, 1 Owner</td><td>18641</td></tr><tr><td>Mercedes-Benz Sprinter Passenger Van</td><td>2022</td><td>43</td><td>Black exterior, Black interior</td><td>No accidents reported, 1 Owner</td><td>83993</td></tr><tr><td>Ford F-150</td><td>2023</td><td>5350</td><td>Blue exterior, Black interior</td><td>No accidents reported, 1 Owner</td><td>37999</td></tr><tr><td>Chevrolet Malibu</td><td>2022</td><td>40867</td><td>White exterior, Gray interior</td><td>No accidents reported, 1 Owner</td><td>20998</td></tr><tr><td>Chevrolet Suburban</td><td>2022</td><td>63673</td><td>Gray exterior, Black interior</td><td>No accidents reported, 1 Owner</td><td>52400</td></tr><tr><td>Acura MDX</td><td>2022</td><td>41907</td><td>Black exterior, Black interior</td><td>No accidents reported, 1 Owner</td><td>36965</td></tr><tr><td>Jeep Compass</td><td>2022</td><td>13977</td><td>Black exterior, Black interior</td><td>1 accident reported, 1 Owner</td><td>23959</td></tr><tr><td>Chevrolet Trailblazer</td><td>2023</td><td>8957</td><td>Gray exterior, Black interior</td><td>No accidents reported, 0 Owners</td><td>25777</td></tr><tr><td>Hyundai Santa Fe</td><td>2023</td><td>6659</td><td>Blue exterior, Black interior</td><td>No accidents reported, 1 Owner</td><td>32998</td></tr><tr><td>Toyota Corolla</td><td>2022</td><td>55175</td><td>White exterior, Gray interior</td><td>No accidents reported, 1 Owner</td><td>17399</td></tr><tr><td>Toyota Sienna</td><td>2022</td><td>36981</td><td>Black exterior, Gray interior</td><td>No accidents reported, 1 Owner</td><td>37894</td></tr><tr><td>Nissan Sentra</td><td>2022</td><td>34581</td><td>White exterior, Black interior</td><td>No accidents reported, 1 Owner</td><td>18288</td></tr><tr><td>Acura RDX</td><td>2023</td><td>3057</td><td>Blue exterior, Black interior</td><td>No accidents reported, 1 Owner</td><td>38777</td></tr><tr><td>Audi A6</td><td>2023</td><td>3119</td><td>Gray exterior, Black interior</td><td>No accidents reported, 1 Owner</td><td>49997</td></tr><tr><td>Audi A5</td><td>2023</td><td>4263</td><td>Black exterior, Black interior</td><td>No accidents reported, 1 Owner</td><td>40551</td></tr><tr><td>Honda Pilot</td><td>2022</td><td>4931</td><td>White exterior, Unknown interior</td><td>No accidents reported, 1 Owner</td><td>33988</td></tr><tr><td>Toyota Corolla</td><td>2022</td><td>27732</td><td>Silver exterior, Black interior</td><td>No accidents reported, 1 Owner</td><td>19515</td></tr><tr><td>Nissan Altima</td><td>2023</td><td>3647</td><td>White exterior, Black interior</td><td>No accidents reported, 2 Owners</td><td>29998</td></tr><tr><td>Mercedes-Benz GLC</td><td>2022</td><td>11301</td><td>Gray exterior, Gray interior</td><td>No accidents reported, 1 Owner</td><td>35998</td></tr><tr><td>Kia K5</td><td>2022</td><td>58892</td><td>Gray exterior, Black interior</td><td>No accidents reported, 1 Owner</td><td>19599</td></tr><tr><td>Subaru Ascent</td><td>2023</td><td>5418</td><td>Silver exterior, Gray interior</td><td>No accidents reported, 1 Owner</td><td>44800</td></tr><tr><td>Subaru Outback</td><td>2022</td><td>19733</td><td>Black exterior, Gray interior</td><td>1 accident reported, 3 Owners</td><td>29998</td></tr><tr><td>Honda Accord</td><td>2023</td><td>3538</td><td>White exterior, Black interior</td><td>No accidents reported, 1 Owner</td><td>25739</td></tr><tr><td>Toyota RAV4</td><td>2022</td><td>28068</td><td>Gray exterior, Gray interior</td><td>No accidents reported, 1 Owner</td><td>28998</td></tr><tr><td>Honda CR-V</td><td>2022</td><td>8124</td><td>Silver exterior, Gray interior</td><td>No accidents reported, 1 Owner</td><td>33995</td></tr><tr><td>Chevrolet Silverado 1500 LTD</td><td>2022</td><td>50071</td><td>White exterior, Black interior</td><td>1 accident reported, 1 Owner</td><td>36998</td></tr><tr><td>Toyota Tacoma</td><td>2023</td><td>10359</td><td>Green exterior, Black interior</td><td>No accidents reported, 1 Owner</td><td>41125</td></tr><tr><td>Toyota Corolla</td><td>2022</td><td>47396</td><td>Black exterior, Gray interior</td><td>No accidents reported, 1 Owner</td><td>17995</td></tr><tr><td>Kia Forte</td><td>2022</td><td>7965</td><td>Blue exterior, Black interior</td><td>No accidents reported, 1 Owner</td><td>21992</td></tr><tr><td>Honda Odyssey</td><td>2022</td><td>14994</td><td>Red exterior, Beige interior</td><td>No accidents reported, 1 Owner</td><td>33998</td></tr><tr><td>Toyota Tacoma</td><td>2022</td><td>29422</td><td>White exterior, Black interior</td><td>No accidents reported, 1 Owner</td><td>30995</td></tr><tr><td>Toyota Corolla</td><td>2023</td><td>14627</td><td>White exterior, Unknown interior</td><td>No accidents reported, 1 Owner</td><td>22995</td></tr><tr><td>Mercedes-Benz GLB</td><td>2023</td><td>16847</td><td>White exterior, Black interior</td><td>No accidents reported, 1 Owner</td><td>32999</td></tr><tr><td>Mercedes-Benz C-Class</td><td>2023</td><td>3755</td><td>Black exterior, Black interior</td><td>No accidents reported, 1 Owner</td><td>45940</td></tr><tr><td>Mazda CX-5</td><td>2023</td><td>6869</td><td>Blue exterior, Black interior</td><td>No accidents reported, 1 Owner</td><td>30750</td></tr><tr><td>Chevrolet Suburban</td><td>2022</td><td>63673</td><td>Gray exterior, Black interior</td><td>No accidents reported, 1 Owner</td><td>52400</td></tr><tr><td>Acura MDX</td><td>2022</td><td>41907</td><td>Black exterior, Black interior</td><td>No accidents reported, 1 Owner</td><td>36965</td></tr><tr><td>Chevrolet Malibu</td><td>2022</td><td>33164</td><td>Gray exterior, Gray interior</td><td>No accidents reported, 1 Owner</td><td>19998</td></tr><tr><td>Jeep Compass</td><td>2022</td><td>13977</td><td>Black exterior, Black interior</td><td>1 accident reported, 1 Owner</td><td>23959</td></tr><tr><td>Chevrolet Trailblazer</td><td>2023</td><td>8957</td><td>Gray exterior, Black interior</td><td>No accidents reported, 0 Owners</td><td>25777</td></tr><tr><td>Hyundai Santa Fe</td><td>2023</td><td>6659</td><td>Blue exterior, Black interior</td><td>No accidents reported, 1 Owner</td><td>32998</td></tr><tr><td>Land Rover Defender</td><td>2023</td><td>7815</td><td>Gray exterior, Black interior</td><td>No accidents reported, 1 Owner</td><td>74222</td></tr><tr><td>Ram 1500</td><td>2022</td><td>28537</td><td>White exterior, Black interior</td><td>No accidents reported, 1 Owner</td><td>41998</td></tr><tr><td>Audi A3</td><td>2023</td><td>3670</td><td>Black exterior, Black interior</td><td>No accidents reported, 1 Owner</td><td>31894</td></tr><tr><td>Chrysler Pacifica</td><td>2022</td><td>39767</td><td>Gray exterior, Black interior</td><td>No accidents reported, 1 Owner</td><td>27998</td></tr><tr><td>Hyundai Kona</td><td>2022</td><td>30250</td><td>Silver exterior, Black interior</td><td>No accidents reported, 1 Owner</td><td>18998</td></tr><tr><td>Kia Forte</td><td>2023</td><td>10189</td><td>Gray exterior, Black interior</td><td>No accidents reported, 1 Owner</td><td>21991</td></tr><tr><td>Ford Transit Passenger Wagon</td><td>2022</td><td>34735</td><td>White exterior, Black interior</td><td>No accidents reported, 1 Owner</td><td>52997</td></tr><tr><td>Mercedes-Benz GLC</td><td>2022</td><td>56463</td><td>White exterior, Black interior</td><td>No accidents reported, 1 Owner</td><td>31995</td></tr><tr><td>Chrysler Pacifica</td><td>2022</td><td>23813</td><td>Black exterior, Black interior</td><td>No accidents reported, 2 Owners</td><td>31998</td></tr><tr><td>Chevrolet Malibu</td><td>2022</td><td>36231</td><td>Silver exterior, Black interior</td><td>No accidents reported, 1 Owner</td><td>19998</td></tr><tr><td>Genesis G70</td><td>2023</td><td>4818</td><td>Blue exterior, Gray interior</td><td>No accidents reported, 1 Owner</td><td>37000</td></tr><tr><td>Audi S7</td><td>2022</td><td>16155</td><td>White exterior, Red interior</td><td>1 accident reported, 2 Owners</td><td>73865</td></tr><tr><td>Toyota Sienna</td><td>2022</td><td>59790</td><td>Red exterior, Gray interior</td><td>No accidents reported, 1 Owner</td><td>33994</td></tr><tr><td>Mercedes-Benz CLA</td><td>2023</td><td>9070</td><td>Red exterior, Beige interior</td><td>No accidents reported, 1 Owner</td><td>40820</td></tr><tr><td>Ford Bronco</td><td>2022</td><td>7511</td><td>Gray exterior, Black interior</td><td>No accidents reported, 1 Owner</td><td>56215</td></tr><tr><td>Nissan Rogue</td><td>2023</td><td>1942</td><td>Gray exterior, Black interior</td><td>No accidents reported, 1 Owner</td><td>31891</td></tr><tr><td>Nissan Rogue</td><td>2023</td><td>6889</td><td>Black exterior, Black interior</td><td>No accidents reported, 1 Owner</td><td>26991</td></tr><tr><td>Nissan Rogue Sport</td><td>2022</td><td>12713</td><td>White exterior, Gray interior</td><td>No accidents reported, 1 Owner</td><td>26988</td></tr><tr><td>Honda Pilot</td><td>2022</td><td>25031</td><td>Black exterior, Black interior</td><td>No accidents reported, 1 Owner</td><td>29408</td></tr><tr><td>Chevrolet Silverado 1500</td><td>2023</td><td>114</td><td>White exterior, Black interior</td><td>No accidents reported, 1 Owner</td><td>48995</td></tr><tr><td>Toyota RAV4</td><td>2022</td><td>37662</td><td>White exterior, Brown interior</td><td>No accidents reported, 1 Owner</td><td>25994</td></tr><tr><td>Kia K5</td><td>2022</td><td>27065</td><td>White exterior, Black interior</td><td>No accidents reported, 1 Owner</td><td>19889</td></tr><tr><td>Land Rover Range Rover Evoque</td><td>2023</td><td>8503</td><td>Gray exterior, Black interior</td><td>No accidents reported, 1 Owner</td><td>40777</td></tr><tr><td>Kia Forte</td><td>2023</td><td>21993</td><td>Gray exterior, Black interior</td><td>No accidents reported, 1 Owner</td><td>18980</td></tr><tr><td>Toyota Corolla Cross</td><td>2022</td><td>55639</td><td>Black exterior, Black interior</td><td>1 accident reported, 1 Owner</td><td>20938</td></tr><tr><td>Ram 1500 Classic</td><td>2022</td><td>5833</td><td>White exterior, Black interior</td><td>No accidents reported, 1 Owner</td><td>23720</td></tr><tr><td>Acura MDX</td><td>2022</td><td>19654</td><td>White exterior, Black interior</td><td>No accidents reported, 1 Owner</td><td>47998</td></tr><tr><td>Kia Forte</td><td>2022</td><td>11164</td><td>Gray exterior, Black interior</td><td>1 accident reported, 2 Owners</td><td>17345</td></tr><tr><td>Porsche Macan</td><td>2023</td><td>4309</td><td>Gray exterior, Black interior</td><td>No accidents reported, 1 Owner</td><td>52881</td></tr><tr><td>Chevrolet Malibu</td><td>2022</td><td>30848</td><td>Gray exterior, Gray interior</td><td>No accidents reported, 2 Owners</td><td>18998</td></tr><tr><td>Subaru Outback</td><td>2023</td><td>2220</td><td>White exterior, Gray interior</td><td>No accidents reported, 1 Owner</td><td>38600</td></tr><tr><td>Chevrolet Silverado 1500</td><td>2023</td><td>2756</td><td>Gray exterior, Black interior</td><td>No accidents reported, 1 Owner</td><td>53888</td></tr><tr><td>Ford Bronco Sport</td><td>2022</td><td>10843</td><td>Silver exterior, Gray interior</td><td>No accidents reported, 1 Owner</td><td>27095</td></tr><tr><td>Chevrolet Silverado 1500</td><td>2023</td><td>3201</td><td>White exterior, Black interior</td><td>No accidents reported, 2 Owners</td><td>51995</td></tr><tr><td>Chevrolet Trailblazer</td><td>2022</td><td>5086</td><td>White exterior, Black interior</td><td>No accidents reported, 1 Owner</td><td>21488</td></tr><tr><td>Land Rover Defender</td><td>2023</td><td>7815</td><td>Gray exterior, Black interior</td><td>No accidents reported, 1 Owner</td><td>74222</td></tr><tr><td>Audi A3</td><td>2023</td><td>3670</td><td>Black exterior, Black interior</td><td>No accidents reported, 1 Owner</td><td>31894</td></tr><tr><td>Hyundai Kona</td><td>2022</td><td>30250</td><td>Silver exterior, Black interior</td><td>No accidents reported, 1 Owner</td><td>18998</td></tr><tr><td>Kia Forte</td><td>2023</td><td>10189</td><td>Gray exterior, Black interior</td><td>No accidents reported, 1 Owner</td><td>21991</td></tr><tr><td>Ford Transit Passenger Wagon</td><td>2022</td><td>34735</td><td>White exterior, Black interior</td><td>No accidents reported, 1 Owner</td><td>52997</td></tr><tr><td>Mercedes-Benz GLC</td><td>2022</td><td>56463</td><td>White exterior, Black interior</td><td>No accidents reported, 1 Owner</td><td>31995</td></tr><tr><td>Genesis G70</td><td>2023</td><td>4818</td><td>Blue exterior, Gray interior</td><td>No accidents reported, 1 Owner</td><td>37000</td></tr><tr><td>Mercedes-Benz GLC</td><td>2023</td><td>9390</td><td>Black exterior, Black interior</td><td>No accidents reported, 1 Owner</td><td>52880</td></tr><tr><td>Mercedes-Benz CLA</td><td>2023</td><td>10987</td><td>Black exterior, Black interior</td><td>No accidents reported, 1 Owner</td><td>38071</td></tr><tr><td>Audi Q5</td><td>2022</td><td>5030</td><td>Black exterior, Black interior</td><td>No accidents reported, 1 Owner</td><td>37405</td></tr><tr><td>Ford F-150</td><td>2022</td><td>10142</td><td>Blue exterior, Black interior</td><td>No accidents reported, 1 Owner</td><td>37998</td></tr><tr><td>Subaru Outback</td><td>2023</td><td>5348</td><td>Green exterior, Gray interior</td><td>No accidents reported, 1 Owner</td><td>34100</td></tr><tr><td>Mercedes-Benz GLE</td><td>2022</td><td>10504</td><td>Silver exterior, Black interior</td><td>No accidents reported, 1 Owner</td><td>95295</td></tr><tr><td>Alfa Romeo Giulia</td><td>2023</td><td>25</td><td>White exterior, Black interior</td><td>No accidents reported, 1 Owner</td><td>38844</td></tr><tr><td>Porsche Macan</td><td>2023</td><td>4309</td><td>Gray exterior, Black interior</td><td>No accidents reported, 1 Owner</td><td>52881</td></tr><tr><td>Subaru Outback</td><td>2023</td><td>2220</td><td>White exterior, Gray interior</td><td>No accidents reported, 1 Owner</td><td>38600</td></tr><tr><td>Chevrolet Silverado 1500</td><td>2023</td><td>2756</td><td>Gray exterior, Black interior</td><td>No accidents reported, 1 Owner</td><td>53888</td></tr><tr><td>BMW 5 Series</td><td>2023</td><td>11651</td><td>Black exterior, Black interior</td><td>No accidents reported, 2 Owners</td><td>46888</td></tr><tr><td>Toyota RAV4</td><td>2023</td><td>26309</td><td>Silver exterior, Black interior</td><td>No accidents reported, 1 Owner</td><td>27994</td></tr><tr><td>Mercedes-Benz C-Class</td><td>2023</td><td>9165</td><td>Gray exterior, Brown interior</td><td>No accidents reported, 1 Owner</td><td>47908</td></tr><tr><td>BMW 2 Series</td><td>2022</td><td>8177</td><td>Black exterior, Black interior</td><td>No accidents reported, 1 Owner</td><td>32997</td></tr><tr><td>Porsche Macan</td><td>2023</td><td>7627</td><td>White exterior, Black interior</td><td>No accidents reported, 1 Owner</td><td>54983</td></tr><tr><td>Audi Q7</td><td>2023</td><td>13787</td><td>Black exterior, Black interior</td><td>No accidents reported, 1 Owner</td><td>65346</td></tr><tr><td>Jeep Gladiator</td><td>2022</td><td>3900</td><td>Silver exterior, Black interior</td><td>No accidents reported, 1 Owner</td><td>42998</td></tr><tr><td>Toyota Tacoma</td><td>2022</td><td>42477</td><td>Silver exterior, Gray interior</td><td>No accidents reported, 2 Owners</td><td>36500</td></tr><tr><td>Chevrolet Malibu</td><td>2022</td><td>31864</td><td>Black exterior, Black interior</td><td>1 accident reported, 1 Owner</td><td>20998</td></tr><tr><td>Porsche Macan</td><td>2023</td><td>5183</td><td>Red exterior, Black interior</td><td>No accidents reported, 1 Owner</td><td>54983</td></tr><tr><td>Nissan Altima</td><td>2022</td><td>5165</td><td>White exterior, Black interior</td><td>No accidents reported, 1 Owner</td><td>25998</td></tr><tr><td>Chevrolet Tahoe</td><td>2023</td><td>14724</td><td>Black exterior, Black interior</td><td>No accidents reported, 1 Owner</td><td>70000</td></tr><tr><td>Chevrolet Malibu</td><td>2022</td><td>37960</td><td>White exterior, Black interior</td><td>No accidents reported, 1 Owner</td><td>20998</td></tr><tr><td>Chevrolet Trailblazer</td><td>2022</td><td>17582</td><td>Black exterior, Black interior</td><td>No accidents reported, 1 Owner</td><td>22888</td></tr><tr><td>Nissan Altima</td><td>2022</td><td>29182</td><td>Gray exterior, Black interior</td><td>1 accident reported, 2 Owners</td><td>19998</td></tr><tr><td>BMW X6</td><td>2023</td><td>8885</td><td>Gray exterior, Black interior</td><td>No accidents reported, 1 Owner</td><td>81999</td></tr><tr><td>Ford Escape</td><td>2022</td><td>26521</td><td>Gray exterior, Black interior</td><td>No accidents reported, 1 Owner</td><td>28468</td></tr><tr><td>Mercedes-Benz GLC</td><td>2022</td><td>27894</td><td>Gray exterior, Gray interior</td><td>No accidents reported, 2 Owners</td><td>29999</td></tr></tbody></table></div>"
      ]
     },
     "metadata": {
      "application/vnd.databricks.v1+output": {
       "addedWidgets": {},
       "aggData": [],
       "aggError": "",
       "aggOverflow": false,
       "aggSchema": [],
       "aggSeriesLimitReached": false,
       "aggType": "",
       "arguments": {},
       "columnCustomDisplayInfos": {},
       "data": [
        [
         "Kia Forte",
         "2022",
         41406,
         "Gray exterior, Black interior",
         "No accidents reported, 1 Owner",
         "15988"
        ],
        [
         "Toyota RAV4",
         "2022",
         32879,
         "Silver exterior, Unknown interior",
         "No accidents reported, 1 Owner",
         "24988"
        ],
        [
         "Kia K5",
         "2022",
         33632,
         "White exterior, Black interior",
         "No accidents reported, 1 Owner",
         "19988"
        ],
        [
         "Honda CR-V",
         "2022",
         23215,
         "White exterior, Black interior",
         "No accidents reported, 1 Owner",
         "27798"
        ],
        [
         "Chevrolet Malibu",
         "2022",
         32668,
         "Gray exterior, Gray interior",
         "No accidents reported, 1 Owner",
         "19998"
        ],
        [
         "Kia Forte",
         "2022",
         41406,
         "Gray exterior, Black interior",
         "No accidents reported, 1 Owner",
         "15988"
        ],
        [
         "Toyota Corolla",
         "2022",
         33167,
         "White exterior, Black interior",
         "No accidents reported, 1 Owner",
         "20222"
        ],
        [
         "Ford F-150",
         "2023",
         131,
         "Gray exterior, Black interior",
         "No accidents reported, 1 Owner",
         "60800"
        ],
        [
         "Toyota RAV4",
         "2022",
         38375,
         "Silver exterior, Unknown interior",
         "No accidents reported, 1 Owner",
         "24988"
        ],
        [
         "Nissan Rogue Sport",
         "2022",
         7415,
         "Gray exterior, Black interior",
         "No accidents reported, 1 Owner",
         "26998"
        ],
        [
         "Honda Accord",
         "2023",
         2414,
         "White exterior, Black interior",
         "No accidents reported, 1 Owner",
         "25998"
        ],
        [
         "Chevrolet Malibu",
         "2022",
         36517,
         "Silver exterior, Black interior",
         "No accidents reported, 1 Owner",
         "16499"
        ],
        [
         "Ford Bronco Sport",
         "2022",
         5335,
         "Black exterior, Black interior",
         "1 accident reported, 1 Owner",
         "26495"
        ],
        [
         "Mercedes-Benz E-Class",
         "2022",
         27642,
         "Gray exterior, Black interior",
         "No accidents reported, 1 Owner",
         "41998"
        ],
        [
         "Toyota Camry",
         "2023",
         19140,
         "White exterior, Unknown interior",
         "No accidents reported, 1 Owner",
         "24575"
        ],
        [
         "BMW X4 M",
         "2022",
         24935,
         "White exterior, Orange interior",
         "No accidents reported, 2 Owners",
         "64998"
        ],
        [
         "Ford Bronco Sport",
         "2022",
         18887,
         "Gray exterior, Black interior",
         "No accidents reported, 1 Owner",
         "29795"
        ],
        [
         "Mercedes-Benz GLA",
         "2022",
         2885,
         "Black exterior, Black interior",
         "No accidents reported, 1 Owner",
         "45999"
        ],
        [
         "Ford Explorer",
         "2022",
         10608,
         "White exterior, Black interior",
         "No accidents reported, 1 Owner",
         "45828"
        ],
        [
         "Ford F-150",
         "2023",
         131,
         "Gray exterior, Black interior",
         "No accidents reported, 1 Owner",
         "60800"
        ],
        [
         "Chevrolet Silverado 1500",
         "2023",
         6779,
         "Gray exterior, Black interior",
         "No accidents reported, 1 Owner",
         "58890"
        ],
        [
         "Toyota RAV4",
         "2022",
         38375,
         "Silver exterior, Unknown interior",
         "No accidents reported, 1 Owner",
         "24988"
        ],
        [
         "Toyota Tacoma",
         "2023",
         6828,
         "Silver exterior, Black interior",
         "No accidents reported, 1 Owner",
         "39500"
        ],
        [
         "Kia Soul",
         "2022",
         43839,
         "White exterior, Black interior",
         "No accidents reported, 1 Owner",
         "14999"
        ],
        [
         "Toyota Corolla",
         "2022",
         32604,
         "Black exterior, Black interior",
         "No accidents reported, 1 Owner",
         "17599"
        ],
        [
         "Mercedes-Benz GLA",
         "2022",
         2885,
         "Black exterior, Black interior",
         "No accidents reported, 1 Owner",
         "45999"
        ],
        [
         "Ford Explorer",
         "2022",
         10608,
         "White exterior, Black interior",
         "No accidents reported, 1 Owner",
         "45828"
        ],
        [
         "Mercedes-Benz CLA",
         "2023",
         9735,
         "White exterior, Black interior",
         "No accidents reported, 1 Owner",
         "37815"
        ],
        [
         "Honda HR-V",
         "2023",
         3590,
         "Unknown exterior, Gray interior",
         "No accidents reported, 1 Owner",
         "24480"
        ],
        [
         "Ford Bronco",
         "2022",
         10611,
         "Black exterior, Unknown interior",
         "No accidents reported, 1 Owner",
         "46997"
        ],
        [
         "Kia Forte",
         "2022",
         38804,
         "White exterior, Black interior",
         "No accidents reported, 1 Owner",
         "15199"
        ],
        [
         "Ford Edge",
         "2023",
         4706,
         "White exterior, Black interior",
         "No accidents reported, 1 Owner",
         "34770"
        ],
        [
         "Toyota Camry",
         "2022",
         31535,
         "White exterior, Black interior",
         "No accidents reported, 1 Owner",
         "21899"
        ],
        [
         "Toyota Camry",
         "2022",
         31634,
         "Silver exterior, Black interior",
         "No accidents reported, 1 Owner",
         "22100"
        ],
        [
         "Toyota Corolla",
         "2022",
         38484,
         "Blue exterior, Black interior",
         "No accidents reported, 1 Owner",
         "18498"
        ],
        [
         "Chevrolet Malibu",
         "2022",
         32668,
         "Gray exterior, Gray interior",
         "No accidents reported, 1 Owner",
         "19998"
        ],
        [
         "Kia Forte",
         "2022",
         39844,
         "White exterior, Black interior",
         "No accidents reported, 1 Owner",
         "15199"
        ],
        [
         "Toyota Camry",
         "2023",
         14771,
         "Unknown exterior, Unknown interior",
         "No accidents reported, 1 Owner",
         "25995"
        ],
        [
         "Toyota Tacoma",
         "2022",
         9629,
         "White exterior, Black interior",
         "No accidents reported, 1 Owner",
         "40991"
        ],
        [
         "Toyota Corolla",
         "2022",
         47087,
         "Black exterior, Unknown interior",
         "No accidents reported, 2 Owners",
         "17999"
        ],
        [
         "Mercedes-Benz GLC",
         "2022",
         12483,
         "White exterior, Black interior",
         "No accidents reported, 1 Owner",
         "35136"
        ],
        [
         "Chevrolet Malibu",
         "2022",
         28464,
         "White exterior, Black interior",
         "No accidents reported, 1 Owner",
         "17991"
        ],
        [
         "Dodge Challenger",
         "2022",
         27530,
         "Black exterior, Black interior",
         "No accidents reported, 1 Owner",
         "26700"
        ],
        [
         "Toyota Corolla",
         "2022",
         51240,
         "Gray exterior, Unknown interior",
         "No accidents reported, 1 Owner",
         "18987"
        ],
        [
         "Toyota Highlander",
         "2022",
         49766,
         "Silver exterior, Black interior",
         "No accidents reported, 1 Owner",
         "39595"
        ],
        [
         "Ford F-150",
         "2023",
         189,
         "Red exterior, Black interior",
         "No accidents reported, 1 Owner",
         "44700"
        ],
        [
         "Toyota Corolla",
         "2022",
         53358,
         "Blue exterior, Black interior",
         "No accidents reported, 1 Owner",
         "17888"
        ],
        [
         "Lexus NX",
         "2022",
         14516,
         "White exterior, Red interior",
         "No accidents reported, 1 Owner",
         "42991"
        ],
        [
         "Mercedes-Benz CLA",
         "2023",
         9735,
         "White exterior, Black interior",
         "No accidents reported, 1 Owner",
         "37815"
        ],
        [
         "Honda HR-V",
         "2023",
         3590,
         "Unknown exterior, Gray interior",
         "No accidents reported, 1 Owner",
         "24480"
        ],
        [
         "Ford Bronco",
         "2022",
         10611,
         "Black exterior, Unknown interior",
         "No accidents reported, 1 Owner",
         "46997"
        ],
        [
         "Honda Civic",
         "2022",
         17593,
         "Black exterior, Black interior",
         "No accidents reported, 1 Owner",
         "27419"
        ],
        [
         "Subaru Outback",
         "2023",
         4001,
         "Black exterior, Beige interior",
         "No accidents reported, 1 Owner",
         "31989"
        ],
        [
         "Kia Forte",
         "2023",
         1292,
         "Black exterior, Black interior",
         "No accidents reported, 1 Owner",
         "23998"
        ],
        [
         "Kia K5",
         "2022",
         40143,
         "White exterior, Black interior",
         "No accidents reported, 1 Owner",
         "17500"
        ],
        [
         "Nissan Frontier",
         "2022",
         21865,
         "Gray exterior, Black interior",
         "No accidents reported, 1 Owner",
         "28988"
        ],
        [
         "Ford F-150",
         "2022",
         12958,
         "Blue exterior, Black interior",
         "No accidents reported, 0 Owners",
         "44598"
        ],
        [
         "Mercedes-Benz GLB",
         "2023",
         3837,
         "Gray exterior, Gray interior",
         "No accidents reported, 1 Owner",
         "41886"
        ],
        [
         "Chevrolet Silverado 1500",
         "2023",
         15933,
         "Blue exterior, Black interior",
         "No accidents reported, 1 Owner",
         "53750"
        ],
        [
         "Mercedes-Benz GLC",
         "2022",
         12483,
         "White exterior, Black interior",
         "No accidents reported, 1 Owner",
         "35136"
        ],
        [
         "Lexus NX",
         "2023",
         2880,
         "White exterior, Black interior",
         "No accidents reported, 1 Owner",
         "46998"
        ],
        [
         "Mazda CX-5",
         "2022",
         10225,
         "Gray exterior, Black interior",
         "No accidents reported, 2 Owners",
         "29998"
        ],
        [
         "Nissan Sentra",
         "2022",
         22045,
         "Black exterior, Black interior",
         "No accidents reported, 1 Owner",
         "17799"
        ],
        [
         "Honda HR-V",
         "2022",
         33778,
         "Black exterior, Black interior",
         "No accidents reported, 1 Owner",
         "20200"
        ],
        [
         "Chevrolet Camaro",
         "2022",
         33204,
         "Black exterior, Gray interior",
         "No accidents reported, 1 Owner",
         "23900"
        ],
        [
         "BMW 5 Series",
         "2023",
         14651,
         "White exterior, Black interior",
         "No accidents reported, 1 Owner",
         "44998"
        ],
        [
         "Alfa Romeo Giulia",
         "2022",
         47,
         "White exterior, Black interior",
         "No accidents reported, 1 Owner",
         "28670"
        ],
        [
         "Honda Civic",
         "2022",
         22376,
         "Black exterior, Black interior",
         "No accidents reported, 1 Owner",
         "28067"
        ],
        [
         "Toyota Highlander",
         "2022",
         214,
         "Blue exterior, Black interior",
         "No accidents reported, 1 Owner",
         "39333"
        ],
        [
         "BMW X5",
         "2022",
         21808,
         "Gray exterior, Black interior",
         "No accidents reported, 1 Owner",
         "46998"
        ],
        [
         "Toyota RAV4",
         "2022",
         44258,
         "Silver exterior, Unknown interior",
         "No accidents reported, 1 Owner",
         "24788"
        ],
        [
         "Toyota RAV4",
         "2022",
         77425,
         "White exterior, Black interior",
         "No accidents reported, 1 Owner",
         "24898"
        ],
        [
         "Mazda CX-30",
         "2022",
         9629,
         "Gray exterior, Black interior",
         "No accidents reported, 2 Owners",
         "27998"
        ],
        [
         "Mercedes-Benz C-Class",
         "2023",
         10109,
         "Silver exterior, Black interior",
         "No accidents reported, 1 Owner",
         "39776"
        ],
        [
         "Mercedes-Benz GLB",
         "2023",
         3518,
         "White exterior, Beige interior",
         "No accidents reported, 1 Owner",
         "43139"
        ],
        [
         "Kia Soul",
         "2022",
         33047,
         "White exterior, Black interior",
         "No accidents reported, 1 Owner",
         "16988"
        ],
        [
         "Chevrolet Malibu",
         "2022",
         41386,
         "Silver exterior, Black interior",
         "1 accident reported, 1 Owner",
         "19998"
        ],
        [
         "Audi Q7",
         "2023",
         2738,
         "Black exterior, Black interior",
         "No accidents reported, 1 Owner",
         "53155"
        ],
        [
         "Ford Explorer",
         "2022",
         28520,
         "White exterior, Black interior",
         "No accidents reported, 1 Owner",
         "26800"
        ],
        [
         "Ford Bronco",
         "2022",
         5189,
         "Silver exterior, Beige interior",
         "No accidents reported, 1 Owner",
         "57444"
        ],
        [
         "Mercedes-Benz CLA",
         "2023",
         9431,
         "White exterior, Black interior",
         "No accidents reported, 1 Owner",
         "40018"
        ],
        [
         "Audi Q5",
         "2023",
         4888,
         "Gray exterior, Black interior",
         "No accidents reported, 1 Owner",
         "44672"
        ],
        [
         "BMW 3 Series",
         "2023",
         3271,
         "Black exterior, Black interior",
         "No accidents reported, 1 Owner",
         "45222"
        ],
        [
         "Subaru Outback",
         "2023",
         5609,
         "White exterior, Gray interior",
         "No accidents reported, 1 Owner",
         "35479"
        ],
        [
         "Toyota Camry",
         "2022",
         27681,
         "Silver exterior, Black interior",
         "No accidents reported, 1 Owner",
         "20499"
        ],
        [
         "Mercedes-Benz E-Class",
         "2022",
         5873,
         "White exterior, Black interior",
         "No accidents reported, 1 Owner",
         "43887"
        ],
        [
         "Toyota RAV4",
         "2022",
         31666,
         "Gray exterior, Unknown interior",
         "No accidents reported, 1 Owner",
         "24988"
        ],
        [
         "Honda Passport",
         "2022",
         10301,
         "White exterior, Black interior",
         "No accidents reported, 1 Owner",
         "34649"
        ],
        [
         "Subaru Outback",
         "2022",
         31748,
         "White exterior, Gray interior",
         "No accidents reported, 1 Owner",
         "25499"
        ],
        [
         "Toyota Camry",
         "2022",
         29934,
         "Black exterior, Black interior",
         "No accidents reported, 1 Owner",
         "29998"
        ],
        [
         "Mercedes-Benz E-Class",
         "2022",
         9842,
         "White exterior, Black interior",
         "No accidents reported, 1 Owner",
         "44774"
        ],
        [
         "Chevrolet Equinox",
         "2023",
         3306,
         "Blue exterior, Black interior",
         "No accidents reported, 1 Owner",
         "25000"
        ],
        [
         "BMW 5 Series",
         "2023",
         9109,
         "Gray exterior, Black interior",
         "No accidents reported, 1 Owner",
         "45498"
        ],
        [
         "Chevrolet Spark",
         "2022",
         36292,
         "Gray exterior, Black interior",
         "No accidents reported, 1 Owner",
         "13650"
        ],
        [
         "Nissan Rogue",
         "2023",
         12912,
         "White exterior, Black interior",
         "No accidents reported, 1 Owner",
         "23988"
        ],
        [
         "Subaru Ascent",
         "2022",
         17828,
         "Gray exterior, Gray interior",
         "No accidents reported, 1 Owner",
         "34888"
        ],
        [
         "Audi RS 6 Avant",
         "2023",
         8483,
         "Gray exterior, Black interior",
         "No accidents reported, 1 Owner",
         "124995"
        ],
        [
         "Mercedes-Benz GLC",
         "2022",
         5029,
         "Black exterior, Beige interior",
         "No accidents reported, 1 Owner",
         "38235"
        ],
        [
         "Mercedes-Benz CLA",
         "2023",
         6742,
         "Gray exterior, Black interior",
         "No accidents reported, 2 Owners",
         "37776"
        ],
        [
         "Mercedes-Benz C-Class",
         "2023",
         7663,
         "Gray exterior, Black interior",
         "No accidents reported, 1 Owner",
         "39777"
        ],
        [
         "Subaru Outback",
         "2023",
         5688,
         "Silver exterior, Gray interior",
         "No accidents reported, 1 Owner",
         "34600"
        ],
        [
         "Buick Enclave",
         "2023",
         10581,
         "White exterior, Black interior",
         "No accidents reported, 1 Owner",
         "47000"
        ],
        [
         "Toyota Prius",
         "2022",
         28082,
         "Black exterior, Black interior",
         "1 accident reported, 1 Owner",
         "22500"
        ],
        [
         "Mercedes-Benz C-Class",
         "2023",
         10109,
         "Silver exterior, Black interior",
         "No accidents reported, 1 Owner",
         "39776"
        ],
        [
         "Volkswagen Taos",
         "2022",
         35570,
         "White exterior, Black interior",
         "1 accident reported, 1 Owner",
         "23998"
        ],
        [
         "Mercedes-Benz GLB",
         "2023",
         3518,
         "White exterior, Beige interior",
         "No accidents reported, 1 Owner",
         "43139"
        ],
        [
         "Kia Soul",
         "2022",
         33047,
         "White exterior, Black interior",
         "No accidents reported, 1 Owner",
         "16988"
        ],
        [
         "Audi Q7",
         "2023",
         2738,
         "Black exterior, Black interior",
         "No accidents reported, 1 Owner",
         "53155"
        ],
        [
         "Ford Explorer",
         "2022",
         28520,
         "White exterior, Black interior",
         "No accidents reported, 1 Owner",
         "26800"
        ],
        [
         "Lexus UX",
         "2022",
         12642,
         "Red exterior, Black interior",
         "No accidents reported, 1 Owner",
         "29333"
        ],
        [
         "Audi A3",
         "2023",
         615,
         "Black exterior, Black interior",
         "No accidents reported, 1 Owner",
         "34995"
        ],
        [
         "Mercedes-Benz GLB",
         "2023",
         5723,
         "Black exterior, Black interior",
         "No accidents reported, 1 Owner",
         "41151"
        ],
        [
         "BMW 5 Series",
         "2023",
         6776,
         "Black exterior, Black interior",
         "No accidents reported, 1 Owner",
         "69999"
        ],
        [
         "Audi Q5",
         "2022",
         10969,
         "Silver exterior, Gray interior",
         "No accidents reported, 1 Owner",
         "36993"
        ],
        [
         "Nissan Frontier",
         "2022",
         12232,
         "White exterior, Black interior",
         "No accidents reported, 1 Owner",
         "26988"
        ],
        [
         "Jeep Wrangler",
         "2022",
         16700,
         "Black exterior, Black interior",
         "No accidents reported, 2 Owners",
         "38444"
        ],
        [
         "Audi A5",
         "2023",
         6091,
         "Black exterior, Black interior",
         "No accidents reported, 1 Owner",
         "36462"
        ],
        [
         "Subaru Outback",
         "2023",
         8474,
         "White exterior, Gray interior",
         "No accidents reported, 1 Owner",
         "34600"
        ],
        [
         "BMW X5",
         "2022",
         17842,
         "Black exterior, Black interior",
         "No accidents reported, 1 Owner",
         "43988"
        ],
        [
         "Jeep Wrangler",
         "2022",
         17313,
         "Black exterior, Black interior",
         "No accidents reported, 1 Owner",
         "39566"
        ],
        [
         "Kia K5",
         "2022",
         49207,
         "Red exterior, Black interior",
         "No accidents reported, 1 Owner",
         "18998"
        ],
        [
         "Audi A3",
         "2023",
         2235,
         "Black exterior, Black interior",
         "No accidents reported, 1 Owner",
         "33995"
        ],
        [
         "Toyota Corolla Cross",
         "2022",
         7033,
         "White exterior, Black interior",
         "No accidents reported, 1 Owner",
         "28333"
        ],
        [
         "Honda Accord",
         "2022",
         31454,
         "White exterior, Black interior",
         "No accidents reported, 1 Owner",
         "24987"
        ],
        [
         "Ford F-150",
         "2023",
         198,
         "Gray exterior, Black interior",
         "No accidents reported, 1 Owner",
         "59988"
        ],
        [
         "Ford F-150",
         "2022",
         7383,
         "Gray exterior, Black interior",
         "No accidents reported, 1 Owner",
         "41563"
        ],
        [
         "Chevrolet Malibu",
         "2022",
         43257,
         "Silver exterior, Black interior",
         "No accidents reported, 1 Owner",
         "17400"
        ],
        [
         "Audi A3",
         "2023",
         2110,
         "White exterior, Beige interior",
         "No accidents reported, 1 Owner",
         "32995"
        ],
        [
         "Honda Civic",
         "2022",
         28188,
         "White exterior, Black interior",
         "No accidents reported, 1 Owner",
         "26998"
        ],
        [
         "BMW 5 Series",
         "2023",
         9109,
         "Gray exterior, Black interior",
         "No accidents reported, 1 Owner",
         "45498"
        ],
        [
         "Chevrolet Spark",
         "2022",
         36292,
         "Gray exterior, Black interior",
         "No accidents reported, 1 Owner",
         "13650"
        ],
        [
         "Jeep Gladiator",
         "2022",
         32956,
         "Gray exterior, Black interior",
         "No accidents reported, 1 Owner",
         "35998"
        ],
        [
         "Mercedes-Benz C-Class",
         "2023",
         9779,
         "Gray exterior, Black interior",
         "No accidents reported, 1 Owner",
         "40777"
        ],
        [
         "Chevrolet Tahoe",
         "2023",
         3924,
         "Blue exterior, Black interior",
         "No accidents reported, 1 Owner",
         "64150"
        ],
        [
         "Toyota Tacoma",
         "2022",
         18137,
         "White exterior, Gray interior",
         "No accidents reported, 1 Owner",
         "33520"
        ],
        [
         "Audi A5",
         "2023",
         2077,
         "Black exterior, Black interior",
         "No accidents reported, 1 Owner",
         "37998"
        ],
        [
         "Chevrolet Malibu",
         "2022",
         36428,
         "White exterior, Gray interior",
         "No accidents reported, 1 Owner",
         "18998"
        ],
        [
         "Mercedes-Benz C-Class",
         "2023",
         7663,
         "Gray exterior, Black interior",
         "No accidents reported, 1 Owner",
         "39777"
        ],
        [
         "Subaru Outback",
         "2023",
         5688,
         "Silver exterior, Gray interior",
         "No accidents reported, 1 Owner",
         "34600"
        ],
        [
         "Buick Enclave",
         "2023",
         10581,
         "White exterior, Black interior",
         "No accidents reported, 1 Owner",
         "47000"
        ],
        [
         "Toyota Prius",
         "2022",
         28082,
         "Black exterior, Black interior",
         "1 accident reported, 1 Owner",
         "22500"
        ],
        [
         "Chevrolet Corvette",
         "2023",
         2088,
         "Silver exterior, Black interior",
         "No accidents reported, 1 Owner",
         "93000"
        ],
        [
         "Toyota Corolla",
         "2022",
         17868,
         "Black exterior, Black interior",
         "No accidents reported, 1 Owner",
         "20299"
        ],
        [
         "Mercedes-Benz GLA",
         "2022",
         6097,
         "White exterior, Beige interior",
         "No accidents reported, 1 Owner",
         "32666"
        ],
        [
         "Toyota Corolla",
         "2022",
         33868,
         "White exterior, Black interior",
         "No accidents reported, 1 Owner",
         "17593"
        ],
        [
         "Ford Escape",
         "2022",
         36066,
         "Gray exterior, Gray interior",
         "No accidents reported, 1 Owner",
         "20799"
        ],
        [
         "Audi Q5",
         "2022",
         11651,
         "Gray exterior, Gray interior",
         "No accidents reported, 2 Owners",
         "33497"
        ],
        [
         "Chevrolet Camaro",
         "2022",
         9952,
         "Unknown exterior, Unknown interior",
         "No accidents reported, 1 Owner",
         "30195"
        ],
        [
         "Mercedes-Benz GLC",
         "2023",
         4202,
         "Blue exterior, Black interior",
         "No accidents reported, 1 Owner",
         "50838"
        ],
        [
         "Mercedes-Benz S-Class",
         "2023",
         4813,
         "Black exterior, Black interior",
         "No accidents reported, 1 Owner",
         "104784"
        ],
        [
         "Lexus UX",
         "2022",
         12642,
         "Red exterior, Black interior",
         "No accidents reported, 1 Owner",
         "29333"
        ],
        [
         "Audi A3",
         "2023",
         615,
         "Black exterior, Black interior",
         "No accidents reported, 1 Owner",
         "34995"
        ],
        [
         "Nissan Versa",
         "2022",
         54626,
         "Black exterior, Black interior",
         "No accidents reported, 1 Owner",
         "13950"
        ],
        [
         "Subaru Outback",
         "2022",
         25164,
         "Gray exterior, Gray interior",
         "No accidents reported, 1 Owner",
         "29474"
        ],
        [
         "Subaru Ascent",
         "2022",
         12435,
         "Silver exterior, Gray interior",
         "No accidents reported, 1 Owner",
         "34449"
        ],
        [
         "Audi A3",
         "2023",
         1193,
         "Black exterior, Black interior",
         "No accidents reported, 1 Owner",
         "32995"
        ],
        [
         "Kia K5",
         "2022",
         41939,
         "White exterior, Black interior",
         "No accidents reported, 1 Owner",
         "22500"
        ],
        [
         "Hyundai Santa Fe",
         "2023",
         32148,
         "White exterior, Black interior",
         "No accidents reported, 1 Owner",
         "21800"
        ],
        [
         "BMW X3",
         "2022",
         6316,
         "Black exterior, Brown interior",
         "No accidents reported, 1 Owner",
         "36499"
        ],
        [
         "Mercedes-Benz GLB",
         "2023",
         7439,
         "White exterior, Beige interior",
         "No accidents reported, 2 Owners",
         "39880"
        ],
        [
         "Cadillac Escalade",
         "2023",
         13889,
         "Gray exterior, Black interior",
         "No accidents reported, 1 Owner",
         "89991"
        ],
        [
         "Mercedes-Benz C-Class",
         "2023",
         7499,
         "Black exterior, Black interior",
         "No accidents reported, 1 Owner",
         "39777"
        ],
        [
         "Chevrolet Malibu",
         "2022",
         16331,
         "Gray exterior, Black interior",
         "No accidents reported, 1 Owner",
         "19991"
        ],
        [
         "Subaru Legacy",
         "2023",
         5293,
         "White exterior, Gray interior",
         "No accidents reported, 1 Owner",
         "23999"
        ],
        [
         "Toyota Tundra",
         "2023",
         6478,
         "Blue exterior, Black interior",
         "No accidents reported, 1 Owner",
         "61333"
        ],
        [
         "Kia Forte",
         "2023",
         12459,
         "Gray exterior, Black interior",
         "No accidents reported, 1 Owner",
         "19991"
        ],
        [
         "Subaru Outback",
         "2023",
         5011,
         "White exterior, Gray interior",
         "No accidents reported, 1 Owner",
         "35300"
        ],
        [
         "Mercedes-Benz C-Class",
         "2023",
         9779,
         "Gray exterior, Black interior",
         "No accidents reported, 1 Owner",
         "40777"
        ],
        [
         "Chevrolet Tahoe",
         "2023",
         3924,
         "Blue exterior, Black interior",
         "No accidents reported, 1 Owner",
         "64150"
        ],
        [
         "Toyota Tacoma",
         "2022",
         18137,
         "White exterior, Gray interior",
         "No accidents reported, 1 Owner",
         "33520"
        ],
        [
         "Toyota Corolla",
         "2022",
         18666,
         "Black exterior, Black interior",
         "No accidents reported, 1 Owner",
         "20943"
        ],
        [
         "Chevrolet Silverado 1500",
         "2022",
         17657,
         "White exterior, Black interior",
         "No accidents reported, 1 Owner",
         "25998"
        ],
        [
         "Toyota RAV4",
         "2022",
         30244,
         "White exterior, Black interior",
         "No accidents reported, 1 Owner",
         "24499"
        ],
        [
         "Kia K5",
         "2022",
         40330,
         "Silver exterior, Black interior",
         "No accidents reported, 1 Owner",
         "18000"
        ],
        [
         "Honda HR-V",
         "2022",
         11770,
         "Silver exterior, Gray interior",
         "No accidents reported, 1 Owner",
         "22222"
        ],
        [
         "MINI Clubman",
         "2023",
         2081,
         "White exterior, Black interior",
         "No accidents reported, 1 Owner",
         "31995"
        ],
        [
         "Audi A3",
         "2023",
         3573,
         "Black exterior, Black interior",
         "No accidents reported, 1 Owner",
         "32995"
        ],
        [
         "BMW X7",
         "2022",
         27091,
         "Black exterior, Black interior",
         "No accidents reported, 1 Owner",
         "58533"
        ],
        [
         "Toyota Corolla Hatchback",
         "2022",
         12909,
         "Black exterior, Black interior",
         "No accidents reported, 1 Owner",
         "22879"
        ],
        [
         "Audi Q8",
         "2023",
         4320,
         "Black exterior, Black interior",
         "No accidents reported, 1 Owner",
         "68796"
        ],
        [
         "Chevrolet Malibu",
         "2022",
         32265,
         "Silver exterior, Black interior",
         "No accidents reported, 1 Owner",
         "19998"
        ],
        [
         "Audi A3",
         "2023",
         1008,
         "Black exterior, Black interior",
         "No accidents reported, 1 Owner",
         "32995"
        ],
        [
         "Audi Q7",
         "2023",
         10322,
         "White exterior, Black interior",
         "No accidents reported, 1 Owner",
         "58957"
        ],
        [
         "Nissan Versa",
         "2022",
         54626,
         "Black exterior, Black interior",
         "No accidents reported, 1 Owner",
         "13950"
        ],
        [
         "Subaru Outback",
         "2022",
         25164,
         "Gray exterior, Gray interior",
         "No accidents reported, 1 Owner",
         "29474"
        ],
        [
         "Subaru Ascent",
         "2022",
         12435,
         "Silver exterior, Gray interior",
         "No accidents reported, 1 Owner",
         "34449"
        ],
        [
         "Audi A3",
         "2023",
         1193,
         "Black exterior, Black interior",
         "No accidents reported, 1 Owner",
         "32995"
        ],
        [
         "Kia K5",
         "2022",
         41939,
         "White exterior, Black interior",
         "No accidents reported, 1 Owner",
         "22500"
        ],
        [
         "Ford Edge",
         "2022",
         43221,
         "Black exterior, Black interior",
         "No accidents reported, 1 Owner",
         "26995"
        ],
        [
         "Mercedes-Benz C-Class",
         "2023",
         4741,
         "White exterior, Beige interior",
         "No accidents reported, 1 Owner",
         "44764"
        ],
        [
         "Subaru BRZ",
         "2022",
         21000,
         "Red exterior, Black interior",
         "No accidents reported, 2 Owners",
         "28998"
        ],
        [
         "Subaru Crosstrek",
         "2022",
         39427,
         "White exterior, Gray interior",
         "No accidents reported, 1 Owner",
         "23300"
        ],
        [
         "Lexus GX",
         "2022",
         18377,
         "Blue exterior, Gray interior",
         "No accidents reported, 1 Owner",
         "47996"
        ],
        [
         "Honda CR-V",
         "2023",
         1007,
         "Unknown exterior, Black interior",
         "No accidents reported, 1 Owner",
         "33498"
        ],
        [
         "Mercedes-Benz C-Class",
         "2023",
         6315,
         "White exterior, Black interior",
         "No accidents reported, 1 Owner",
         "44868"
        ],
        [
         "Honda Civic",
         "2023",
         9562,
         "Red exterior, Black interior",
         "No accidents reported, 1 Owner",
         "25639"
        ],
        [
         "Toyota Tacoma",
         "2022",
         8097,
         "Silver exterior, Black interior",
         "No accidents reported, 1 Owner",
         "39991"
        ],
        [
         "Subaru Outback",
         "2023",
         7345,
         "White exterior, Gray interior",
         "No accidents reported, 1 Owner",
         "34900"
        ],
        [
         "Alfa Romeo Stelvio",
         "2022",
         25,
         "Black exterior, Black interior",
         "No accidents reported, 1 Owner",
         "34751"
        ],
        [
         "Subaru Ascent",
         "2022",
         25721,
         "Gray exterior, Gray interior",
         "No accidents reported, 1 Owner",
         "34984"
        ],
        [
         "Toyota Camry",
         "2023",
         19660,
         "Gray exterior, Black interior",
         "No accidents reported, 1 Owner",
         "23935"
        ],
        [
         "Subaru Outback",
         "2023",
         5618,
         "White exterior, Gray interior",
         "No accidents reported, 1 Owner",
         "37500"
        ],
        [
         "Audi Q7",
         "2023",
         8581,
         "Black exterior, Black interior",
         "No accidents reported, 1 Owner",
         "51623"
        ],
        [
         "Mercedes-Benz CLA",
         "2023",
         7023,
         "White exterior, Black interior",
         "No accidents reported, 1 Owner",
         "37777"
        ],
        [
         "Kia Forte",
         "2022",
         31031,
         "White exterior, Black interior",
         "No accidents reported, 1 Owner",
         "18500"
        ],
        [
         "Subaru Forester",
         "2022",
         4681,
         "Red exterior, Gray interior",
         "No accidents reported, 1 Owner",
         "28948"
        ],
        [
         "Toyota Corolla",
         "2022",
         18666,
         "Black exterior, Black interior",
         "No accidents reported, 1 Owner",
         "20943"
        ],
        [
         "Toyota Tacoma",
         "2023",
         21953,
         "Silver exterior, Black interior",
         "No accidents reported, 1 Owner",
         "36998"
        ],
        [
         "Chevrolet Silverado 1500",
         "2022",
         17657,
         "White exterior, Black interior",
         "No accidents reported, 1 Owner",
         "25998"
        ],
        [
         "Toyota RAV4",
         "2022",
         30244,
         "White exterior, Black interior",
         "No accidents reported, 1 Owner",
         "24499"
        ],
        [
         "Chevrolet Trailblazer",
         "2022",
         47162,
         "White exterior, Black interior",
         "No accidents reported, 2 Owners",
         "23998"
        ],
        [
         "Audi A6",
         "2023",
         5801,
         "Gray exterior, Black interior",
         "No accidents reported, 1 Owner",
         "47998"
        ],
        [
         "Honda Accord",
         "2022",
         29649,
         "Silver exterior, Black interior",
         "No accidents reported, 1 Owner",
         "24799"
        ],
        [
         "Genesis G80",
         "2022",
         19964,
         "Silver exterior, Black interior",
         "No accidents reported, 1 Owner",
         "37449"
        ],
        [
         "Lexus RX",
         "2023",
         25442,
         "Black exterior, Beige interior",
         "No accidents reported, 1 Owner",
         "47991"
        ],
        [
         "Mercedes-Benz C-Class",
         "2023",
         5761,
         "Blue exterior, Black interior",
         "No accidents reported, 1 Owner",
         "54991"
        ],
        [
         "Toyota Corolla",
         "2022",
         4514,
         "Gray exterior, Gray interior",
         "No accidents reported, 1 Owner",
         "20683"
        ],
        [
         "Subaru Outback",
         "2023",
         4980,
         "White exterior, Beige interior",
         "No accidents reported, 1 Owner",
         "35900"
        ],
        [
         "Toyota Tacoma",
         "2022",
         36648,
         "Black exterior, Black interior",
         "No accidents reported, 2 Owners",
         "38900"
        ],
        [
         "Mercedes-Benz GLB",
         "2023",
         5791,
         "Black exterior, Black interior",
         "No accidents reported, 1 Owner",
         "42400"
        ],
        [
         "Audi Q7",
         "2023",
         6411,
         "White exterior, Black interior",
         "No accidents reported, 1 Owner",
         "54980"
        ],
        [
         "Audi Q5",
         "2023",
         1581,
         "Black exterior, Black interior",
         "No accidents reported, 1 Owner",
         "37989"
        ],
        [
         "INFINITI QX55",
         "2023",
         6869,
         "Gray exterior, Gray interior",
         "No accidents reported, 1 Owner",
         "37988"
        ],
        [
         "Mazda CX-5",
         "2022",
         6242,
         "Red exterior, Black interior",
         "1 accident reported, 1 Owner",
         "28891"
        ],
        [
         "Mazda CX-5",
         "2023",
         8470,
         "Blue exterior, Beige interior",
         "No accidents reported, 1 Owner",
         "32998"
        ],
        [
         "Alfa Romeo Stelvio",
         "2022",
         68,
         "White exterior, Black interior",
         "No accidents reported, 1 Owner",
         "30460"
        ],
        [
         "Honda Civic",
         "2022",
         51155,
         "Gray exterior, Black interior",
         "No accidents reported, 1 Owner",
         "22500"
        ],
        [
         "Subaru Forester",
         "2023",
         6290,
         "Silver exterior, Black interior",
         "No accidents reported, 1 Owner",
         "33500"
        ],
        [
         "Alfa Romeo Giulia",
         "2022",
         46,
         "White exterior, Black interior",
         "No accidents reported, 1 Owner",
         "30542"
        ],
        [
         "Chevrolet Silverado 1500 LTD",
         "2022",
         41168,
         "White exterior, Black interior",
         "No accidents reported, 1 Owner",
         "22488"
        ],
        [
         "Mercedes-Benz CLA",
         "2023",
         4086,
         "Black exterior, Black interior",
         "1 accident reported, 1 Owner",
         "39777"
        ],
        [
         "Alfa Romeo Giulia",
         "2022",
         51,
         "Red exterior, Black interior",
         "No accidents reported, 1 Owner",
         "30541"
        ],
        [
         "GMC Sierra 1500",
         "2022",
         9641,
         "Black exterior, White interior",
         "No accidents reported, 2 Owners",
         "70988"
        ],
        [
         "Audi A3",
         "2023",
         1529,
         "Blue exterior, Black interior",
         "No accidents reported, 1 Owner",
         "32995"
        ],
        [
         "Chevrolet Malibu",
         "2022",
         35410,
         "Gray exterior, Gray interior",
         "No accidents reported, 1 Owner",
         "19998"
        ],
        [
         "Cadillac Escalade",
         "2022",
         16010,
         "White exterior, Black interior",
         "No accidents reported, 1 Owner",
         "99995"
        ],
        [
         "Lexus ES",
         "2022",
         14130,
         "White exterior, Black interior",
         "No accidents reported, 1 Owner",
         "35821"
        ],
        [
         "Audi A5",
         "2023",
         1751,
         "White exterior, Black interior",
         "No accidents reported, 1 Owner",
         "46286"
        ],
        [
         "Chevrolet Malibu",
         "2022",
         30824,
         "Gray exterior, Black interior",
         "No accidents reported, 1 Owner",
         "19999"
        ],
        [
         "Subaru Outback",
         "2023",
         7345,
         "White exterior, Gray interior",
         "No accidents reported, 1 Owner",
         "34900"
        ],
        [
         "Alfa Romeo Stelvio",
         "2022",
         25,
         "Black exterior, Black interior",
         "No accidents reported, 1 Owner",
         "34751"
        ],
        [
         "Subaru Ascent",
         "2022",
         25721,
         "Gray exterior, Gray interior",
         "No accidents reported, 1 Owner",
         "34984"
        ],
        [
         "Toyota Camry",
         "2023",
         19660,
         "Gray exterior, Black interior",
         "No accidents reported, 1 Owner",
         "23935"
        ],
        [
         "Subaru Outback",
         "2023",
         5618,
         "White exterior, Gray interior",
         "No accidents reported, 1 Owner",
         "37500"
        ],
        [
         "Audi Q7",
         "2023",
         8581,
         "Black exterior, Black interior",
         "No accidents reported, 1 Owner",
         "51623"
        ],
        [
         "Chevrolet Malibu",
         "2022",
         36231,
         "Silver exterior, Black interior",
         "No accidents reported, 1 Owner",
         "19998"
        ],
        [
         "Mercedes-Benz CLA",
         "2023",
         7023,
         "White exterior, Black interior",
         "No accidents reported, 1 Owner",
         "37777"
        ],
        [
         "Kia Forte",
         "2022",
         31031,
         "White exterior, Black interior",
         "No accidents reported, 1 Owner",
         "18500"
        ],
        [
         "Subaru Forester",
         "2022",
         4681,
         "Red exterior, Gray interior",
         "No accidents reported, 1 Owner",
         "28948"
        ],
        [
         "Nissan Altima",
         "2022",
         30074,
         "Gray exterior, Black interior",
         "No accidents reported, 1 Owner",
         "17799"
        ],
        [
         "Mercedes-Benz GLB",
         "2023",
         8591,
         "Gray exterior, Black interior",
         "No accidents reported, 1 Owner",
         "37777"
        ],
        [
         "Toyota Camry",
         "2022",
         35848,
         "Red exterior, Gray interior",
         "No accidents reported, 1 Owner",
         "23993"
        ],
        [
         "BMW X3",
         "2022",
         40474,
         "White exterior, Unknown interior",
         "No accidents reported, 1 Owner",
         "30998"
        ],
        [
         "Audi A3",
         "2023",
         1350,
         "Black exterior, Black interior",
         "No accidents reported, 1 Owner",
         "33995"
        ],
        [
         "Audi A3",
         "2023",
         2717,
         "Black exterior, Black interior",
         "No accidents reported, 1 Owner",
         "33500"
        ],
        [
         "Mercedes-Benz GLB",
         "2023",
         7111,
         "Blue exterior, Beige interior",
         "No accidents reported, 1 Owner",
         "41061"
        ],
        [
         "Alfa Romeo Stelvio",
         "2022",
         88,
         "Gray exterior, Black interior",
         "No accidents reported, 1 Owner",
         "30459"
        ],
        [
         "Audi A5",
         "2023",
         3037,
         "Black exterior, Black interior",
         "No accidents reported, 1 Owner",
         "39232"
        ],
        [
         "Honda Pilot",
         "2023",
         5562,
         "Black exterior, Black interior",
         "No accidents reported, 1 Owner",
         "50222"
        ],
        [
         "Audi A4",
         "2023",
         564,
         "Black exterior, Black interior",
         "No accidents reported, 1 Owner",
         "35500"
        ],
        [
         "Nissan Sentra",
         "2023",
         766,
         "Black exterior, Black interior",
         "No accidents reported, 1 Owner",
         "20897"
        ],
        [
         "Mercedes-Benz GLB",
         "2023",
         7842,
         "Black exterior, Gray interior",
         "No accidents reported, 1 Owner",
         "39999"
        ],
        [
         "Kia K5",
         "2022",
         35452,
         "White exterior, Black interior",
         "No accidents reported, 1 Owner",
         "23000"
        ],
        [
         "Dodge Charger",
         "2022",
         20507,
         "Black exterior, Black interior",
         "No accidents reported, 1 Owner",
         "24988"
        ],
        [
         "Alfa Romeo Giulia",
         "2022",
         55,
         "Black exterior, Black interior",
         "No accidents reported, 1 Owner",
         "30541"
        ],
        [
         "Audi Q7",
         "2023",
         2403,
         "Black exterior, Black interior",
         "No accidents reported, 1 Owner",
         "54664"
        ],
        [
         "Mazda CX-5",
         "2022",
         6242,
         "Red exterior, Black interior",
         "1 accident reported, 1 Owner",
         "28891"
        ],
        [
         "Alfa Romeo Stelvio",
         "2022",
         68,
         "White exterior, Black interior",
         "No accidents reported, 1 Owner",
         "30460"
        ],
        [
         "Honda Civic",
         "2022",
         51155,
         "Gray exterior, Black interior",
         "No accidents reported, 1 Owner",
         "22500"
        ],
        [
         "Subaru Forester",
         "2023",
         6290,
         "Silver exterior, Black interior",
         "No accidents reported, 1 Owner",
         "33500"
        ],
        [
         "Alfa Romeo Giulia",
         "2022",
         46,
         "White exterior, Black interior",
         "No accidents reported, 1 Owner",
         "30542"
        ],
        [
         "Mazda CX-30",
         "2022",
         29308,
         "Gray exterior, Black interior",
         "No accidents reported, 1 Owner",
         "24750"
        ],
        [
         "Alfa Romeo Stelvio",
         "2022",
         85,
         "Black exterior, Black interior",
         "No accidents reported, 1 Owner",
         "35488"
        ],
        [
         "Mercedes-Benz GLE",
         "2022",
         26766,
         "Black exterior, Black interior",
         "No accidents reported, 1 Owner",
         "50723"
        ],
        [
         "Mercedes-Benz C-Class",
         "2023",
         4508,
         "White exterior, White interior",
         "No accidents reported, 1 Owner",
         "57363"
        ],
        [
         "Jeep Wrangler",
         "2022",
         23799,
         "White exterior, Brown interior",
         "No accidents reported, 1 Owner",
         "42998"
        ],
        [
         "Jeep Wrangler",
         "2022",
         18815,
         "White exterior, Black interior",
         "No accidents reported, 1 Owner",
         "45271"
        ],
        [
         "Hyundai Tucson",
         "2022",
         18493,
         "Black exterior, Black interior",
         "No accidents reported, 1 Owner",
         "22500"
        ],
        [
         "Kia Forte",
         "2022",
         29105,
         "Gray exterior, Black interior",
         "1 accident reported, 1 Owner",
         "16999"
        ],
        [
         "Nissan Sentra",
         "2022",
         8554,
         "White exterior, Black interior",
         "No accidents reported, 1 Owner",
         "21988"
        ],
        [
         "Audi A3",
         "2023",
         2266,
         "Black exterior, Black interior",
         "No accidents reported, 1 Owner",
         "32995"
        ],
        [
         "Kia K5",
         "2022",
         18696,
         "White exterior, Black interior",
         "No accidents reported, 1 Owner",
         "26991"
        ],
        [
         "Audi A3",
         "2023",
         2521,
         "Black exterior, Black interior",
         "No accidents reported, 1 Owner",
         "32995"
        ],
        [
         "Audi A5",
         "2023",
         1751,
         "White exterior, Black interior",
         "No accidents reported, 1 Owner",
         "46286"
        ],
        [
         "Chevrolet Malibu",
         "2022",
         30824,
         "Gray exterior, Black interior",
         "No accidents reported, 1 Owner",
         "19999"
        ],
        [
         "Ford F-150",
         "2023",
         2816,
         "Gray exterior, Black interior",
         "No accidents reported, 2 Owners",
         "80000"
        ],
        [
         "Volkswagen Tiguan",
         "2022",
         7139,
         "White exterior, Black interior",
         "No accidents reported, 1 Owner",
         "26399"
        ],
        [
         "Honda Civic",
         "2022",
         8100,
         "White exterior, Black interior",
         "No accidents reported, 1 Owner",
         "24991"
        ],
        [
         "Subaru Forester",
         "2023",
         4148,
         "Green exterior, Gray interior",
         "No accidents reported, 1 Owner",
         "27000"
        ],
        [
         "BMW X3",
         "2022",
         7590,
         "Gray exterior, Brown interior",
         "No accidents reported, 1 Owner",
         "36999"
        ],
        [
         "Mercedes-Benz E-Class",
         "2022",
         12705,
         "White exterior, Gray interior",
         "No accidents reported, 1 Owner",
         "46713"
        ],
        [
         "Honda Accord",
         "2022",
         18068,
         "Silver exterior, Unknown interior",
         "No accidents reported, 1 Owner",
         "22988"
        ],
        [
         "Toyota Corolla",
         "2023",
         20235,
         "Black exterior, Black interior",
         "No accidents reported, 1 Owner",
         "19999"
        ],
        [
         "Honda Civic",
         "2022",
         29703,
         "Silver exterior, Black interior",
         "1 accident reported, 1 Owner",
         "22999"
        ],
        [
         "Mercedes-Benz GLB",
         "2022",
         27692,
         "Black exterior, Black interior",
         "No accidents reported, 1 Owner",
         "34020"
        ],
        [
         "Honda CR-V",
         "2023",
         1844,
         "White exterior, Black interior",
         "No accidents reported, 1 Owner",
         "33688"
        ],
        [
         "BMW X3",
         "2022",
         11987,
         "White exterior, Black interior",
         "1 accident reported, 1 Owner",
         "36999"
        ],
        [
         "BMW X5",
         "2022",
         14078,
         "Gray exterior, Brown interior",
         "No accidents reported, 1 Owner",
         "44997"
        ],
        [
         "Subaru Forester",
         "2023",
         1935,
         "Brown exterior, Black interior",
         "No accidents reported, 1 Owner",
         "32918"
        ],
        [
         "Subaru Outback",
         "2022",
         6967,
         "Gray exterior, Gray interior",
         "No accidents reported, 1 Owner",
         "30000"
        ],
        [
         "Land Rover Defender",
         "2022",
         46567,
         "White exterior, Black interior",
         "No accidents reported, 1 Owner",
         "62887"
        ],
        [
         "Nissan Sentra",
         "2022",
         7296,
         "Gray exterior, Black interior",
         "No accidents reported, 1 Owner",
         "18999"
        ],
        [
         "Toyota GR Supra",
         "2023",
         6023,
         "Yellow exterior, Black interior",
         "No accidents reported, 1 Owner",
         "57444"
        ],
        [
         "Toyota Tacoma",
         "2023",
         8074,
         "White exterior, Gray interior",
         "No accidents reported, 1 Owner",
         "42991"
        ],
        [
         "Alfa Romeo Stelvio",
         "2022",
         65,
         "Black exterior, Black interior",
         "No accidents reported, 1 Owner",
         "35663"
        ],
        [
         "Hyundai Elantra",
         "2022",
         18554,
         "Black exterior, Black interior",
         "No accidents reported, 2 Owners",
         "22998"
        ],
        [
         "Mercedes-Benz GLB",
         "2023",
         7842,
         "Black exterior, Gray interior",
         "No accidents reported, 1 Owner",
         "39999"
        ],
        [
         "Kia K5",
         "2022",
         35452,
         "White exterior, Black interior",
         "No accidents reported, 1 Owner",
         "23000"
        ],
        [
         "Acura Integra",
         "2023",
         3477,
         "Blue exterior, Gray interior",
         "No accidents reported, 1 Owner",
         "34998"
        ],
        [
         "Dodge Charger",
         "2022",
         20507,
         "Black exterior, Black interior",
         "No accidents reported, 1 Owner",
         "24988"
        ],
        [
         "Alfa Romeo Giulia",
         "2022",
         55,
         "Black exterior, Black interior",
         "No accidents reported, 1 Owner",
         "30541"
        ],
        [
         "Audi A3",
         "2023",
         2195,
         "Black exterior, Black interior",
         "No accidents reported, 1 Owner",
         "32995"
        ],
        [
         "Mercedes-Benz E-Class",
         "2022",
         11988,
         "Red exterior, Beige interior",
         "No accidents reported, 1 Owner",
         "43563"
        ],
        [
         "Nissan Sentra",
         "2023",
         10269,
         "Silver exterior, Black interior",
         "No accidents reported, 1 Owner",
         "19859"
        ],
        [
         "Toyota Prius",
         "2022",
         45722,
         "Black exterior, Black interior",
         "No accidents reported, 1 Owner",
         "22690"
        ],
        [
         "Lexus NX",
         "2023",
         2880,
         "White exterior, Black interior",
         "No accidents reported, 1 Owner",
         "46998"
        ],
        [
         "Hyundai Tucson",
         "2022",
         32353,
         "Black exterior, Black interior",
         "1 accident reported, 1 Owner",
         "22998"
        ],
        [
         "Subaru Outback",
         "2023",
         6283,
         "White exterior, Beige interior",
         "No accidents reported, 1 Owner",
         "35900"
        ],
        [
         "Volvo S90",
         "2022",
         2304,
         "Black exterior, Black interior",
         "No accidents reported, 1 Owner",
         "42191"
        ],
        [
         "BMW X5",
         "2022",
         33541,
         "Gray exterior, Beige interior",
         "No accidents reported, 1 Owner",
         "43379"
        ],
        [
         "Honda Accord",
         "2022",
         20280,
         "White exterior, Unknown interior",
         "No accidents reported, 1 Owner",
         "26994"
        ],
        [
         "Honda Accord",
         "2022",
         20280,
         "White exterior, Unknown interior",
         "No accidents reported, 1 Owner",
         "26994"
        ],
        [
         "Chevrolet Trailblazer",
         "2023",
         7911,
         "Black exterior, Black interior",
         "No accidents reported, 1 Owner",
         "20989"
        ],
        [
         "BMW 5 Series",
         "2023",
         6321,
         "White exterior, Black interior",
         "No accidents reported, 1 Owner",
         "51187"
        ],
        [
         "BMW 5 Series",
         "2023",
         5533,
         "White exterior, Brown interior",
         "No accidents reported, 1 Owner",
         "52292"
        ],
        [
         "Audi Q5",
         "2022",
         8997,
         "Silver exterior, Black interior",
         "No accidents reported, 1 Owner",
         "33956"
        ],
        [
         "Toyota RAV4",
         "2022",
         8972,
         "Gray exterior, Black interior",
         "No accidents reported, 1 Owner",
         "32000"
        ],
        [
         "Audi A3",
         "2023",
         1760,
         "Blue exterior, Black interior",
         "No accidents reported, 1 Owner",
         "32995"
        ],
        [
         "Toyota Avalon",
         "2022",
         35234,
         "Silver exterior, Black interior",
         "No accidents reported, 1 Owner",
         "23899"
        ],
        [
         "Chevrolet Malibu",
         "2022",
         33071,
         "Gray exterior, Gray interior",
         "No accidents reported, 2 Owners",
         "19998"
        ],
        [
         "Honda Civic",
         "2022",
         32553,
         "Red exterior, Black interior",
         "No accidents reported, 1 Owner",
         "23495"
        ],
        [
         "Chevrolet Camaro",
         "2022",
         36151,
         "Black exterior, Black interior",
         "No accidents reported, 1 Owner",
         "24400"
        ],
        [
         "BMW 5 Series",
         "2023",
         4341,
         "White exterior, Black interior",
         "No accidents reported, 1 Owner",
         "51825"
        ],
        [
         "Toyota Camry",
         "2022",
         43959,
         "White exterior, Gray interior",
         "No accidents reported, 1 Owner",
         "24400"
        ],
        [
         "Alfa Romeo Stelvio",
         "2022",
         25,
         "Red exterior, Black interior",
         "No accidents reported, 1 Owner",
         "33684"
        ],
        [
         "Honda Passport",
         "2022",
         2010,
         "Black exterior, Black interior",
         "No accidents reported, 1 Owner",
         "37856"
        ],
        [
         "Toyota Corolla",
         "2023",
         25273,
         "Silver exterior, Gray interior",
         "No accidents reported, 1 Owner",
         "19699"
        ],
        [
         "Honda Civic",
         "2022",
         10805,
         "Blue exterior, Unknown interior",
         "No accidents reported, 1 Owner",
         "25995"
        ],
        [
         "Chevrolet Malibu",
         "2022",
         32265,
         "Silver exterior, Black interior",
         "No accidents reported, 1 Owner",
         "19998"
        ],
        [
         "Porsche Macan",
         "2023",
         6882,
         "White exterior, Black interior",
         "No accidents reported, 1 Owner",
         "53983"
        ],
        [
         "BMW 5 Series",
         "2023",
         6056,
         "White exterior, Black interior",
         "No accidents reported, 1 Owner",
         "49317"
        ],
        [
         "Alfa Romeo Stelvio",
         "2022",
         86,
         "White exterior, Black interior",
         "No accidents reported, 1 Owner",
         "35298"
        ],
        [
         "Chevrolet Malibu",
         "2022",
         52126,
         "Black exterior, Black interior",
         "1 accident reported, 1 Owner",
         "20998"
        ],
        [
         "Toyota Tacoma",
         "2022",
         33228,
         "White exterior, Gray interior",
         "No accidents reported, 1 Owner",
         "35666"
        ],
        [
         "Mercedes-Benz GLB",
         "2023",
         7125,
         "White exterior, Black interior",
         "No accidents reported, 1 Owner",
         "38777"
        ],
        [
         "Mercedes-Benz GLB",
         "2023",
         9015,
         "Red exterior, Gray interior",
         "No accidents reported, 1 Owner",
         "42558"
        ],
        [
         "Alfa Romeo Stelvio",
         "2022",
         64,
         "Black exterior, Black interior",
         "No accidents reported, 1 Owner",
         "35688"
        ],
        [
         "Alfa Romeo Giulia",
         "2022",
         55,
         "Blue exterior, Black interior",
         "No accidents reported, 1 Owner",
         "30541"
        ],
        [
         "Buick Encore GX",
         "2022",
         7437,
         "Black exterior, Black interior",
         "No accidents reported, 1 Owner",
         "19988"
        ],
        [
         "Mercedes-Benz C-Class",
         "2023",
         7193,
         "White exterior, Black interior",
         "No accidents reported, 1 Owner",
         "44385"
        ],
        [
         "Toyota Corolla",
         "2022",
         34565,
         "Silver exterior, Black interior",
         "1 accident reported, 1 Owner",
         "19293"
        ],
        [
         "Toyota Corolla",
         "2022",
         16801,
         "White exterior, Black interior",
         "No accidents reported, 1 Owner",
         "19495"
        ],
        [
         "Land Rover Discovery Sport",
         "2023",
         10607,
         "White exterior, Black interior",
         "No accidents reported, 1 Owner",
         "37777"
        ],
        [
         "BMW 4 Series",
         "2022",
         6647,
         "Blue exterior, Black interior",
         "No accidents reported, 1 Owner",
         "49999"
        ],
        [
         "Chrysler Pacifica",
         "2022",
         33066,
         "Black exterior, Black interior",
         "No accidents reported, 1 Owner",
         "29998"
        ],
        [
         "Alfa Romeo Stelvio",
         "2022",
         63,
         "Black exterior, Black interior",
         "No accidents reported, 1 Owner",
         "31072"
        ],
        [
         "Toyota RAV4",
         "2022",
         41077,
         "Gray exterior, Black interior",
         "No accidents reported, 1 Owner",
         "25593"
        ],
        [
         "Mazda CX-5",
         "2022",
         12172,
         "Red exterior, Black interior",
         "No accidents reported, 1 Owner",
         "25649"
        ],
        [
         "Mercedes-Benz GLC",
         "2023",
         5614,
         "White exterior, Black interior",
         "No accidents reported, 1 Owner",
         "48515"
        ],
        [
         "Nissan Sentra",
         "2022",
         7296,
         "Gray exterior, Black interior",
         "No accidents reported, 1 Owner",
         "18999"
        ],
        [
         "Acura RDX",
         "2023",
         3057,
         "Blue exterior, Black interior",
         "No accidents reported, 1 Owner",
         "38777"
        ],
        [
         "Audi A6",
         "2023",
         3119,
         "Gray exterior, Black interior",
         "No accidents reported, 1 Owner",
         "49997"
        ],
        [
         "Mercedes-Benz GLA",
         "2023",
         5375,
         "Blue exterior, Beige interior",
         "No accidents reported, 1 Owner",
         "40740"
        ],
        [
         "Honda Civic",
         "2022",
         24646,
         "Gray exterior, Black interior",
         "No accidents reported, 1 Owner",
         "23995"
        ],
        [
         "Audi A3",
         "2023",
         2195,
         "Black exterior, Black interior",
         "No accidents reported, 1 Owner",
         "32995"
        ],
        [
         "Mercedes-Benz E-Class",
         "2022",
         11988,
         "Red exterior, Beige interior",
         "No accidents reported, 1 Owner",
         "43563"
        ],
        [
         "Nissan Sentra",
         "2023",
         10269,
         "Silver exterior, Black interior",
         "No accidents reported, 1 Owner",
         "19859"
        ],
        [
         "Toyota Prius",
         "2022",
         45722,
         "Black exterior, Black interior",
         "No accidents reported, 1 Owner",
         "22690"
        ],
        [
         "Hyundai Tucson",
         "2022",
         32353,
         "Black exterior, Black interior",
         "1 accident reported, 1 Owner",
         "22998"
        ],
        [
         "Subaru Outback",
         "2023",
         6283,
         "White exterior, Beige interior",
         "No accidents reported, 1 Owner",
         "35900"
        ],
        [
         "Volvo S90",
         "2022",
         2304,
         "Black exterior, Black interior",
         "No accidents reported, 1 Owner",
         "42191"
        ],
        [
         "BMW X5",
         "2022",
         33541,
         "Gray exterior, Beige interior",
         "No accidents reported, 1 Owner",
         "43379"
        ],
        [
         "Honda Accord",
         "2022",
         20280,
         "White exterior, Unknown interior",
         "No accidents reported, 1 Owner",
         "26994"
        ],
        [
         "Chevrolet Trailblazer",
         "2023",
         7911,
         "Black exterior, Black interior",
         "No accidents reported, 1 Owner",
         "20989"
        ],
        [
         "BMW 5 Series",
         "2023",
         6321,
         "White exterior, Black interior",
         "No accidents reported, 1 Owner",
         "51187"
        ],
        [
         "BMW 5 Series",
         "2023",
         5533,
         "White exterior, Brown interior",
         "No accidents reported, 1 Owner",
         "52292"
        ],
        [
         "Audi Q5",
         "2022",
         8997,
         "Silver exterior, Black interior",
         "No accidents reported, 1 Owner",
         "33956"
        ],
        [
         "Toyota RAV4",
         "2022",
         8972,
         "Gray exterior, Black interior",
         "No accidents reported, 1 Owner",
         "32000"
        ],
        [
         "Toyota Avalon",
         "2022",
         35234,
         "Silver exterior, Black interior",
         "No accidents reported, 1 Owner",
         "23899"
        ],
        [
         "Audi A3",
         "2023",
         1760,
         "Blue exterior, Black interior",
         "No accidents reported, 1 Owner",
         "32995"
        ],
        [
         "Honda Civic",
         "2022",
         32553,
         "Red exterior, Black interior",
         "No accidents reported, 1 Owner",
         "23495"
        ],
        [
         "Chevrolet Camaro",
         "2022",
         36151,
         "Black exterior, Black interior",
         "No accidents reported, 1 Owner",
         "24400"
        ],
        [
         "BMW 5 Series",
         "2023",
         4341,
         "White exterior, Black interior",
         "No accidents reported, 1 Owner",
         "51825"
        ],
        [
         "Toyota Camry",
         "2022",
         43959,
         "White exterior, Gray interior",
         "No accidents reported, 1 Owner",
         "24400"
        ],
        [
         "Alfa Romeo Stelvio",
         "2022",
         25,
         "Red exterior, Black interior",
         "No accidents reported, 1 Owner",
         "33684"
        ],
        [
         "Toyota GR Corolla",
         "2023",
         1789,
         "White exterior, Black interior",
         "No accidents reported, 1 Owner",
         "46998"
        ],
        [
         "Honda Passport",
         "2022",
         2010,
         "Black exterior, Black interior",
         "No accidents reported, 1 Owner",
         "37856"
        ],
        [
         "Toyota Corolla",
         "2023",
         25273,
         "Silver exterior, Gray interior",
         "No accidents reported, 1 Owner",
         "19699"
        ],
        [
         "Honda Civic",
         "2022",
         10805,
         "Blue exterior, Unknown interior",
         "No accidents reported, 1 Owner",
         "25995"
        ],
        [
         "Porsche Macan",
         "2023",
         6882,
         "White exterior, Black interior",
         "No accidents reported, 1 Owner",
         "53983"
        ],
        [
         "BMW 5 Series",
         "2023",
         6056,
         "White exterior, Black interior",
         "No accidents reported, 1 Owner",
         "49317"
        ],
        [
         "Nissan Sentra",
         "2022",
         44666,
         "Gray exterior, Gray interior",
         "2 accidents reported, 1 Owner",
         "20998"
        ],
        [
         "Alfa Romeo Stelvio",
         "2022",
         86,
         "White exterior, Black interior",
         "No accidents reported, 1 Owner",
         "35298"
        ],
        [
         "Toyota Tacoma",
         "2022",
         33228,
         "White exterior, Gray interior",
         "No accidents reported, 1 Owner",
         "35666"
        ],
        [
         "Mercedes-Benz GLB",
         "2023",
         7125,
         "White exterior, Black interior",
         "No accidents reported, 1 Owner",
         "38777"
        ],
        [
         "Mercedes-Benz GLB",
         "2023",
         9015,
         "Red exterior, Gray interior",
         "No accidents reported, 1 Owner",
         "42558"
        ],
        [
         "Alfa Romeo Giulia",
         "2022",
         55,
         "Blue exterior, Black interior",
         "No accidents reported, 1 Owner",
         "30541"
        ],
        [
         "Alfa Romeo Stelvio",
         "2022",
         64,
         "Black exterior, Black interior",
         "No accidents reported, 1 Owner",
         "35688"
        ],
        [
         "Buick Encore GX",
         "2022",
         7437,
         "Black exterior, Black interior",
         "No accidents reported, 1 Owner",
         "19988"
        ],
        [
         "Mercedes-Benz C-Class",
         "2023",
         7193,
         "White exterior, Black interior",
         "No accidents reported, 1 Owner",
         "44385"
        ],
        [
         "Toyota Corolla",
         "2022",
         34565,
         "Silver exterior, Black interior",
         "1 accident reported, 1 Owner",
         "19293"
        ],
        [
         "Kia Forte",
         "2022",
         14277,
         "White exterior, Black interior",
         "No accidents reported, 1 Owner",
         "18641"
        ],
        [
         "Mercedes-Benz Sprinter Passenger Van",
         "2022",
         43,
         "Black exterior, Black interior",
         "No accidents reported, 1 Owner",
         "83993"
        ],
        [
         "Ford F-150",
         "2023",
         5350,
         "Blue exterior, Black interior",
         "No accidents reported, 1 Owner",
         "37999"
        ],
        [
         "Chevrolet Malibu",
         "2022",
         40867,
         "White exterior, Gray interior",
         "No accidents reported, 1 Owner",
         "20998"
        ],
        [
         "Chevrolet Suburban",
         "2022",
         63673,
         "Gray exterior, Black interior",
         "No accidents reported, 1 Owner",
         "52400"
        ],
        [
         "Acura MDX",
         "2022",
         41907,
         "Black exterior, Black interior",
         "No accidents reported, 1 Owner",
         "36965"
        ],
        [
         "Jeep Compass",
         "2022",
         13977,
         "Black exterior, Black interior",
         "1 accident reported, 1 Owner",
         "23959"
        ],
        [
         "Chevrolet Trailblazer",
         "2023",
         8957,
         "Gray exterior, Black interior",
         "No accidents reported, 0 Owners",
         "25777"
        ],
        [
         "Hyundai Santa Fe",
         "2023",
         6659,
         "Blue exterior, Black interior",
         "No accidents reported, 1 Owner",
         "32998"
        ],
        [
         "Toyota Corolla",
         "2022",
         55175,
         "White exterior, Gray interior",
         "No accidents reported, 1 Owner",
         "17399"
        ],
        [
         "Toyota Sienna",
         "2022",
         36981,
         "Black exterior, Gray interior",
         "No accidents reported, 1 Owner",
         "37894"
        ],
        [
         "Nissan Sentra",
         "2022",
         34581,
         "White exterior, Black interior",
         "No accidents reported, 1 Owner",
         "18288"
        ],
        [
         "Acura RDX",
         "2023",
         3057,
         "Blue exterior, Black interior",
         "No accidents reported, 1 Owner",
         "38777"
        ],
        [
         "Audi A6",
         "2023",
         3119,
         "Gray exterior, Black interior",
         "No accidents reported, 1 Owner",
         "49997"
        ],
        [
         "Audi A5",
         "2023",
         4263,
         "Black exterior, Black interior",
         "No accidents reported, 1 Owner",
         "40551"
        ],
        [
         "Honda Pilot",
         "2022",
         4931,
         "White exterior, Unknown interior",
         "No accidents reported, 1 Owner",
         "33988"
        ],
        [
         "Toyota Corolla",
         "2022",
         27732,
         "Silver exterior, Black interior",
         "No accidents reported, 1 Owner",
         "19515"
        ],
        [
         "Nissan Altima",
         "2023",
         3647,
         "White exterior, Black interior",
         "No accidents reported, 2 Owners",
         "29998"
        ],
        [
         "Mercedes-Benz GLC",
         "2022",
         11301,
         "Gray exterior, Gray interior",
         "No accidents reported, 1 Owner",
         "35998"
        ],
        [
         "Kia K5",
         "2022",
         58892,
         "Gray exterior, Black interior",
         "No accidents reported, 1 Owner",
         "19599"
        ],
        [
         "Subaru Ascent",
         "2023",
         5418,
         "Silver exterior, Gray interior",
         "No accidents reported, 1 Owner",
         "44800"
        ],
        [
         "Subaru Outback",
         "2022",
         19733,
         "Black exterior, Gray interior",
         "1 accident reported, 3 Owners",
         "29998"
        ],
        [
         "Honda Accord",
         "2023",
         3538,
         "White exterior, Black interior",
         "No accidents reported, 1 Owner",
         "25739"
        ],
        [
         "Toyota RAV4",
         "2022",
         28068,
         "Gray exterior, Gray interior",
         "No accidents reported, 1 Owner",
         "28998"
        ],
        [
         "Honda CR-V",
         "2022",
         8124,
         "Silver exterior, Gray interior",
         "No accidents reported, 1 Owner",
         "33995"
        ],
        [
         "Chevrolet Silverado 1500 LTD",
         "2022",
         50071,
         "White exterior, Black interior",
         "1 accident reported, 1 Owner",
         "36998"
        ],
        [
         "Toyota Tacoma",
         "2023",
         10359,
         "Green exterior, Black interior",
         "No accidents reported, 1 Owner",
         "41125"
        ],
        [
         "Toyota Corolla",
         "2022",
         47396,
         "Black exterior, Gray interior",
         "No accidents reported, 1 Owner",
         "17995"
        ],
        [
         "Kia Forte",
         "2022",
         7965,
         "Blue exterior, Black interior",
         "No accidents reported, 1 Owner",
         "21992"
        ],
        [
         "Honda Odyssey",
         "2022",
         14994,
         "Red exterior, Beige interior",
         "No accidents reported, 1 Owner",
         "33998"
        ],
        [
         "Toyota Tacoma",
         "2022",
         29422,
         "White exterior, Black interior",
         "No accidents reported, 1 Owner",
         "30995"
        ],
        [
         "Toyota Corolla",
         "2023",
         14627,
         "White exterior, Unknown interior",
         "No accidents reported, 1 Owner",
         "22995"
        ],
        [
         "Mercedes-Benz GLB",
         "2023",
         16847,
         "White exterior, Black interior",
         "No accidents reported, 1 Owner",
         "32999"
        ],
        [
         "Mercedes-Benz C-Class",
         "2023",
         3755,
         "Black exterior, Black interior",
         "No accidents reported, 1 Owner",
         "45940"
        ],
        [
         "Mazda CX-5",
         "2023",
         6869,
         "Blue exterior, Black interior",
         "No accidents reported, 1 Owner",
         "30750"
        ],
        [
         "Chevrolet Suburban",
         "2022",
         63673,
         "Gray exterior, Black interior",
         "No accidents reported, 1 Owner",
         "52400"
        ],
        [
         "Acura MDX",
         "2022",
         41907,
         "Black exterior, Black interior",
         "No accidents reported, 1 Owner",
         "36965"
        ],
        [
         "Chevrolet Malibu",
         "2022",
         33164,
         "Gray exterior, Gray interior",
         "No accidents reported, 1 Owner",
         "19998"
        ],
        [
         "Jeep Compass",
         "2022",
         13977,
         "Black exterior, Black interior",
         "1 accident reported, 1 Owner",
         "23959"
        ],
        [
         "Chevrolet Trailblazer",
         "2023",
         8957,
         "Gray exterior, Black interior",
         "No accidents reported, 0 Owners",
         "25777"
        ],
        [
         "Hyundai Santa Fe",
         "2023",
         6659,
         "Blue exterior, Black interior",
         "No accidents reported, 1 Owner",
         "32998"
        ],
        [
         "Land Rover Defender",
         "2023",
         7815,
         "Gray exterior, Black interior",
         "No accidents reported, 1 Owner",
         "74222"
        ],
        [
         "Ram 1500",
         "2022",
         28537,
         "White exterior, Black interior",
         "No accidents reported, 1 Owner",
         "41998"
        ],
        [
         "Audi A3",
         "2023",
         3670,
         "Black exterior, Black interior",
         "No accidents reported, 1 Owner",
         "31894"
        ],
        [
         "Chrysler Pacifica",
         "2022",
         39767,
         "Gray exterior, Black interior",
         "No accidents reported, 1 Owner",
         "27998"
        ],
        [
         "Hyundai Kona",
         "2022",
         30250,
         "Silver exterior, Black interior",
         "No accidents reported, 1 Owner",
         "18998"
        ],
        [
         "Kia Forte",
         "2023",
         10189,
         "Gray exterior, Black interior",
         "No accidents reported, 1 Owner",
         "21991"
        ],
        [
         "Ford Transit Passenger Wagon",
         "2022",
         34735,
         "White exterior, Black interior",
         "No accidents reported, 1 Owner",
         "52997"
        ],
        [
         "Mercedes-Benz GLC",
         "2022",
         56463,
         "White exterior, Black interior",
         "No accidents reported, 1 Owner",
         "31995"
        ],
        [
         "Chrysler Pacifica",
         "2022",
         23813,
         "Black exterior, Black interior",
         "No accidents reported, 2 Owners",
         "31998"
        ],
        [
         "Chevrolet Malibu",
         "2022",
         36231,
         "Silver exterior, Black interior",
         "No accidents reported, 1 Owner",
         "19998"
        ],
        [
         "Genesis G70",
         "2023",
         4818,
         "Blue exterior, Gray interior",
         "No accidents reported, 1 Owner",
         "37000"
        ],
        [
         "Audi S7",
         "2022",
         16155,
         "White exterior, Red interior",
         "1 accident reported, 2 Owners",
         "73865"
        ],
        [
         "Toyota Sienna",
         "2022",
         59790,
         "Red exterior, Gray interior",
         "No accidents reported, 1 Owner",
         "33994"
        ],
        [
         "Mercedes-Benz CLA",
         "2023",
         9070,
         "Red exterior, Beige interior",
         "No accidents reported, 1 Owner",
         "40820"
        ],
        [
         "Ford Bronco",
         "2022",
         7511,
         "Gray exterior, Black interior",
         "No accidents reported, 1 Owner",
         "56215"
        ],
        [
         "Nissan Rogue",
         "2023",
         1942,
         "Gray exterior, Black interior",
         "No accidents reported, 1 Owner",
         "31891"
        ],
        [
         "Nissan Rogue",
         "2023",
         6889,
         "Black exterior, Black interior",
         "No accidents reported, 1 Owner",
         "26991"
        ],
        [
         "Nissan Rogue Sport",
         "2022",
         12713,
         "White exterior, Gray interior",
         "No accidents reported, 1 Owner",
         "26988"
        ],
        [
         "Honda Pilot",
         "2022",
         25031,
         "Black exterior, Black interior",
         "No accidents reported, 1 Owner",
         "29408"
        ],
        [
         "Chevrolet Silverado 1500",
         "2023",
         114,
         "White exterior, Black interior",
         "No accidents reported, 1 Owner",
         "48995"
        ],
        [
         "Toyota RAV4",
         "2022",
         37662,
         "White exterior, Brown interior",
         "No accidents reported, 1 Owner",
         "25994"
        ],
        [
         "Kia K5",
         "2022",
         27065,
         "White exterior, Black interior",
         "No accidents reported, 1 Owner",
         "19889"
        ],
        [
         "Land Rover Range Rover Evoque",
         "2023",
         8503,
         "Gray exterior, Black interior",
         "No accidents reported, 1 Owner",
         "40777"
        ],
        [
         "Kia Forte",
         "2023",
         21993,
         "Gray exterior, Black interior",
         "No accidents reported, 1 Owner",
         "18980"
        ],
        [
         "Toyota Corolla Cross",
         "2022",
         55639,
         "Black exterior, Black interior",
         "1 accident reported, 1 Owner",
         "20938"
        ],
        [
         "Ram 1500 Classic",
         "2022",
         5833,
         "White exterior, Black interior",
         "No accidents reported, 1 Owner",
         "23720"
        ],
        [
         "Acura MDX",
         "2022",
         19654,
         "White exterior, Black interior",
         "No accidents reported, 1 Owner",
         "47998"
        ],
        [
         "Kia Forte",
         "2022",
         11164,
         "Gray exterior, Black interior",
         "1 accident reported, 2 Owners",
         "17345"
        ],
        [
         "Porsche Macan",
         "2023",
         4309,
         "Gray exterior, Black interior",
         "No accidents reported, 1 Owner",
         "52881"
        ],
        [
         "Chevrolet Malibu",
         "2022",
         30848,
         "Gray exterior, Gray interior",
         "No accidents reported, 2 Owners",
         "18998"
        ],
        [
         "Subaru Outback",
         "2023",
         2220,
         "White exterior, Gray interior",
         "No accidents reported, 1 Owner",
         "38600"
        ],
        [
         "Chevrolet Silverado 1500",
         "2023",
         2756,
         "Gray exterior, Black interior",
         "No accidents reported, 1 Owner",
         "53888"
        ],
        [
         "Ford Bronco Sport",
         "2022",
         10843,
         "Silver exterior, Gray interior",
         "No accidents reported, 1 Owner",
         "27095"
        ],
        [
         "Chevrolet Silverado 1500",
         "2023",
         3201,
         "White exterior, Black interior",
         "No accidents reported, 2 Owners",
         "51995"
        ],
        [
         "Chevrolet Trailblazer",
         "2022",
         5086,
         "White exterior, Black interior",
         "No accidents reported, 1 Owner",
         "21488"
        ],
        [
         "Land Rover Defender",
         "2023",
         7815,
         "Gray exterior, Black interior",
         "No accidents reported, 1 Owner",
         "74222"
        ],
        [
         "Audi A3",
         "2023",
         3670,
         "Black exterior, Black interior",
         "No accidents reported, 1 Owner",
         "31894"
        ],
        [
         "Hyundai Kona",
         "2022",
         30250,
         "Silver exterior, Black interior",
         "No accidents reported, 1 Owner",
         "18998"
        ],
        [
         "Kia Forte",
         "2023",
         10189,
         "Gray exterior, Black interior",
         "No accidents reported, 1 Owner",
         "21991"
        ],
        [
         "Ford Transit Passenger Wagon",
         "2022",
         34735,
         "White exterior, Black interior",
         "No accidents reported, 1 Owner",
         "52997"
        ],
        [
         "Mercedes-Benz GLC",
         "2022",
         56463,
         "White exterior, Black interior",
         "No accidents reported, 1 Owner",
         "31995"
        ],
        [
         "Genesis G70",
         "2023",
         4818,
         "Blue exterior, Gray interior",
         "No accidents reported, 1 Owner",
         "37000"
        ],
        [
         "Mercedes-Benz GLC",
         "2023",
         9390,
         "Black exterior, Black interior",
         "No accidents reported, 1 Owner",
         "52880"
        ],
        [
         "Mercedes-Benz CLA",
         "2023",
         10987,
         "Black exterior, Black interior",
         "No accidents reported, 1 Owner",
         "38071"
        ],
        [
         "Audi Q5",
         "2022",
         5030,
         "Black exterior, Black interior",
         "No accidents reported, 1 Owner",
         "37405"
        ],
        [
         "Ford F-150",
         "2022",
         10142,
         "Blue exterior, Black interior",
         "No accidents reported, 1 Owner",
         "37998"
        ],
        [
         "Subaru Outback",
         "2023",
         5348,
         "Green exterior, Gray interior",
         "No accidents reported, 1 Owner",
         "34100"
        ],
        [
         "Mercedes-Benz GLE",
         "2022",
         10504,
         "Silver exterior, Black interior",
         "No accidents reported, 1 Owner",
         "95295"
        ],
        [
         "Alfa Romeo Giulia",
         "2023",
         25,
         "White exterior, Black interior",
         "No accidents reported, 1 Owner",
         "38844"
        ],
        [
         "Porsche Macan",
         "2023",
         4309,
         "Gray exterior, Black interior",
         "No accidents reported, 1 Owner",
         "52881"
        ],
        [
         "Subaru Outback",
         "2023",
         2220,
         "White exterior, Gray interior",
         "No accidents reported, 1 Owner",
         "38600"
        ],
        [
         "Chevrolet Silverado 1500",
         "2023",
         2756,
         "Gray exterior, Black interior",
         "No accidents reported, 1 Owner",
         "53888"
        ],
        [
         "BMW 5 Series",
         "2023",
         11651,
         "Black exterior, Black interior",
         "No accidents reported, 2 Owners",
         "46888"
        ],
        [
         "Toyota RAV4",
         "2023",
         26309,
         "Silver exterior, Black interior",
         "No accidents reported, 1 Owner",
         "27994"
        ],
        [
         "Mercedes-Benz C-Class",
         "2023",
         9165,
         "Gray exterior, Brown interior",
         "No accidents reported, 1 Owner",
         "47908"
        ],
        [
         "BMW 2 Series",
         "2022",
         8177,
         "Black exterior, Black interior",
         "No accidents reported, 1 Owner",
         "32997"
        ],
        [
         "Porsche Macan",
         "2023",
         7627,
         "White exterior, Black interior",
         "No accidents reported, 1 Owner",
         "54983"
        ],
        [
         "Audi Q7",
         "2023",
         13787,
         "Black exterior, Black interior",
         "No accidents reported, 1 Owner",
         "65346"
        ],
        [
         "Jeep Gladiator",
         "2022",
         3900,
         "Silver exterior, Black interior",
         "No accidents reported, 1 Owner",
         "42998"
        ],
        [
         "Toyota Tacoma",
         "2022",
         42477,
         "Silver exterior, Gray interior",
         "No accidents reported, 2 Owners",
         "36500"
        ],
        [
         "Chevrolet Malibu",
         "2022",
         31864,
         "Black exterior, Black interior",
         "1 accident reported, 1 Owner",
         "20998"
        ],
        [
         "Porsche Macan",
         "2023",
         5183,
         "Red exterior, Black interior",
         "No accidents reported, 1 Owner",
         "54983"
        ],
        [
         "Nissan Altima",
         "2022",
         5165,
         "White exterior, Black interior",
         "No accidents reported, 1 Owner",
         "25998"
        ],
        [
         "Chevrolet Tahoe",
         "2023",
         14724,
         "Black exterior, Black interior",
         "No accidents reported, 1 Owner",
         "70000"
        ],
        [
         "Chevrolet Malibu",
         "2022",
         37960,
         "White exterior, Black interior",
         "No accidents reported, 1 Owner",
         "20998"
        ],
        [
         "Chevrolet Trailblazer",
         "2022",
         17582,
         "Black exterior, Black interior",
         "No accidents reported, 1 Owner",
         "22888"
        ],
        [
         "Nissan Altima",
         "2022",
         29182,
         "Gray exterior, Black interior",
         "1 accident reported, 2 Owners",
         "19998"
        ],
        [
         "BMW X6",
         "2023",
         8885,
         "Gray exterior, Black interior",
         "No accidents reported, 1 Owner",
         "81999"
        ],
        [
         "Ford Escape",
         "2022",
         26521,
         "Gray exterior, Black interior",
         "No accidents reported, 1 Owner",
         "28468"
        ],
        [
         "Mercedes-Benz GLC",
         "2022",
         27894,
         "Gray exterior, Gray interior",
         "No accidents reported, 2 Owners",
         "29999"
        ]
       ],
       "datasetInfos": [],
       "dbfsResultPath": null,
       "isJsonSchema": true,
       "metadata": {},
       "overflow": false,
       "plotOptions": {
        "customPlotOptions": {},
        "displayType": "table",
        "pivotAggregation": null,
        "pivotColumns": null,
        "xColumns": null,
        "yColumns": null
       },
       "removedWidgets": [],
       "schema": [
        {
         "metadata": "{}",
         "name": "BrandModel",
         "type": "\"string\""
        },
        {
         "metadata": "{}",
         "name": "year",
         "type": "\"string\""
        },
        {
         "metadata": "{}",
         "name": "miles_int(miles)",
         "type": "\"integer\""
        },
        {
         "metadata": "{}",
         "name": "color",
         "type": "\"string\""
        },
        {
         "metadata": "{}",
         "name": "condition",
         "type": "\"string\""
        },
        {
         "metadata": "{}",
         "name": "price",
         "type": "\"decimal(10,0)\""
        }
       ],
       "type": "table"
      }
     },
     "output_type": "display_data"
    }
   ],
   "source": [
    "from pyspark.sql.functions import udf\n",
    "from pyspark.sql.types import IntegerType\n",
    "\n",
    "\n",
    "def miles_int(s):\n",
    "    x = s.split(' ')\n",
    "    if ',' in x[0]:\n",
    "        y = x[0].split(',')\n",
    "        return int(y[0]+y[1])\n",
    "    return int(x[0])\n",
    "\n",
    "\n",
    "#print(miles_int('41,406 miles'))\n",
    "\n",
    "miles_int_udf=udf(miles_int,IntegerType())\n",
    "\n",
    "miles_int_DF = df_data_1.select(df_data_1.BrandModel,df_data_1.year, miles_int_udf(df_data_1.miles), df_data_1.color, df_data_1.condition,df_data_1.price)\n",
    "display(miles_int_DF)\n"
   ]
  },
  {
   "cell_type": "code",
   "execution_count": 0,
   "metadata": {
    "application/vnd.databricks.v1+cell": {
     "cellMetadata": {
      "byteLimit": 2048000,
      "rowLimit": 10000
     },
     "inputWidgets": {},
     "nuid": "55ccd434-9e7a-4e64-b9cb-1198daf41101",
     "showTitle": false,
     "title": ""
    }
   },
   "outputs": [
    {
     "output_type": "stream",
     "name": "stdout",
     "output_type": "stream",
     "text": [
      "Average of miles for cars sold in 2023: 6730.937799043062\nAverage of miles for cars sold in 2022: 23621.300330033002\nAverage of miles for cars sold in 2021: 34246.58658346334\nAverage of miles for cars sold in 2020: 39405.172557172555\nAverage of miles for cars sold in 2019: 53368.174468085104\nAverage of miles for cars sold in 2018: 56504.96174863388\n"
     ]
    }
   ],
   "source": [
    "from pyspark.sql.functions import col, avg\n",
    "avg_miles23 = df_data_1.filter(\"year == '2023'\").groupby('year').agg(avg(miles_int_udf(df_data_1.miles))).take(1)[0][1]\n",
    "avg_miles22 = df_data_1.filter(\"year == '2022'\").groupby('year').agg(avg(miles_int_udf(df_data_1.miles))).take(1)[0][1]\n",
    "avg_miles21 = df_data_2.filter(\"year == '2021'\").groupby('year').agg(avg(miles_int_udf(df_data_2.miles))).take(1)[0][1]\n",
    "avg_miles20 = df_data_2.filter(\"year == '2020'\").groupby('year').agg(avg(miles_int_udf(df_data_2.miles))).take(1)[0][1]\n",
    "avg_miles19 = df_data_3.filter(\"year == '2019'\").groupby('year').agg(avg(miles_int_udf(df_data_3.miles))).take(1)[0][1]\n",
    "avg_miles18 = df_data_3.filter(\"year == '2018'\").groupby('year').agg(avg(miles_int_udf(df_data_3.miles))).take(1)[0][1]\n",
    "print(\"Average of miles for cars sold in 2023: \"+str(avg_miles23))\n",
    "print(\"Average of miles for cars sold in 2022: \"+str(avg_miles22))\n",
    "print(\"Average of miles for cars sold in 2021: \"+str(avg_miles21))\n",
    "print(\"Average of miles for cars sold in 2020: \"+str(avg_miles20))\n",
    "print(\"Average of miles for cars sold in 2019: \"+str(avg_miles19))\n",
    "print(\"Average of miles for cars sold in 2018: \"+str(avg_miles18))"
   ]
  }
 ],
 "metadata": {
  "application/vnd.databricks.v1+notebook": {
   "dashboards": [],
   "language": "python",
   "notebookMetadata": {
    "pythonIndentUnit": 4
   },
   "notebookName": "Cloud_Teachnologies_Ziad_Elharairi_Assignment",
   "widgets": {}
  }
 },
 "nbformat": 4,
 "nbformat_minor": 0
}
